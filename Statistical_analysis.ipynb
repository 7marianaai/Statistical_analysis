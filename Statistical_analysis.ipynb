{
 "cells": [
  {
   "cell_type": "markdown",
   "id": "22ee32d1",
   "metadata": {},
   "source": [
    "# Исследование сервиса самокатов GoFast"
   ]
  },
  {
   "cell_type": "markdown",
   "id": "0d396efe",
   "metadata": {},
   "source": [
    "Исследование проводится на основе данных о пользователях, их поездках и подписках сервиса самокатов GoFast для проверки ряда гипотез. Данные были выгружены автоматически из базы данных сервиса и хранятся в 3 отдельных датасетах, данные об имени и возрасте изначально заполнялись пользователями.\n",
    "\n",
    "**Цель исследования:**\n",
    "Для увеличения числа пользователей с подпиской необходимо \n",
    "\n",
    "1. Определить, какая группа пользователей в зависимости от подписки тратит больше времени на поездки.\n",
    "2. Выявить, превышает ли среднее расстояние поездок пользователей с подпиской оптимальное с точки зрения износа самоката расстояние.\n",
    "3. Установить, превышает ли помесячная выручка от пользователей с подпиской выручку от пользователей без подписки. \n",
    "\n",
    "**Ход исследования:**\n",
    "Данные загружаются из следующих трех датасетов: ```/datasets/users_go.csv```, ```/datasets/rides_go.csv```, ```/datasets/subscriptions_go.csv```. Поскольку качество данных неизвестно, сначала необходимо их изучить. В случае обнаружения ошибок и их влияния на исследование на этапе предобработки данных будет рассмотрены варианты исправления ошибок без искажения конечных результатов. Исследовательский анализ поможет оценить выборку данных, затем таблицы будут объединены и будут созданы необходимые для проверки гипотез столбцы. \n",
    "\n",
    "Исследование пройдет в 7 этапов:\n",
    "- [Обзор данных](#one)\n",
    "- [Предобработка данных](#tw)\n",
    "- [Исследовательский анализ данных](#thr)\n",
    "- [Подготовка данных к анализу](#fr) объединение таблиц, создание дополнительных столбцов из агрегированных данных\n",
    "- [Подсчет выручки](#fi)\n",
    "- [Проверка гипотез](#six)\n",
    "- [Вывод](#sev)"
   ]
  },
  {
   "cell_type": "markdown",
   "id": "45c0176e",
   "metadata": {},
   "source": [
    "<a id='one'></a>\n",
    "## Обзор данных"
   ]
  },
  {
   "cell_type": "code",
   "execution_count": 1,
   "id": "f44a13be",
   "metadata": {},
   "outputs": [],
   "source": [
    "#импортируем необходимые библиотеки\n",
    "import pandas as pd\n",
    "from scipy import stats as st\n",
    "from matplotlib import pyplot as plt\n",
    "import numpy as np"
   ]
  },
  {
   "cell_type": "markdown",
   "id": "c42cbe00",
   "metadata": {},
   "source": [
    "### Загрузка данных"
   ]
  },
  {
   "cell_type": "code",
   "execution_count": 2,
   "id": "eff9f206",
   "metadata": {},
   "outputs": [],
   "source": [
    "try:\n",
    "    users = pd.read_csv('/datasets/users_go.csv')\n",
    "    rides = pd.read_csv('/datasets/rides_go.csv')\n",
    "    subscriptions = pd.read_csv('/datasets/subscriptions_go.csv')\n",
    "except:\n",
    "    users = pd.read_csv('https://code.s3.yandex.net/datasets/users_go.csv')\n",
    "    rides = pd.read_csv('https://code.s3.yandex.net/datasets/rides_go.csv')\n",
    "    subscriptions = pd.read_csv('https://code.s3.yandex.net/datasets/subscriptions_go.csv')"
   ]
  },
  {
   "cell_type": "markdown",
   "id": "612df95b",
   "metadata": {},
   "source": [
    "### Вывод общей информации"
   ]
  },
  {
   "cell_type": "code",
   "execution_count": 3,
   "id": "39e78461",
   "metadata": {},
   "outputs": [
    {
     "data": {
      "text/html": [
       "<div>\n",
       "<style scoped>\n",
       "    .dataframe tbody tr th:only-of-type {\n",
       "        vertical-align: middle;\n",
       "    }\n",
       "\n",
       "    .dataframe tbody tr th {\n",
       "        vertical-align: top;\n",
       "    }\n",
       "\n",
       "    .dataframe thead th {\n",
       "        text-align: right;\n",
       "    }\n",
       "</style>\n",
       "<table border=\"1\" class=\"dataframe\">\n",
       "  <thead>\n",
       "    <tr style=\"text-align: right;\">\n",
       "      <th></th>\n",
       "      <th>user_id</th>\n",
       "      <th>name</th>\n",
       "      <th>age</th>\n",
       "      <th>city</th>\n",
       "      <th>subscription_type</th>\n",
       "    </tr>\n",
       "  </thead>\n",
       "  <tbody>\n",
       "    <tr>\n",
       "      <th>0</th>\n",
       "      <td>1</td>\n",
       "      <td>Кира</td>\n",
       "      <td>22</td>\n",
       "      <td>Тюмень</td>\n",
       "      <td>ultra</td>\n",
       "    </tr>\n",
       "    <tr>\n",
       "      <th>1</th>\n",
       "      <td>2</td>\n",
       "      <td>Станислав</td>\n",
       "      <td>31</td>\n",
       "      <td>Омск</td>\n",
       "      <td>ultra</td>\n",
       "    </tr>\n",
       "    <tr>\n",
       "      <th>2</th>\n",
       "      <td>3</td>\n",
       "      <td>Алексей</td>\n",
       "      <td>20</td>\n",
       "      <td>Москва</td>\n",
       "      <td>ultra</td>\n",
       "    </tr>\n",
       "    <tr>\n",
       "      <th>3</th>\n",
       "      <td>4</td>\n",
       "      <td>Константин</td>\n",
       "      <td>26</td>\n",
       "      <td>Ростов-на-Дону</td>\n",
       "      <td>ultra</td>\n",
       "    </tr>\n",
       "    <tr>\n",
       "      <th>4</th>\n",
       "      <td>5</td>\n",
       "      <td>Адель</td>\n",
       "      <td>28</td>\n",
       "      <td>Омск</td>\n",
       "      <td>ultra</td>\n",
       "    </tr>\n",
       "    <tr>\n",
       "      <th>5</th>\n",
       "      <td>6</td>\n",
       "      <td>Регина</td>\n",
       "      <td>25</td>\n",
       "      <td>Краснодар</td>\n",
       "      <td>ultra</td>\n",
       "    </tr>\n",
       "    <tr>\n",
       "      <th>6</th>\n",
       "      <td>7</td>\n",
       "      <td>Игорь</td>\n",
       "      <td>23</td>\n",
       "      <td>Омск</td>\n",
       "      <td>ultra</td>\n",
       "    </tr>\n",
       "    <tr>\n",
       "      <th>7</th>\n",
       "      <td>8</td>\n",
       "      <td>Юрий</td>\n",
       "      <td>23</td>\n",
       "      <td>Краснодар</td>\n",
       "      <td>ultra</td>\n",
       "    </tr>\n",
       "    <tr>\n",
       "      <th>8</th>\n",
       "      <td>9</td>\n",
       "      <td>Ян</td>\n",
       "      <td>21</td>\n",
       "      <td>Пятигорск</td>\n",
       "      <td>ultra</td>\n",
       "    </tr>\n",
       "    <tr>\n",
       "      <th>9</th>\n",
       "      <td>10</td>\n",
       "      <td>Валерий</td>\n",
       "      <td>18</td>\n",
       "      <td>Екатеринбург</td>\n",
       "      <td>ultra</td>\n",
       "    </tr>\n",
       "  </tbody>\n",
       "</table>\n",
       "</div>"
      ],
      "text/plain": [
       "   user_id        name  age            city subscription_type\n",
       "0        1        Кира   22          Тюмень             ultra\n",
       "1        2   Станислав   31            Омск             ultra\n",
       "2        3     Алексей   20          Москва             ultra\n",
       "3        4  Константин   26  Ростов-на-Дону             ultra\n",
       "4        5       Адель   28            Омск             ultra\n",
       "5        6      Регина   25       Краснодар             ultra\n",
       "6        7       Игорь   23            Омск             ultra\n",
       "7        8        Юрий   23       Краснодар             ultra\n",
       "8        9          Ян   21       Пятигорск             ultra\n",
       "9       10     Валерий   18    Екатеринбург             ultra"
      ]
     },
     "execution_count": 3,
     "metadata": {},
     "output_type": "execute_result"
    }
   ],
   "source": [
    "#выведем первые строки датасета с информацией о пользователях\n",
    "users.head(10)"
   ]
  },
  {
   "cell_type": "code",
   "execution_count": 4,
   "id": "28857efb",
   "metadata": {},
   "outputs": [
    {
     "data": {
      "text/html": [
       "<div>\n",
       "<style scoped>\n",
       "    .dataframe tbody tr th:only-of-type {\n",
       "        vertical-align: middle;\n",
       "    }\n",
       "\n",
       "    .dataframe tbody tr th {\n",
       "        vertical-align: top;\n",
       "    }\n",
       "\n",
       "    .dataframe thead th {\n",
       "        text-align: right;\n",
       "    }\n",
       "</style>\n",
       "<table border=\"1\" class=\"dataframe\">\n",
       "  <thead>\n",
       "    <tr style=\"text-align: right;\">\n",
       "      <th></th>\n",
       "      <th>user_id</th>\n",
       "      <th>distance</th>\n",
       "      <th>duration</th>\n",
       "      <th>date</th>\n",
       "    </tr>\n",
       "  </thead>\n",
       "  <tbody>\n",
       "    <tr>\n",
       "      <th>0</th>\n",
       "      <td>1</td>\n",
       "      <td>4409.919140</td>\n",
       "      <td>25.599769</td>\n",
       "      <td>2021-01-01</td>\n",
       "    </tr>\n",
       "    <tr>\n",
       "      <th>1</th>\n",
       "      <td>1</td>\n",
       "      <td>2617.592153</td>\n",
       "      <td>15.816871</td>\n",
       "      <td>2021-01-18</td>\n",
       "    </tr>\n",
       "    <tr>\n",
       "      <th>2</th>\n",
       "      <td>1</td>\n",
       "      <td>754.159807</td>\n",
       "      <td>6.232113</td>\n",
       "      <td>2021-04-20</td>\n",
       "    </tr>\n",
       "    <tr>\n",
       "      <th>3</th>\n",
       "      <td>1</td>\n",
       "      <td>2694.783254</td>\n",
       "      <td>18.511000</td>\n",
       "      <td>2021-08-11</td>\n",
       "    </tr>\n",
       "    <tr>\n",
       "      <th>4</th>\n",
       "      <td>1</td>\n",
       "      <td>4028.687306</td>\n",
       "      <td>26.265803</td>\n",
       "      <td>2021-08-28</td>\n",
       "    </tr>\n",
       "    <tr>\n",
       "      <th>5</th>\n",
       "      <td>1</td>\n",
       "      <td>2770.890808</td>\n",
       "      <td>16.650138</td>\n",
       "      <td>2021-10-09</td>\n",
       "    </tr>\n",
       "    <tr>\n",
       "      <th>6</th>\n",
       "      <td>1</td>\n",
       "      <td>3039.020292</td>\n",
       "      <td>14.927879</td>\n",
       "      <td>2021-10-19</td>\n",
       "    </tr>\n",
       "    <tr>\n",
       "      <th>7</th>\n",
       "      <td>1</td>\n",
       "      <td>2842.118050</td>\n",
       "      <td>23.117468</td>\n",
       "      <td>2021-11-06</td>\n",
       "    </tr>\n",
       "    <tr>\n",
       "      <th>8</th>\n",
       "      <td>1</td>\n",
       "      <td>3412.690668</td>\n",
       "      <td>15.238072</td>\n",
       "      <td>2021-11-14</td>\n",
       "    </tr>\n",
       "    <tr>\n",
       "      <th>9</th>\n",
       "      <td>1</td>\n",
       "      <td>748.690645</td>\n",
       "      <td>15.041884</td>\n",
       "      <td>2021-11-22</td>\n",
       "    </tr>\n",
       "  </tbody>\n",
       "</table>\n",
       "</div>"
      ],
      "text/plain": [
       "   user_id     distance   duration        date\n",
       "0        1  4409.919140  25.599769  2021-01-01\n",
       "1        1  2617.592153  15.816871  2021-01-18\n",
       "2        1   754.159807   6.232113  2021-04-20\n",
       "3        1  2694.783254  18.511000  2021-08-11\n",
       "4        1  4028.687306  26.265803  2021-08-28\n",
       "5        1  2770.890808  16.650138  2021-10-09\n",
       "6        1  3039.020292  14.927879  2021-10-19\n",
       "7        1  2842.118050  23.117468  2021-11-06\n",
       "8        1  3412.690668  15.238072  2021-11-14\n",
       "9        1   748.690645  15.041884  2021-11-22"
      ]
     },
     "execution_count": 4,
     "metadata": {},
     "output_type": "execute_result"
    }
   ],
   "source": [
    "#выведем первые строки датасета с информацией о поездках\n",
    "rides.head(10)"
   ]
  },
  {
   "cell_type": "code",
   "execution_count": 5,
   "id": "31686f48",
   "metadata": {},
   "outputs": [
    {
     "data": {
      "text/html": [
       "<div>\n",
       "<style scoped>\n",
       "    .dataframe tbody tr th:only-of-type {\n",
       "        vertical-align: middle;\n",
       "    }\n",
       "\n",
       "    .dataframe tbody tr th {\n",
       "        vertical-align: top;\n",
       "    }\n",
       "\n",
       "    .dataframe thead th {\n",
       "        text-align: right;\n",
       "    }\n",
       "</style>\n",
       "<table border=\"1\" class=\"dataframe\">\n",
       "  <thead>\n",
       "    <tr style=\"text-align: right;\">\n",
       "      <th></th>\n",
       "      <th>subscription_type</th>\n",
       "      <th>minute_price</th>\n",
       "      <th>start_ride_price</th>\n",
       "      <th>subscription_fee</th>\n",
       "    </tr>\n",
       "  </thead>\n",
       "  <tbody>\n",
       "    <tr>\n",
       "      <th>0</th>\n",
       "      <td>free</td>\n",
       "      <td>8</td>\n",
       "      <td>50</td>\n",
       "      <td>0</td>\n",
       "    </tr>\n",
       "    <tr>\n",
       "      <th>1</th>\n",
       "      <td>ultra</td>\n",
       "      <td>6</td>\n",
       "      <td>0</td>\n",
       "      <td>199</td>\n",
       "    </tr>\n",
       "  </tbody>\n",
       "</table>\n",
       "</div>"
      ],
      "text/plain": [
       "  subscription_type  minute_price  start_ride_price  subscription_fee\n",
       "0              free             8                50                 0\n",
       "1             ultra             6                 0               199"
      ]
     },
     "execution_count": 5,
     "metadata": {},
     "output_type": "execute_result"
    }
   ],
   "source": [
    "#выведем информацию о подписках\n",
    "subscriptions.head()"
   ]
  },
  {
   "cell_type": "code",
   "execution_count": 6,
   "id": "93b4a1d2",
   "metadata": {},
   "outputs": [
    {
     "name": "stdout",
     "output_type": "stream",
     "text": [
      "<class 'pandas.core.frame.DataFrame'>\n",
      "RangeIndex: 1565 entries, 0 to 1564\n",
      "Data columns (total 5 columns):\n",
      " #   Column             Non-Null Count  Dtype \n",
      "---  ------             --------------  ----- \n",
      " 0   user_id            1565 non-null   int64 \n",
      " 1   name               1565 non-null   object\n",
      " 2   age                1565 non-null   int64 \n",
      " 3   city               1565 non-null   object\n",
      " 4   subscription_type  1565 non-null   object\n",
      "dtypes: int64(2), object(3)\n",
      "memory usage: 61.3+ KB\n"
     ]
    }
   ],
   "source": [
    "#изучим информацию о пользователях\n",
    "users.info()"
   ]
  },
  {
   "cell_type": "code",
   "execution_count": 7,
   "id": "908c9b42",
   "metadata": {},
   "outputs": [
    {
     "name": "stdout",
     "output_type": "stream",
     "text": [
      "<class 'pandas.core.frame.DataFrame'>\n",
      "RangeIndex: 18068 entries, 0 to 18067\n",
      "Data columns (total 4 columns):\n",
      " #   Column    Non-Null Count  Dtype  \n",
      "---  ------    --------------  -----  \n",
      " 0   user_id   18068 non-null  int64  \n",
      " 1   distance  18068 non-null  float64\n",
      " 2   duration  18068 non-null  float64\n",
      " 3   date      18068 non-null  object \n",
      "dtypes: float64(2), int64(1), object(1)\n",
      "memory usage: 564.8+ KB\n"
     ]
    }
   ],
   "source": [
    "#изучим информацию о поездках\n",
    "rides.info()"
   ]
  },
  {
   "cell_type": "code",
   "execution_count": 8,
   "id": "e53e6781",
   "metadata": {},
   "outputs": [
    {
     "data": {
      "image/png": "[encoded data removed]",
      "text/plain": [
       "<Figure size 432x288 with 2 Axes>"
      ]
     },
     "metadata": {
      "needs_background": "light"
     },
     "output_type": "display_data"
    }
   ],
   "source": [
    "#выведем распределение числовых значений в датасете для проверки на наличие аномалий\n",
    "users.hist();"
   ]
  },
  {
   "cell_type": "code",
   "execution_count": 9,
   "id": "07624d04",
   "metadata": {},
   "outputs": [
    {
     "data": {
      "text/plain": [
       "0          1\n",
       "1          2\n",
       "2          3\n",
       "3          4\n",
       "4          5\n",
       "        ... \n",
       "1529    1530\n",
       "1530    1531\n",
       "1531    1532\n",
       "1532    1533\n",
       "1533    1534\n",
       "Name: user_id, Length: 1565, dtype: int64"
      ]
     },
     "execution_count": 9,
     "metadata": {},
     "output_type": "execute_result"
    }
   ],
   "source": [
    "#изучим число уникальных значений\n",
    "users.user_id.sort_values()"
   ]
  },
  {
   "cell_type": "code",
   "execution_count": 10,
   "id": "93ea3200",
   "metadata": {},
   "outputs": [
    {
     "data": {
      "image/png": "[encoded data removed]",
      "text/plain": [
       "<Figure size 432x288 with 4 Axes>"
      ]
     },
     "metadata": {
      "needs_background": "light"
     },
     "output_type": "display_data"
    }
   ],
   "source": [
    "#выведем распределение числовых значений в датасете для проверки на наличие аномалий\n",
    "rides.hist();"
   ]
  },
  {
   "cell_type": "markdown",
   "id": "19430c51",
   "metadata": {},
   "source": [
    "**Вывод:**\n",
    "- В датасете suscripions хранится общая информация о подписках, данные в ней соответствуют информации указанной в описании проекта.\n",
    "- Названия столбцов не требуют исправления.\n",
    "- В датасете о пользователях и поездках не ожидается наличие пропусков, но возможно наличие дубликатов, поскольку число уникальных значений в столбце с уникальным идентификатором пользователя отличается от количества строк с данными о пользователях примерно на 30 значений.\n",
    "- Числовые значения распределены нормально, на данном этапе явно аномальные значния не выделены, но стоит проверить данные в датасете о поездах - соотношение дистанции и времени поездки. Также необходимо проверить значения близкие к 0.\n",
    "- Необходимо изменить тип данных в столбце с датой совершения поездки для дальнейшей работы с ее компонентами."
   ]
  },
  {
   "cell_type": "markdown",
   "id": "e95ebca7",
   "metadata": {},
   "source": [
    "<a id='tw'></a>\n",
    "## Предобработка данных"
   ]
  },
  {
   "cell_type": "code",
   "execution_count": 11,
   "id": "7a060695",
   "metadata": {},
   "outputs": [
    {
     "name": "stdout",
     "output_type": "stream",
     "text": [
      "user_id              0\n",
      "name                 0\n",
      "age                  0\n",
      "city                 0\n",
      "subscription_type    0\n",
      "dtype: int64\n"
     ]
    },
    {
     "data": {
      "text/plain": [
       "user_id     0\n",
       "distance    0\n",
       "duration    0\n",
       "date        0\n",
       "dtype: int64"
      ]
     },
     "execution_count": 11,
     "metadata": {},
     "output_type": "execute_result"
    }
   ],
   "source": [
    "#проверим наличие пропусков \n",
    "print(users.isna().sum())\n",
    "rides.isna().sum()"
   ]
  },
  {
   "cell_type": "code",
   "execution_count": 12,
   "id": "f022ad91",
   "metadata": {},
   "outputs": [
    {
     "data": {
      "text/plain": [
       "31"
      ]
     },
     "execution_count": 12,
     "metadata": {},
     "output_type": "execute_result"
    }
   ],
   "source": [
    "#проверим наличие дубликатов\n",
    "users.duplicated().sum()"
   ]
  },
  {
   "cell_type": "code",
   "execution_count": 13,
   "id": "d3840016",
   "metadata": {},
   "outputs": [
    {
     "data": {
      "text/plain": [
       "0"
      ]
     },
     "execution_count": 13,
     "metadata": {},
     "output_type": "execute_result"
    }
   ],
   "source": [
    "rides.duplicated().sum()"
   ]
  },
  {
   "cell_type": "code",
   "execution_count": 14,
   "id": "2c3aa7ac",
   "metadata": {},
   "outputs": [],
   "source": [
    "#удалим дубликаты с заменой индекса\n",
    "users = users.drop_duplicates().reset_index(drop=True)"
   ]
  },
  {
   "cell_type": "code",
   "execution_count": 15,
   "id": "b7c7e4da",
   "metadata": {},
   "outputs": [
    {
     "data": {
      "text/plain": [
       "array(['Екатеринбург', 'Краснодар', 'Москва', 'Омск', 'Пятигорск',\n",
       "       'Ростов-на-Дону', 'Сочи', 'Тюмень'], dtype=object)"
      ]
     },
     "execution_count": 15,
     "metadata": {},
     "output_type": "execute_result"
    }
   ],
   "source": [
    "#проверим наличие неявных дубликатов в столбце с названиями города\n",
    "users.city.sort_values().unique()"
   ]
  },
  {
   "cell_type": "code",
   "execution_count": 16,
   "id": "af6d202c",
   "metadata": {},
   "outputs": [],
   "source": [
    "#изменим тип данных в столбце с датой\n",
    "rides['date'] = pd.to_datetime(rides['date'], format='%Y-%m-%d')"
   ]
  },
  {
   "cell_type": "code",
   "execution_count": 17,
   "id": "289563b3",
   "metadata": {},
   "outputs": [
    {
     "data": {
      "text/plain": [
       "0         1\n",
       "1         1\n",
       "2         4\n",
       "3         8\n",
       "4         8\n",
       "         ..\n",
       "18063    11\n",
       "18064    11\n",
       "18065    11\n",
       "18066    11\n",
       "18067    12\n",
       "Name: month, Length: 18068, dtype: int64"
      ]
     },
     "execution_count": 17,
     "metadata": {},
     "output_type": "execute_result"
    }
   ],
   "source": [
    "#создадим столбец с месяцем\n",
    "rides['month'] = rides['date'].dt.month\n",
    "rides['month']"
   ]
  },
  {
   "cell_type": "markdown",
   "id": "98bdffab",
   "metadata": {},
   "source": [
    "**Вывод:**\n",
    "- В столбце с датой поздки был изменен тип данных на datetime, а также создан отдельный столбц с обозначением месяца для дальнейшего анализа данных\n",
    "- Изначальные данные были без большого числа ошибок - были удалены явные дубли, пропусков нет, неявных дублей из-за написания городов также нет. "
   ]
  },
  {
   "cell_type": "markdown",
   "id": "212593c7",
   "metadata": {},
   "source": [
    "<a id='thr'></a>\n",
    "## Исследовательский анализ данных"
   ]
  },
  {
   "cell_type": "markdown",
   "id": "26db5dc9",
   "metadata": {},
   "source": [
    "Рассмотрим подробнее данные о:\n",
    "1. частоте встречаемости городов\n",
    "2. соотношении пользователей с подпиской и без подписки\n",
    "3. возрасте пользователей\n",
    "3. расстоянии, которое пользователь преодолел за одну поездку\n",
    "3. продолжительности поездок"
   ]
  },
  {
   "cell_type": "markdown",
   "id": "52bc6ff2",
   "metadata": {},
   "source": [
    "### Город"
   ]
  },
  {
   "cell_type": "code",
   "execution_count": 18,
   "id": "e3a4274c",
   "metadata": {},
   "outputs": [
    {
     "data": {
      "text/plain": [
       "Москва            168\n",
       "Тюмень            180\n",
       "Омск              183\n",
       "Сочи              189\n",
       "Краснодар         193\n",
       "Ростов-на-Дону    198\n",
       "Екатеринбург      204\n",
       "Пятигорск         219\n",
       "Name: city, dtype: int64"
      ]
     },
     "execution_count": 18,
     "metadata": {},
     "output_type": "execute_result"
    }
   ],
   "source": [
    "#выведем количество пользователей по городам\n",
    "users.city.value_counts().sort_values()"
   ]
  },
  {
   "cell_type": "code",
   "execution_count": 19,
   "id": "6db64985",
   "metadata": {},
   "outputs": [
    {
     "data": {
      "image/png": "[encoded data removed]",
      "text/plain": [
       "<Figure size 1080x576 with 1 Axes>"
      ]
     },
     "metadata": {},
     "output_type": "display_data"
    }
   ],
   "source": [
    "#визуализируем данные в процентных долях\n",
    "users['city'].value_counts(1).plot(kind='pie', figsize=(15, 8), autopct='%1.1f%%', title='Доля пользователей в городах России', label='Город');"
   ]
  },
  {
   "cell_type": "code",
   "execution_count": 20,
   "id": "b36719c3",
   "metadata": {},
   "outputs": [
    {
     "data": {
      "image/png": "[encoded data removed]",
      "text/plain": [
       "<Figure size 1080x504 with 1 Axes>"
      ]
     },
     "metadata": {
      "needs_background": "light"
     },
     "output_type": "display_data"
    }
   ],
   "source": [
    "users['city'].value_counts().plot(kind='bar', figsize=(15, 7), title='Доля пользователей в различных городах России')\n",
    "plt.ylabel('Количество пользователей')\n",
    "plt.show()"
   ]
  },
  {
   "cell_type": "markdown",
   "id": "eff1d304",
   "metadata": {},
   "source": [
    "- Доля пользователей из различнных городов в среднем одинаковая, с максимальной разницей в 3.3%. \n",
    "- Больше всего пользователей сервиса в южных городах России, что может объясняться более частым пользованием самокатов из-за хорошего климата: большего числа теплых дней и дней без осадков.\n",
    "- В Москве может быть меньше клиентов из-за большего числа альтернатив в столице - развитая сеть транспорта, которая позволяет легко добраться до нужного места и без самоката, а также большее число конкурентов.\n",
    "- На число и долю пользователей также может влиять благоустроенность города: есть ли достоточно хороших тротуаров и дорог для перемещения по городу на самокате, а также удобство и возможность преодолять марштрут на другом транспорте."
   ]
  },
  {
   "cell_type": "markdown",
   "id": "cfdaec42",
   "metadata": {},
   "source": [
    "### Подписка"
   ]
  },
  {
   "cell_type": "code",
   "execution_count": 21,
   "id": "d2271c64",
   "metadata": {},
   "outputs": [
    {
     "data": {
      "text/plain": [
       "free     835\n",
       "ultra    699\n",
       "Name: subscription_type, dtype: int64"
      ]
     },
     "execution_count": 21,
     "metadata": {},
     "output_type": "execute_result"
    }
   ],
   "source": [
    "#выведем количество пользователей с подпиской и без\n",
    "users.subscription_type.value_counts()"
   ]
  },
  {
   "cell_type": "code",
   "execution_count": 22,
   "id": "e14011a2",
   "metadata": {},
   "outputs": [
    {
     "data": {
      "image/png": "[encoded data removed]",
      "text/plain": [
       "<Figure size 936x504 with 1 Axes>"
      ]
     },
     "metadata": {},
     "output_type": "display_data"
    }
   ],
   "source": [
    "#визуализируем данные\n",
    "users.subscription_type.value_counts(1).plot(kind='pie', figsize=(13, 7), autopct='%1.1f%%', title='Доля пользователей в зависимости от подписки', label='Вид подписки');"
   ]
  },
  {
   "cell_type": "code",
   "execution_count": 23,
   "id": "237032a5",
   "metadata": {},
   "outputs": [
    {
     "data": {
      "text/html": [
       "<div>\n",
       "<style scoped>\n",
       "    .dataframe tbody tr th:only-of-type {\n",
       "        vertical-align: middle;\n",
       "    }\n",
       "\n",
       "    .dataframe tbody tr th {\n",
       "        vertical-align: top;\n",
       "    }\n",
       "\n",
       "    .dataframe thead th {\n",
       "        text-align: right;\n",
       "    }\n",
       "</style>\n",
       "<table border=\"1\" class=\"dataframe\">\n",
       "  <thead>\n",
       "    <tr style=\"text-align: right;\">\n",
       "      <th>subscription_type</th>\n",
       "      <th>free</th>\n",
       "      <th>ultra</th>\n",
       "    </tr>\n",
       "    <tr>\n",
       "      <th>city</th>\n",
       "      <th></th>\n",
       "      <th></th>\n",
       "    </tr>\n",
       "  </thead>\n",
       "  <tbody>\n",
       "    <tr>\n",
       "      <th>Екатеринбург</th>\n",
       "      <td>112</td>\n",
       "      <td>92</td>\n",
       "    </tr>\n",
       "    <tr>\n",
       "      <th>Краснодар</th>\n",
       "      <td>112</td>\n",
       "      <td>81</td>\n",
       "    </tr>\n",
       "    <tr>\n",
       "      <th>Москва</th>\n",
       "      <td>84</td>\n",
       "      <td>84</td>\n",
       "    </tr>\n",
       "    <tr>\n",
       "      <th>Омск</th>\n",
       "      <td>92</td>\n",
       "      <td>91</td>\n",
       "    </tr>\n",
       "    <tr>\n",
       "      <th>Пятигорск</th>\n",
       "      <td>125</td>\n",
       "      <td>94</td>\n",
       "    </tr>\n",
       "    <tr>\n",
       "      <th>Ростов-на-Дону</th>\n",
       "      <td>109</td>\n",
       "      <td>89</td>\n",
       "    </tr>\n",
       "    <tr>\n",
       "      <th>Сочи</th>\n",
       "      <td>103</td>\n",
       "      <td>86</td>\n",
       "    </tr>\n",
       "    <tr>\n",
       "      <th>Тюмень</th>\n",
       "      <td>98</td>\n",
       "      <td>82</td>\n",
       "    </tr>\n",
       "  </tbody>\n",
       "</table>\n",
       "</div>"
      ],
      "text/plain": [
       "subscription_type  free  ultra\n",
       "city                          \n",
       "Екатеринбург        112     92\n",
       "Краснодар           112     81\n",
       "Москва               84     84\n",
       "Омск                 92     91\n",
       "Пятигорск           125     94\n",
       "Ростов-на-Дону      109     89\n",
       "Сочи                103     86\n",
       "Тюмень               98     82"
      ]
     },
     "execution_count": 23,
     "metadata": {},
     "output_type": "execute_result"
    }
   ],
   "source": [
    "#выведем распределение подписок по городам\n",
    "city_sus = users.pivot_table(index='city', columns='subscription_type', values='name', aggfunc='count')\n",
    "city_sus "
   ]
  },
  {
   "cell_type": "code",
   "execution_count": 24,
   "id": "4971f05b",
   "metadata": {},
   "outputs": [
    {
     "data": {
      "image/png": "[encoded data removed]",
      "text/plain": [
       "<Figure size 1080x504 with 1 Axes>"
      ]
     },
     "metadata": {
      "needs_background": "light"
     },
     "output_type": "display_data"
    }
   ],
   "source": [
    "city_sus.plot(kind='barh', figsize=(15, 7), title='Распределение пользователей с подпиской и без по городам')\n",
    "plt.xlabel('Количество пользователей')\n",
    "plt.ylabel('Город')\n",
    "plt.show()"
   ]
  },
  {
   "cell_type": "markdown",
   "id": "9ab75f9d",
   "metadata": {},
   "source": [
    "- Большее число пользователей предпочитает бесплатный тип подписки, однако, разница между распределением пользователей по двум видам подписки составляет около 10%. Это может объясняться частотой пользования самокатами: люди, которые часто пользуются сервисом находят более выгодной платную подписку, а пользователям, которым необходимы самокаты лишь изредка выгоднее оплачивать по тарифу бесплатной подписки. Проверим данную гипотезу ниже.\n",
    "- В соответствии с распределением по городам в Москве и Омске равное или незначительное отличие в числе пользователей двух подписок, наибольшая разница заметна в южных городах: Пятигорске и Краснодаре, где пользователи чаще предпочитают сервис с бесплатной подпиской. "
   ]
  },
  {
   "cell_type": "markdown",
   "id": "c44c6c5a",
   "metadata": {},
   "source": [
    "### Возраст"
   ]
  },
  {
   "cell_type": "code",
   "execution_count": 25,
   "id": "31d38e08",
   "metadata": {},
   "outputs": [
    {
     "data": {
      "text/plain": [
       "array([12, 13, 14, 15, 16, 17, 18, 19, 20, 21, 22, 23, 24, 25, 26, 27, 28,\n",
       "       29, 30, 31, 32, 33, 34, 35, 36, 37, 38, 39, 43])"
      ]
     },
     "execution_count": 25,
     "metadata": {},
     "output_type": "execute_result"
    }
   ],
   "source": [
    "#выведем значения возрастов пользователей\n",
    "users.age.sort_values().unique()"
   ]
  },
  {
   "cell_type": "code",
   "execution_count": 26,
   "id": "3ed2faf3",
   "metadata": {},
   "outputs": [
    {
     "data": {
      "image/png": "[encoded data removed]",
      "text/plain": [
       "<Figure size 1080x504 with 1 Axes>"
      ]
     },
     "metadata": {
      "needs_background": "light"
     },
     "output_type": "display_data"
    }
   ],
   "source": [
    "#визуализируем распределение данных\n",
    "users.age.hist(bins=60, figsize=(15, 7))\n",
    "plt.title('Распределение пользователей по возрасту')\n",
    "plt.xlabel('Возраст')\n",
    "plt.ylabel('Количество пользователей')\n",
    "plt.show()"
   ]
  },
  {
   "cell_type": "code",
   "execution_count": 27,
   "id": "fe612885",
   "metadata": {},
   "outputs": [
    {
     "data": {
      "image/png": "[encoded data removed]",
      "text/plain": [
       "<Figure size 1080x504 with 1 Axes>"
      ]
     },
     "metadata": {
      "needs_background": "light"
     },
     "output_type": "display_data"
    }
   ],
   "source": [
    "#визуализируем выбросы\n",
    "users.age.plot.box(figsize=(15, 7), label=' Возраст');"
   ]
  },
  {
   "cell_type": "code",
   "execution_count": 28,
   "id": "af26523c",
   "metadata": {},
   "outputs": [
    {
     "data": {
      "text/plain": [
       "count    1534.000000\n",
       "mean       24.903520\n",
       "std         4.572367\n",
       "min        12.000000\n",
       "25%        22.000000\n",
       "50%        25.000000\n",
       "75%        28.000000\n",
       "max        43.000000\n",
       "Name: age, dtype: float64"
      ]
     },
     "execution_count": 28,
     "metadata": {},
     "output_type": "execute_result"
    }
   ],
   "source": [
    "users.age.describe()"
   ]
  },
  {
   "cell_type": "markdown",
   "id": "494b2051",
   "metadata": {},
   "source": [
    "- Законодательно нет возрастных ограничений на пользование самокатом, поэтому значения до 18 лет допустимы.\n",
    "- Самокатным сервисом пользуется в абсолютном большинстве молодежь - люди от 14 до 35 лет.\n",
    "- Возраст от 22 до 28 является преобладающим с пиком в 25 лет, что является ожидаемым, так как в основном относительно новым способом перемещения по городу пользуются более молодые люди. "
   ]
  },
  {
   "cell_type": "markdown",
   "id": "a41290be",
   "metadata": {},
   "source": [
    "### Расстояние и продолжительность поездки"
   ]
  },
  {
   "cell_type": "code",
   "execution_count": 29,
   "id": "1005ea14",
   "metadata": {},
   "outputs": [
    {
     "data": {
      "text/plain": [
       "0        10.34\n",
       "1         9.93\n",
       "2         7.26\n",
       "3         8.73\n",
       "4         9.20\n",
       "         ...  \n",
       "18063    11.44\n",
       "18064     7.96\n",
       "18065    12.45\n",
       "18066    10.44\n",
       "18067     8.95\n",
       "Name: avr_speed, Length: 18068, dtype: float64"
      ]
     },
     "execution_count": 29,
     "metadata": {},
     "output_type": "execute_result"
    }
   ],
   "source": [
    "#рассчитаем среднюю скорость поездки в кч/ч\n",
    "rides['avr_speed'] = round((rides['distance'] / rides['duration']) * 0.06, 2)\n",
    "rides['avr_speed']"
   ]
  },
  {
   "cell_type": "code",
   "execution_count": 30,
   "id": "293f4cfb",
   "metadata": {},
   "outputs": [
    {
     "data": {
      "image/png": "[encoded data removed]",
      "text/plain": [
       "<Figure size 1080x504 with 1 Axes>"
      ]
     },
     "metadata": {
      "needs_background": "light"
     },
     "output_type": "display_data"
    }
   ],
   "source": [
    "rides['avr_speed'].hist(bins=100, figsize=(15, 7));\n",
    "plt.title('Распределение пользователей по средней скорости')\n",
    "plt.xlabel('Средняя скорость')\n",
    "plt.ylabel('Количество пользователей')\n",
    "plt.show()"
   ]
  },
  {
   "cell_type": "markdown",
   "id": "0f2d2d7f",
   "metadata": {},
   "source": [
    "На гистаграмме видно, что существуют аномально большие значения, скорее всего связанные с делением расстояния на близкое к 0 время. Рассмотрим значения меньше 1 минут."
   ]
  },
  {
   "cell_type": "code",
   "execution_count": 31,
   "id": "a0517037",
   "metadata": {
    "scrolled": true
   },
   "outputs": [
    {
     "data": {
      "text/html": [
       "<div>\n",
       "<style scoped>\n",
       "    .dataframe tbody tr th:only-of-type {\n",
       "        vertical-align: middle;\n",
       "    }\n",
       "\n",
       "    .dataframe tbody tr th {\n",
       "        vertical-align: top;\n",
       "    }\n",
       "\n",
       "    .dataframe thead th {\n",
       "        text-align: right;\n",
       "    }\n",
       "</style>\n",
       "<table border=\"1\" class=\"dataframe\">\n",
       "  <thead>\n",
       "    <tr style=\"text-align: right;\">\n",
       "      <th></th>\n",
       "      <th>user_id</th>\n",
       "      <th>distance</th>\n",
       "      <th>duration</th>\n",
       "      <th>date</th>\n",
       "      <th>month</th>\n",
       "      <th>avr_speed</th>\n",
       "    </tr>\n",
       "  </thead>\n",
       "  <tbody>\n",
       "    <tr>\n",
       "      <th>6531</th>\n",
       "      <td>701</td>\n",
       "      <td>4196.445201</td>\n",
       "      <td>0.5</td>\n",
       "      <td>2021-08-31</td>\n",
       "      <td>8</td>\n",
       "      <td>503.57</td>\n",
       "    </tr>\n",
       "    <tr>\n",
       "      <th>6570</th>\n",
       "      <td>704</td>\n",
       "      <td>4830.824371</td>\n",
       "      <td>0.5</td>\n",
       "      <td>2021-10-14</td>\n",
       "      <td>10</td>\n",
       "      <td>579.70</td>\n",
       "    </tr>\n",
       "    <tr>\n",
       "      <th>6680</th>\n",
       "      <td>712</td>\n",
       "      <td>4684.004397</td>\n",
       "      <td>0.5</td>\n",
       "      <td>2021-03-04</td>\n",
       "      <td>3</td>\n",
       "      <td>562.08</td>\n",
       "    </tr>\n",
       "    <tr>\n",
       "      <th>6695</th>\n",
       "      <td>713</td>\n",
       "      <td>5215.642710</td>\n",
       "      <td>0.5</td>\n",
       "      <td>2021-02-25</td>\n",
       "      <td>2</td>\n",
       "      <td>625.88</td>\n",
       "    </tr>\n",
       "    <tr>\n",
       "      <th>6768</th>\n",
       "      <td>718</td>\n",
       "      <td>5197.436649</td>\n",
       "      <td>0.5</td>\n",
       "      <td>2021-02-11</td>\n",
       "      <td>2</td>\n",
       "      <td>623.69</td>\n",
       "    </tr>\n",
       "    <tr>\n",
       "      <th>...</th>\n",
       "      <td>...</td>\n",
       "      <td>...</td>\n",
       "      <td>...</td>\n",
       "      <td>...</td>\n",
       "      <td>...</td>\n",
       "      <td>...</td>\n",
       "    </tr>\n",
       "    <tr>\n",
       "      <th>17004</th>\n",
       "      <td>1460</td>\n",
       "      <td>5531.335845</td>\n",
       "      <td>0.5</td>\n",
       "      <td>2021-01-19</td>\n",
       "      <td>1</td>\n",
       "      <td>663.76</td>\n",
       "    </tr>\n",
       "    <tr>\n",
       "      <th>17242</th>\n",
       "      <td>1477</td>\n",
       "      <td>6724.932981</td>\n",
       "      <td>0.5</td>\n",
       "      <td>2021-01-12</td>\n",
       "      <td>1</td>\n",
       "      <td>806.99</td>\n",
       "    </tr>\n",
       "    <tr>\n",
       "      <th>17314</th>\n",
       "      <td>1483</td>\n",
       "      <td>4445.481070</td>\n",
       "      <td>0.5</td>\n",
       "      <td>2021-03-06</td>\n",
       "      <td>3</td>\n",
       "      <td>533.46</td>\n",
       "    </tr>\n",
       "    <tr>\n",
       "      <th>17505</th>\n",
       "      <td>1496</td>\n",
       "      <td>5722.551787</td>\n",
       "      <td>0.5</td>\n",
       "      <td>2021-02-14</td>\n",
       "      <td>2</td>\n",
       "      <td>686.71</td>\n",
       "    </tr>\n",
       "    <tr>\n",
       "      <th>17909</th>\n",
       "      <td>1524</td>\n",
       "      <td>4103.998874</td>\n",
       "      <td>0.5</td>\n",
       "      <td>2021-06-18</td>\n",
       "      <td>6</td>\n",
       "      <td>492.48</td>\n",
       "    </tr>\n",
       "  </tbody>\n",
       "</table>\n",
       "<p>95 rows × 6 columns</p>\n",
       "</div>"
      ],
      "text/plain": [
       "       user_id     distance  duration       date  month  avr_speed\n",
       "6531       701  4196.445201       0.5 2021-08-31      8     503.57\n",
       "6570       704  4830.824371       0.5 2021-10-14     10     579.70\n",
       "6680       712  4684.004397       0.5 2021-03-04      3     562.08\n",
       "6695       713  5215.642710       0.5 2021-02-25      2     625.88\n",
       "6768       718  5197.436649       0.5 2021-02-11      2     623.69\n",
       "...        ...          ...       ...        ...    ...        ...\n",
       "17004     1460  5531.335845       0.5 2021-01-19      1     663.76\n",
       "17242     1477  6724.932981       0.5 2021-01-12      1     806.99\n",
       "17314     1483  4445.481070       0.5 2021-03-06      3     533.46\n",
       "17505     1496  5722.551787       0.5 2021-02-14      2     686.71\n",
       "17909     1524  4103.998874       0.5 2021-06-18      6     492.48\n",
       "\n",
       "[95 rows x 6 columns]"
      ]
     },
     "execution_count": 31,
     "metadata": {},
     "output_type": "execute_result"
    }
   ],
   "source": [
    "mask = rides.loc[rides['duration'] < 1]\n",
    "mask"
   ]
  },
  {
   "cell_type": "markdown",
   "id": "9a23a021",
   "metadata": {},
   "source": [
    "Эти данные из датасета не удаляем, поскольку оплата за использование самокатов была получена (что лучше проверить), а значит нужно учесть данную информацию при проверке гипотез, чтобы отсутствие данных не привело к искажению результата, при этом необходима дополнительная проверка системы расчета расстояния и продолжительности поездки из-за нереалистичных значений. \n",
    "\n",
    "Выведем гистаграмму без учета этих значений:"
   ]
  },
  {
   "cell_type": "code",
   "execution_count": 32,
   "id": "4194b7f6",
   "metadata": {},
   "outputs": [
    {
     "data": {
      "image/png": "[encoded data removed]",
      "text/plain": [
       "<Figure size 1080x504 with 1 Axes>"
      ]
     },
     "metadata": {
      "needs_background": "light"
     },
     "output_type": "display_data"
    }
   ],
   "source": [
    "rides['avr_speed'].hist(bins=100, figsize=(15, 7), range=(0, 26))\n",
    "plt.title('Распределение пользователей по средней скорости')\n",
    "plt.xlabel('Средняя скорость')\n",
    "plt.ylabel('Количество пользователей')\n",
    "plt.show()"
   ]
  },
  {
   "cell_type": "markdown",
   "id": "0d007fcd",
   "metadata": {},
   "source": [
    "Скорость в 25 км/ч и больше реалистичное значение, ограничение на скорость в 25 км/ч было принято только в март 2023 года.\n",
    "\n",
    "Самокатом обычно пользуются в качестве средства передвижения для экономии времени и быстроты перемещения, поэтому значения меньше меньше 3-5 км/ч (средняя скорость пешехода) могут быть связаны с некими проблемами в пользовании самокатом. Возможные причины:\n",
    "- сложности в начале пользования самокатом из-за неопытности или неумения\n",
    "- использование самоката не для быстрого перемещения, а для прогулки или развлечения\n",
    "- возникновение проблем во время перещения, например, перекрытая дорога, многолюдная дорога и т.п.\n",
    "\n",
    "Посмотрим на значения около 1 км/ч. "
   ]
  },
  {
   "cell_type": "code",
   "execution_count": 33,
   "id": "50bfe96d",
   "metadata": {},
   "outputs": [
    {
     "data": {
      "text/html": [
       "<div>\n",
       "<style scoped>\n",
       "    .dataframe tbody tr th:only-of-type {\n",
       "        vertical-align: middle;\n",
       "    }\n",
       "\n",
       "    .dataframe tbody tr th {\n",
       "        vertical-align: top;\n",
       "    }\n",
       "\n",
       "    .dataframe thead th {\n",
       "        text-align: right;\n",
       "    }\n",
       "</style>\n",
       "<table border=\"1\" class=\"dataframe\">\n",
       "  <thead>\n",
       "    <tr style=\"text-align: right;\">\n",
       "      <th></th>\n",
       "      <th>distance</th>\n",
       "      <th>duration</th>\n",
       "      <th>avr_speed</th>\n",
       "    </tr>\n",
       "  </thead>\n",
       "  <tbody>\n",
       "    <tr>\n",
       "      <th>6611</th>\n",
       "      <td>28.793204</td>\n",
       "      <td>14.143966</td>\n",
       "      <td>0.12</td>\n",
       "    </tr>\n",
       "    <tr>\n",
       "      <th>6691</th>\n",
       "      <td>23.963062</td>\n",
       "      <td>2.053251</td>\n",
       "      <td>0.70</td>\n",
       "    </tr>\n",
       "    <tr>\n",
       "      <th>6699</th>\n",
       "      <td>195.694445</td>\n",
       "      <td>12.559127</td>\n",
       "      <td>0.93</td>\n",
       "    </tr>\n",
       "    <tr>\n",
       "      <th>6794</th>\n",
       "      <td>193.383776</td>\n",
       "      <td>12.773535</td>\n",
       "      <td>0.91</td>\n",
       "    </tr>\n",
       "    <tr>\n",
       "      <th>6816</th>\n",
       "      <td>62.568138</td>\n",
       "      <td>7.178766</td>\n",
       "      <td>0.52</td>\n",
       "    </tr>\n",
       "    <tr>\n",
       "      <th>...</th>\n",
       "      <td>...</td>\n",
       "      <td>...</td>\n",
       "      <td>...</td>\n",
       "    </tr>\n",
       "    <tr>\n",
       "      <th>17760</th>\n",
       "      <td>75.573191</td>\n",
       "      <td>5.174400</td>\n",
       "      <td>0.88</td>\n",
       "    </tr>\n",
       "    <tr>\n",
       "      <th>17808</th>\n",
       "      <td>180.812768</td>\n",
       "      <td>11.493126</td>\n",
       "      <td>0.94</td>\n",
       "    </tr>\n",
       "    <tr>\n",
       "      <th>17856</th>\n",
       "      <td>106.417577</td>\n",
       "      <td>9.304050</td>\n",
       "      <td>0.69</td>\n",
       "    </tr>\n",
       "    <tr>\n",
       "      <th>17881</th>\n",
       "      <td>217.943366</td>\n",
       "      <td>14.435887</td>\n",
       "      <td>0.91</td>\n",
       "    </tr>\n",
       "    <tr>\n",
       "      <th>17990</th>\n",
       "      <td>105.796106</td>\n",
       "      <td>12.244145</td>\n",
       "      <td>0.52</td>\n",
       "    </tr>\n",
       "  </tbody>\n",
       "</table>\n",
       "<p>115 rows × 3 columns</p>\n",
       "</div>"
      ],
      "text/plain": [
       "         distance   duration  avr_speed\n",
       "6611    28.793204  14.143966       0.12\n",
       "6691    23.963062   2.053251       0.70\n",
       "6699   195.694445  12.559127       0.93\n",
       "6794   193.383776  12.773535       0.91\n",
       "6816    62.568138   7.178766       0.52\n",
       "...           ...        ...        ...\n",
       "17760   75.573191   5.174400       0.88\n",
       "17808  180.812768  11.493126       0.94\n",
       "17856  106.417577   9.304050       0.69\n",
       "17881  217.943366  14.435887       0.91\n",
       "17990  105.796106  12.244145       0.52\n",
       "\n",
       "[115 rows x 3 columns]"
      ]
     },
     "execution_count": 33,
     "metadata": {},
     "output_type": "execute_result"
    }
   ],
   "source": [
    "#выведем строчки с низкой средней скоростью\n",
    "rides.loc[rides['avr_speed'] < 1, ['distance', 'duration', 'avr_speed']]"
   ]
  },
  {
   "cell_type": "markdown",
   "id": "c662d99c",
   "metadata": {},
   "source": [
    "Такие данные указывают на проблемы при пользовании самокатом, поскольку были преодолены слишком короткие дистанции за длительное время. Такие расчеты могут привести к недовольству пользователей и их отказу от сервиса, поэтому необходимо выяснить в чем проблема: в расчете расстояния или в самом самокате."
   ]
  },
  {
   "cell_type": "code",
   "execution_count": 34,
   "id": "5eaa8d32",
   "metadata": {},
   "outputs": [],
   "source": [
    "#создадим копию исходного датасета для удаления из него значений, сопряженных с проблемами и оценки реалистичных значений\n",
    "rides_copy = rides.copy()"
   ]
  },
  {
   "cell_type": "code",
   "execution_count": 35,
   "id": "fdac450d",
   "metadata": {},
   "outputs": [],
   "source": [
    "#удалим из копии нереалистичные значения\n",
    "rides_copy = rides_copy.drop(rides_copy.loc[rides_copy['avr_speed'] < 1].index)\n",
    "rides_copy = rides_copy.drop(rides_copy.loc[rides_copy['duration'] < 1].index)"
   ]
  },
  {
   "cell_type": "code",
   "execution_count": 36,
   "id": "0242f1e7",
   "metadata": {
    "scrolled": true
   },
   "outputs": [
    {
     "data": {
      "image/png": "[encoded data removed]",
      "text/plain": [
       "<Figure size 1080x504 with 1 Axes>"
      ]
     },
     "metadata": {
      "needs_background": "light"
     },
     "output_type": "display_data"
    },
    {
     "data": {
      "image/png": "[encoded data removed]",
      "text/plain": [
       "<Figure size 864x360 with 1 Axes>"
      ]
     },
     "metadata": {
      "needs_background": "light"
     },
     "output_type": "display_data"
    }
   ],
   "source": [
    "rides.distance.hist(bins=100, figsize=(15, 7))\n",
    "plt.title('Распределение поездок по преодоленному расстоянию')\n",
    "plt.xlabel('Расстояние поездки')\n",
    "plt.ylabel('Количество пользователей')\n",
    "plt.show()\n",
    "rides['distance'].plot.box(figsize=(12, 5), label='Расстояние');"
   ]
  },
  {
   "cell_type": "code",
   "execution_count": 37,
   "id": "66954e3c",
   "metadata": {},
   "outputs": [
    {
     "data": {
      "text/plain": [
       "count    18068.000000\n",
       "mean      3070.659976\n",
       "std       1116.831209\n",
       "min          0.855683\n",
       "25%       2543.226360\n",
       "50%       3133.609994\n",
       "75%       3776.222735\n",
       "max       7211.007745\n",
       "Name: distance, dtype: float64"
      ]
     },
     "execution_count": 37,
     "metadata": {},
     "output_type": "execute_result"
    }
   ],
   "source": [
    "rides['distance'].describe()"
   ]
  },
  {
   "cell_type": "markdown",
   "id": "75bb9a1a",
   "metadata": {},
   "source": [
    "В качестве выбросов выделились значения больше 5 км, однако, самокат вполне могли использовать для перемещения на большие дистанции, 7 км не является аномальным расстоянием. \n",
    "\n",
    "Более неоднозначные значения - короткие дистанции, которые можно быстро преодолеть пешком. Расстояние в 100-300 метров может указывать на неудобство самоката или проблемы с ним. При этом на гистаграмме мы видим небольшой пик на значении 500 метров. Возможно, он возник в связи с частой необходимостью быстрого перемещения на короткие дистанции. \n",
    "\n",
    "Выделим поездки на короткие дистанции и поездки с маленькой средней скоростью."
   ]
  },
  {
   "cell_type": "code",
   "execution_count": 38,
   "id": "aedc5444",
   "metadata": {},
   "outputs": [
    {
     "data": {
      "text/html": [
       "<div>\n",
       "<style scoped>\n",
       "    .dataframe tbody tr th:only-of-type {\n",
       "        vertical-align: middle;\n",
       "    }\n",
       "\n",
       "    .dataframe tbody tr th {\n",
       "        vertical-align: top;\n",
       "    }\n",
       "\n",
       "    .dataframe thead th {\n",
       "        text-align: right;\n",
       "    }\n",
       "</style>\n",
       "<table border=\"1\" class=\"dataframe\">\n",
       "  <thead>\n",
       "    <tr style=\"text-align: right;\">\n",
       "      <th></th>\n",
       "      <th>distance</th>\n",
       "      <th>duration</th>\n",
       "      <th>avr_speed</th>\n",
       "    </tr>\n",
       "  </thead>\n",
       "  <tbody>\n",
       "    <tr>\n",
       "      <th>1213</th>\n",
       "      <td>244.210438</td>\n",
       "      <td>9.861919</td>\n",
       "      <td>1.49</td>\n",
       "    </tr>\n",
       "    <tr>\n",
       "      <th>2656</th>\n",
       "      <td>280.964769</td>\n",
       "      <td>10.053618</td>\n",
       "      <td>1.68</td>\n",
       "    </tr>\n",
       "    <tr>\n",
       "      <th>5952</th>\n",
       "      <td>266.123499</td>\n",
       "      <td>3.760353</td>\n",
       "      <td>4.25</td>\n",
       "    </tr>\n",
       "    <tr>\n",
       "      <th>6511</th>\n",
       "      <td>288.974241</td>\n",
       "      <td>4.788112</td>\n",
       "      <td>3.62</td>\n",
       "    </tr>\n",
       "    <tr>\n",
       "      <th>6573</th>\n",
       "      <td>273.668337</td>\n",
       "      <td>14.965888</td>\n",
       "      <td>1.10</td>\n",
       "    </tr>\n",
       "    <tr>\n",
       "      <th>...</th>\n",
       "      <td>...</td>\n",
       "      <td>...</td>\n",
       "      <td>...</td>\n",
       "    </tr>\n",
       "    <tr>\n",
       "      <th>17895</th>\n",
       "      <td>250.381191</td>\n",
       "      <td>10.577803</td>\n",
       "      <td>1.42</td>\n",
       "    </tr>\n",
       "    <tr>\n",
       "      <th>17951</th>\n",
       "      <td>134.078586</td>\n",
       "      <td>5.502795</td>\n",
       "      <td>1.46</td>\n",
       "    </tr>\n",
       "    <tr>\n",
       "      <th>17965</th>\n",
       "      <td>182.743404</td>\n",
       "      <td>3.730974</td>\n",
       "      <td>2.94</td>\n",
       "    </tr>\n",
       "    <tr>\n",
       "      <th>17989</th>\n",
       "      <td>133.534786</td>\n",
       "      <td>5.267070</td>\n",
       "      <td>1.52</td>\n",
       "    </tr>\n",
       "    <tr>\n",
       "      <th>18058</th>\n",
       "      <td>195.447469</td>\n",
       "      <td>6.469074</td>\n",
       "      <td>1.81</td>\n",
       "    </tr>\n",
       "  </tbody>\n",
       "</table>\n",
       "<p>178 rows × 3 columns</p>\n",
       "</div>"
      ],
      "text/plain": [
       "         distance   duration  avr_speed\n",
       "1213   244.210438   9.861919       1.49\n",
       "2656   280.964769  10.053618       1.68\n",
       "5952   266.123499   3.760353       4.25\n",
       "6511   288.974241   4.788112       3.62\n",
       "6573   273.668337  14.965888       1.10\n",
       "...           ...        ...        ...\n",
       "17895  250.381191  10.577803       1.42\n",
       "17951  134.078586   5.502795       1.46\n",
       "17965  182.743404   3.730974       2.94\n",
       "17989  133.534786   5.267070       1.52\n",
       "18058  195.447469   6.469074       1.81\n",
       "\n",
       "[178 rows x 3 columns]"
      ]
     },
     "execution_count": 38,
     "metadata": {},
     "output_type": "execute_result"
    }
   ],
   "source": [
    "rides_copy.loc[(rides_copy['distance'] < 300), ['distance', 'duration', 'avr_speed']]"
   ]
  },
  {
   "cell_type": "code",
   "execution_count": 39,
   "id": "a123d69b",
   "metadata": {},
   "outputs": [],
   "source": [
    "#удалим выбросы\n",
    "rides_copy = rides_copy.drop(rides_copy.loc[rides_copy['distance'] < 300].index)"
   ]
  },
  {
   "cell_type": "markdown",
   "id": "e3b9d6f4",
   "metadata": {},
   "source": [
    "В среднем пешком человек проходит 500 метров за 6 минут, на самокате эта дистанция должна преодолеваться быстрее, если также учитывать время необходимое для привыкание к самокату, в среднем скорость должна получаться больше 3 км/ч, иначе поездка получается слишком долгой для такого такого короткого расстояния. "
   ]
  },
  {
   "cell_type": "code",
   "execution_count": 40,
   "id": "20e6ebda",
   "metadata": {},
   "outputs": [
    {
     "data": {
      "text/html": [
       "<div>\n",
       "<style scoped>\n",
       "    .dataframe tbody tr th:only-of-type {\n",
       "        vertical-align: middle;\n",
       "    }\n",
       "\n",
       "    .dataframe tbody tr th {\n",
       "        vertical-align: top;\n",
       "    }\n",
       "\n",
       "    .dataframe thead th {\n",
       "        text-align: right;\n",
       "    }\n",
       "</style>\n",
       "<table border=\"1\" class=\"dataframe\">\n",
       "  <thead>\n",
       "    <tr style=\"text-align: right;\">\n",
       "      <th></th>\n",
       "      <th>distance</th>\n",
       "      <th>duration</th>\n",
       "      <th>avr_speed</th>\n",
       "    </tr>\n",
       "  </thead>\n",
       "  <tbody>\n",
       "    <tr>\n",
       "      <th>228</th>\n",
       "      <td>409.829089</td>\n",
       "      <td>10.294197</td>\n",
       "      <td>2.39</td>\n",
       "    </tr>\n",
       "    <tr>\n",
       "      <th>463</th>\n",
       "      <td>307.532350</td>\n",
       "      <td>6.230129</td>\n",
       "      <td>2.96</td>\n",
       "    </tr>\n",
       "    <tr>\n",
       "      <th>1467</th>\n",
       "      <td>414.419765</td>\n",
       "      <td>13.776085</td>\n",
       "      <td>1.80</td>\n",
       "    </tr>\n",
       "    <tr>\n",
       "      <th>2133</th>\n",
       "      <td>362.010886</td>\n",
       "      <td>13.974605</td>\n",
       "      <td>1.55</td>\n",
       "    </tr>\n",
       "    <tr>\n",
       "      <th>4698</th>\n",
       "      <td>480.111718</td>\n",
       "      <td>14.600372</td>\n",
       "      <td>1.97</td>\n",
       "    </tr>\n",
       "    <tr>\n",
       "      <th>...</th>\n",
       "      <td>...</td>\n",
       "      <td>...</td>\n",
       "      <td>...</td>\n",
       "    </tr>\n",
       "    <tr>\n",
       "      <th>17910</th>\n",
       "      <td>466.522030</td>\n",
       "      <td>9.646548</td>\n",
       "      <td>2.90</td>\n",
       "    </tr>\n",
       "    <tr>\n",
       "      <th>17931</th>\n",
       "      <td>306.876233</td>\n",
       "      <td>9.736503</td>\n",
       "      <td>1.89</td>\n",
       "    </tr>\n",
       "    <tr>\n",
       "      <th>18007</th>\n",
       "      <td>450.981518</td>\n",
       "      <td>15.591699</td>\n",
       "      <td>1.74</td>\n",
       "    </tr>\n",
       "    <tr>\n",
       "      <th>18031</th>\n",
       "      <td>303.787850</td>\n",
       "      <td>7.792490</td>\n",
       "      <td>2.34</td>\n",
       "    </tr>\n",
       "    <tr>\n",
       "      <th>18043</th>\n",
       "      <td>310.488247</td>\n",
       "      <td>10.642389</td>\n",
       "      <td>1.75</td>\n",
       "    </tr>\n",
       "  </tbody>\n",
       "</table>\n",
       "<p>165 rows × 3 columns</p>\n",
       "</div>"
      ],
      "text/plain": [
       "         distance   duration  avr_speed\n",
       "228    409.829089  10.294197       2.39\n",
       "463    307.532350   6.230129       2.96\n",
       "1467   414.419765  13.776085       1.80\n",
       "2133   362.010886  13.974605       1.55\n",
       "4698   480.111718  14.600372       1.97\n",
       "...           ...        ...        ...\n",
       "17910  466.522030   9.646548       2.90\n",
       "17931  306.876233   9.736503       1.89\n",
       "18007  450.981518  15.591699       1.74\n",
       "18031  303.787850   7.792490       2.34\n",
       "18043  310.488247  10.642389       1.75\n",
       "\n",
       "[165 rows x 3 columns]"
      ]
     },
     "execution_count": 40,
     "metadata": {},
     "output_type": "execute_result"
    }
   ],
   "source": [
    "rides_copy.loc[(rides_copy['distance'] < 500) & (rides_copy['avr_speed'] < 3), ['distance', 'duration', 'avr_speed']]\n",
    "#(rides_copy['duration'] > 10)"
   ]
  },
  {
   "cell_type": "code",
   "execution_count": 41,
   "id": "eb02f6f0",
   "metadata": {},
   "outputs": [
    {
     "data": {
      "text/plain": [
       "17515"
      ]
     },
     "execution_count": 41,
     "metadata": {},
     "output_type": "execute_result"
    }
   ],
   "source": [
    "rides_copy = rides_copy.drop(rides_copy.loc[(rides_copy['distance'] < 500) & (rides_copy['avr_speed'] < 3)].index)\n",
    "len(rides_copy)"
   ]
  },
  {
   "cell_type": "code",
   "execution_count": 42,
   "id": "30ab4cc4",
   "metadata": {},
   "outputs": [
    {
     "data": {
      "text/plain": [
       "17432"
      ]
     },
     "execution_count": 42,
     "metadata": {},
     "output_type": "execute_result"
    }
   ],
   "source": [
    "rides_copy.loc[rides_copy['avr_speed'] < 2.8, ['distance', 'duration', 'avr_speed']]\n",
    "rides_copy = rides_copy.drop(rides_copy.loc[rides_copy['avr_speed'] < 2.8].index)\n",
    "len(rides_copy)"
   ]
  },
  {
   "cell_type": "code",
   "execution_count": 43,
   "id": "ae4cf83f",
   "metadata": {},
   "outputs": [
    {
     "data": {
      "image/png": "[encoded data removed]",
      "text/plain": [
       "<Figure size 1080x504 with 1 Axes>"
      ]
     },
     "metadata": {
      "needs_background": "light"
     },
     "output_type": "display_data"
    }
   ],
   "source": [
    "#оценим изменения на гистаграмме\n",
    "rides_copy.distance.hist(bins=100, figsize=(15, 7));\n",
    "plt.title('Распределение поездок по преодоленному расстоянию')\n",
    "plt.xlabel('Расстояние поездки')\n",
    "plt.ylabel('Количество пользователей')\n",
    "plt.show()"
   ]
  },
  {
   "cell_type": "markdown",
   "id": "5c8280a4",
   "metadata": {},
   "source": [
    "После удаления выбивающихся данных небольшой пик сохранился, значит есть ряд пользователей, которые используют самокаты для коротких дистанций. Причиной может быть необходимость сэкономить время, например, быстро добраться до места при опоздании. Другой возможной причиной коротких поездок может быть неудовлетворительный сервис, в связи с которым пользователи оставляют самокат не добравшись до нужного места. \n",
    "\n",
    "В основном пользователи перемещаются на расстояние 2.5-3.5 км.\n",
    "\n",
    "Рассмотрим распределение продолжительности поездки."
   ]
  },
  {
   "cell_type": "code",
   "execution_count": 44,
   "id": "28ae9c23",
   "metadata": {},
   "outputs": [
    {
     "data": {
      "image/png": "[encoded data removed]",
      "text/plain": [
       "<Figure size 1080x504 with 1 Axes>"
      ]
     },
     "metadata": {
      "needs_background": "light"
     },
     "output_type": "display_data"
    },
    {
     "data": {
      "image/png": "[encoded data removed]",
      "text/plain": [
       "<Figure size 864x360 with 1 Axes>"
      ]
     },
     "metadata": {
      "needs_background": "light"
     },
     "output_type": "display_data"
    }
   ],
   "source": [
    "#выведем гистаграмму с распределением продолжительности поездки\n",
    "rides_copy.duration.hist(bins=100, figsize=(15, 7))\n",
    "plt.title('Распределение поездок по продолжительности')\n",
    "plt.xlabel('Продолжительность поездки')\n",
    "plt.ylabel('Количество пользователей')\n",
    "plt.show()\n",
    "rides_copy['duration'].plot.box(figsize=(12, 5), label='Продолжительность');"
   ]
  },
  {
   "cell_type": "markdown",
   "id": "102d8ecd",
   "metadata": {},
   "source": [
    "Значения распределены нормально, выбросами были выделены значения, где поездки длились более 35 минут. Такие значения могут быть реальными, хотя и превышающими нормальное распределение, поскольку на протяжении поездки могли быть остановки в связи со светофорами, большим количеством людей на улицах, которые затрудняют движение, погодными условиями, большими расстояниями поездки.\n",
    "\n",
    "В основном поездки занимают от 11 до 23 минут, чаще всего 18 минут."
   ]
  },
  {
   "cell_type": "code",
   "execution_count": 45,
   "id": "35f5b61a",
   "metadata": {},
   "outputs": [
    {
     "data": {
      "text/plain": [
       "count    17432.000000\n",
       "mean        18.132407\n",
       "std          5.871815\n",
       "min          2.824692\n",
       "25%         13.946847\n",
       "50%         17.928777\n",
       "75%         21.891648\n",
       "max         40.823963\n",
       "Name: duration, dtype: float64"
      ]
     },
     "execution_count": 45,
     "metadata": {},
     "output_type": "execute_result"
    }
   ],
   "source": [
    "rides_copy.duration.describe()"
   ]
  },
  {
   "cell_type": "code",
   "execution_count": 46,
   "id": "cc38049f",
   "metadata": {},
   "outputs": [
    {
     "data": {
      "image/png": "[encoded data removed]",
      "text/plain": [
       "<Figure size 1080x504 with 1 Axes>"
      ]
     },
     "metadata": {
      "needs_background": "light"
     },
     "output_type": "display_data"
    }
   ],
   "source": [
    "rides_copy.loc[rides_copy['distance'] < 1300, ['distance', 'duration']].plot(x='distance', y='duration', kind='scatter', alpha=0.3, figsize=(15, 7), xlabel='Расстояние поездки', ylabel='Продолжительность', title='Распределение поездок по времени и расстоянию');"
   ]
  },
  {
   "cell_type": "markdown",
   "id": "fb4367c5",
   "metadata": {},
   "source": [
    "**Выводы:**\n",
    "- Пользователи развномерно распределены по выбранным городам, их доля составляет по 11-14%. Большее число пользователей находится в южных городах России.\n",
    "- Количество пользователей без подписки превосходит число подписчиков, разница между двумя группами пользователей приблизительно 10%. Более значительные отличия между числом в таких городах как Пятигорск, Краснодар.\n",
    "- Всех пользователей можно отнести к группе молодежь, среди пользователей преобладают люди от 21 до 28 лет.\n",
    "- Перемещения всех пользователей составляет в основном 2.5-3.5 км, пик приходится на значение около 3 км, на гистаграмме отразился небольшой пик на значениях до 1 км, который может обозначать, что пользователи используют самокат для быстрого преодоления коротких дистанций или же с использованием самоката сопряжены какие-либо сложности или проблемы, в связи с которыми пользователь прекращает поездку.\n",
    "- Поездки занимают от 11 до 23 минут, чаще всего 18 минут. \n",
    "- Хотя на гистаграмме с распределением расстояния поездок есть пик, на гистаграмме с продолжительностью мы не видим аналогичного пика, что означает, что данные короткие поездки могли занимать больше времени, чем могло бы потребоваться на такое расстояние. Стоит выяснить были ли данные поездки сопряжены со сложностями в управлении самокатом, проблемами, возникшими во время поездки в самокате или же на самой дороге.\n",
    "- Нереалистичные данные о продолжительности поездки - слишком короткие для чрезмерно больших расстояний - необходимо проверить, поскольку они могут указывать на наличие проблем при учете расчете минут, а значит и при расчете оплаты. На возможные проблемы с самокатами также указывают долгие поездки, за которые преодоленное расстояние слишком мало (до 400 м)."
   ]
  },
  {
   "cell_type": "markdown",
   "id": "4ef51331",
   "metadata": {},
   "source": [
    "<a id='fr'></a>\n",
    "## Объединение данных"
   ]
  },
  {
   "cell_type": "code",
   "execution_count": 47,
   "id": "2bf33530",
   "metadata": {},
   "outputs": [
    {
     "name": "stdout",
     "output_type": "stream",
     "text": [
      "Размерность датасета с пользователями: (1534, 5)\n",
      "Размерность датасета с поездками: (18068, 6)\n",
      "Размерность датасета с подписками: (2, 4)\n"
     ]
    }
   ],
   "source": [
    "#выведем исходную размерность датасетов\n",
    "print('Размерность датасета с пользователями:', users.shape)\n",
    "print('Размерность датасета с поездками:', rides.shape)\n",
    "print('Размерность датасета с подписками:', subscriptions.shape)"
   ]
  },
  {
   "cell_type": "code",
   "execution_count": 48,
   "id": "8b3485d6",
   "metadata": {},
   "outputs": [
    {
     "data": {
      "text/html": [
       "<div>\n",
       "<style scoped>\n",
       "    .dataframe tbody tr th:only-of-type {\n",
       "        vertical-align: middle;\n",
       "    }\n",
       "\n",
       "    .dataframe tbody tr th {\n",
       "        vertical-align: top;\n",
       "    }\n",
       "\n",
       "    .dataframe thead th {\n",
       "        text-align: right;\n",
       "    }\n",
       "</style>\n",
       "<table border=\"1\" class=\"dataframe\">\n",
       "  <thead>\n",
       "    <tr style=\"text-align: right;\">\n",
       "      <th></th>\n",
       "      <th>user_id</th>\n",
       "      <th>distance</th>\n",
       "      <th>duration</th>\n",
       "      <th>date</th>\n",
       "      <th>month</th>\n",
       "      <th>avr_speed</th>\n",
       "      <th>name</th>\n",
       "      <th>age</th>\n",
       "      <th>city</th>\n",
       "      <th>subscription_type</th>\n",
       "      <th>minute_price</th>\n",
       "      <th>start_ride_price</th>\n",
       "      <th>subscription_fee</th>\n",
       "    </tr>\n",
       "  </thead>\n",
       "  <tbody>\n",
       "    <tr>\n",
       "      <th>0</th>\n",
       "      <td>1</td>\n",
       "      <td>4409.919140</td>\n",
       "      <td>25.599769</td>\n",
       "      <td>2021-01-01</td>\n",
       "      <td>1</td>\n",
       "      <td>10.34</td>\n",
       "      <td>Кира</td>\n",
       "      <td>22</td>\n",
       "      <td>Тюмень</td>\n",
       "      <td>ultra</td>\n",
       "      <td>6</td>\n",
       "      <td>0</td>\n",
       "      <td>199</td>\n",
       "    </tr>\n",
       "    <tr>\n",
       "      <th>1</th>\n",
       "      <td>1</td>\n",
       "      <td>2617.592153</td>\n",
       "      <td>15.816871</td>\n",
       "      <td>2021-01-18</td>\n",
       "      <td>1</td>\n",
       "      <td>9.93</td>\n",
       "      <td>Кира</td>\n",
       "      <td>22</td>\n",
       "      <td>Тюмень</td>\n",
       "      <td>ultra</td>\n",
       "      <td>6</td>\n",
       "      <td>0</td>\n",
       "      <td>199</td>\n",
       "    </tr>\n",
       "    <tr>\n",
       "      <th>2</th>\n",
       "      <td>1</td>\n",
       "      <td>754.159807</td>\n",
       "      <td>6.232113</td>\n",
       "      <td>2021-04-20</td>\n",
       "      <td>4</td>\n",
       "      <td>7.26</td>\n",
       "      <td>Кира</td>\n",
       "      <td>22</td>\n",
       "      <td>Тюмень</td>\n",
       "      <td>ultra</td>\n",
       "      <td>6</td>\n",
       "      <td>0</td>\n",
       "      <td>199</td>\n",
       "    </tr>\n",
       "    <tr>\n",
       "      <th>3</th>\n",
       "      <td>1</td>\n",
       "      <td>2694.783254</td>\n",
       "      <td>18.511000</td>\n",
       "      <td>2021-08-11</td>\n",
       "      <td>8</td>\n",
       "      <td>8.73</td>\n",
       "      <td>Кира</td>\n",
       "      <td>22</td>\n",
       "      <td>Тюмень</td>\n",
       "      <td>ultra</td>\n",
       "      <td>6</td>\n",
       "      <td>0</td>\n",
       "      <td>199</td>\n",
       "    </tr>\n",
       "    <tr>\n",
       "      <th>4</th>\n",
       "      <td>1</td>\n",
       "      <td>4028.687306</td>\n",
       "      <td>26.265803</td>\n",
       "      <td>2021-08-28</td>\n",
       "      <td>8</td>\n",
       "      <td>9.20</td>\n",
       "      <td>Кира</td>\n",
       "      <td>22</td>\n",
       "      <td>Тюмень</td>\n",
       "      <td>ultra</td>\n",
       "      <td>6</td>\n",
       "      <td>0</td>\n",
       "      <td>199</td>\n",
       "    </tr>\n",
       "    <tr>\n",
       "      <th>...</th>\n",
       "      <td>...</td>\n",
       "      <td>...</td>\n",
       "      <td>...</td>\n",
       "      <td>...</td>\n",
       "      <td>...</td>\n",
       "      <td>...</td>\n",
       "      <td>...</td>\n",
       "      <td>...</td>\n",
       "      <td>...</td>\n",
       "      <td>...</td>\n",
       "      <td>...</td>\n",
       "      <td>...</td>\n",
       "      <td>...</td>\n",
       "    </tr>\n",
       "    <tr>\n",
       "      <th>18063</th>\n",
       "      <td>1534</td>\n",
       "      <td>3781.098080</td>\n",
       "      <td>19.822962</td>\n",
       "      <td>2021-11-04</td>\n",
       "      <td>11</td>\n",
       "      <td>11.44</td>\n",
       "      <td>Альберт</td>\n",
       "      <td>25</td>\n",
       "      <td>Краснодар</td>\n",
       "      <td>free</td>\n",
       "      <td>8</td>\n",
       "      <td>50</td>\n",
       "      <td>0</td>\n",
       "    </tr>\n",
       "    <tr>\n",
       "      <th>18064</th>\n",
       "      <td>1534</td>\n",
       "      <td>2840.423057</td>\n",
       "      <td>21.409799</td>\n",
       "      <td>2021-11-16</td>\n",
       "      <td>11</td>\n",
       "      <td>7.96</td>\n",
       "      <td>Альберт</td>\n",
       "      <td>25</td>\n",
       "      <td>Краснодар</td>\n",
       "      <td>free</td>\n",
       "      <td>8</td>\n",
       "      <td>50</td>\n",
       "      <td>0</td>\n",
       "    </tr>\n",
       "    <tr>\n",
       "      <th>18065</th>\n",
       "      <td>1534</td>\n",
       "      <td>3826.185507</td>\n",
       "      <td>18.435051</td>\n",
       "      <td>2021-11-18</td>\n",
       "      <td>11</td>\n",
       "      <td>12.45</td>\n",
       "      <td>Альберт</td>\n",
       "      <td>25</td>\n",
       "      <td>Краснодар</td>\n",
       "      <td>free</td>\n",
       "      <td>8</td>\n",
       "      <td>50</td>\n",
       "      <td>0</td>\n",
       "    </tr>\n",
       "    <tr>\n",
       "      <th>18066</th>\n",
       "      <td>1534</td>\n",
       "      <td>2902.308661</td>\n",
       "      <td>16.674362</td>\n",
       "      <td>2021-11-27</td>\n",
       "      <td>11</td>\n",
       "      <td>10.44</td>\n",
       "      <td>Альберт</td>\n",
       "      <td>25</td>\n",
       "      <td>Краснодар</td>\n",
       "      <td>free</td>\n",
       "      <td>8</td>\n",
       "      <td>50</td>\n",
       "      <td>0</td>\n",
       "    </tr>\n",
       "    <tr>\n",
       "      <th>18067</th>\n",
       "      <td>1534</td>\n",
       "      <td>2371.711192</td>\n",
       "      <td>15.893917</td>\n",
       "      <td>2021-12-29</td>\n",
       "      <td>12</td>\n",
       "      <td>8.95</td>\n",
       "      <td>Альберт</td>\n",
       "      <td>25</td>\n",
       "      <td>Краснодар</td>\n",
       "      <td>free</td>\n",
       "      <td>8</td>\n",
       "      <td>50</td>\n",
       "      <td>0</td>\n",
       "    </tr>\n",
       "  </tbody>\n",
       "</table>\n",
       "<p>18068 rows × 13 columns</p>\n",
       "</div>"
      ],
      "text/plain": [
       "       user_id     distance   duration       date  month  avr_speed     name  \\\n",
       "0            1  4409.919140  25.599769 2021-01-01      1      10.34     Кира   \n",
       "1            1  2617.592153  15.816871 2021-01-18      1       9.93     Кира   \n",
       "2            1   754.159807   6.232113 2021-04-20      4       7.26     Кира   \n",
       "3            1  2694.783254  18.511000 2021-08-11      8       8.73     Кира   \n",
       "4            1  4028.687306  26.265803 2021-08-28      8       9.20     Кира   \n",
       "...        ...          ...        ...        ...    ...        ...      ...   \n",
       "18063     1534  3781.098080  19.822962 2021-11-04     11      11.44  Альберт   \n",
       "18064     1534  2840.423057  21.409799 2021-11-16     11       7.96  Альберт   \n",
       "18065     1534  3826.185507  18.435051 2021-11-18     11      12.45  Альберт   \n",
       "18066     1534  2902.308661  16.674362 2021-11-27     11      10.44  Альберт   \n",
       "18067     1534  2371.711192  15.893917 2021-12-29     12       8.95  Альберт   \n",
       "\n",
       "       age       city subscription_type  minute_price  start_ride_price  \\\n",
       "0       22     Тюмень             ultra             6                 0   \n",
       "1       22     Тюмень             ultra             6                 0   \n",
       "2       22     Тюмень             ultra             6                 0   \n",
       "3       22     Тюмень             ultra             6                 0   \n",
       "4       22     Тюмень             ultra             6                 0   \n",
       "...    ...        ...               ...           ...               ...   \n",
       "18063   25  Краснодар              free             8                50   \n",
       "18064   25  Краснодар              free             8                50   \n",
       "18065   25  Краснодар              free             8                50   \n",
       "18066   25  Краснодар              free             8                50   \n",
       "18067   25  Краснодар              free             8                50   \n",
       "\n",
       "       subscription_fee  \n",
       "0                   199  \n",
       "1                   199  \n",
       "2                   199  \n",
       "3                   199  \n",
       "4                   199  \n",
       "...                 ...  \n",
       "18063                 0  \n",
       "18064                 0  \n",
       "18065                 0  \n",
       "18066                 0  \n",
       "18067                 0  \n",
       "\n",
       "[18068 rows x 13 columns]"
      ]
     },
     "execution_count": 48,
     "metadata": {},
     "output_type": "execute_result"
    }
   ],
   "source": [
    "#объединим данные из трех датасетов\n",
    "data = users.merge(subscriptions, on='subscription_type', how='outer')\n",
    "data = rides.merge(data, on='user_id', how='outer')\n",
    "data"
   ]
  },
  {
   "cell_type": "markdown",
   "id": "80d456d6",
   "metadata": {},
   "source": [
    "Количество столбцов и строк совпадает с их числом в трех датасетах, проверим наличие пропусков:"
   ]
  },
  {
   "cell_type": "code",
   "execution_count": 49,
   "id": "030174b2",
   "metadata": {
    "scrolled": true
   },
   "outputs": [
    {
     "data": {
      "text/plain": [
       "user_id              0\n",
       "distance             0\n",
       "duration             0\n",
       "date                 0\n",
       "month                0\n",
       "avr_speed            0\n",
       "name                 0\n",
       "age                  0\n",
       "city                 0\n",
       "subscription_type    0\n",
       "minute_price         0\n",
       "start_ride_price     0\n",
       "subscription_fee     0\n",
       "dtype: int64"
      ]
     },
     "execution_count": 49,
     "metadata": {},
     "output_type": "execute_result"
    }
   ],
   "source": [
    "data.isna().sum()"
   ]
  },
  {
   "cell_type": "code",
   "execution_count": 50,
   "id": "c2f5c4d3",
   "metadata": {},
   "outputs": [
    {
     "data": {
      "text/html": [
       "<div>\n",
       "<style scoped>\n",
       "    .dataframe tbody tr th:only-of-type {\n",
       "        vertical-align: middle;\n",
       "    }\n",
       "\n",
       "    .dataframe tbody tr th {\n",
       "        vertical-align: top;\n",
       "    }\n",
       "\n",
       "    .dataframe thead th {\n",
       "        text-align: right;\n",
       "    }\n",
       "</style>\n",
       "<table border=\"1\" class=\"dataframe\">\n",
       "  <thead>\n",
       "    <tr style=\"text-align: right;\">\n",
       "      <th></th>\n",
       "      <th>user_id</th>\n",
       "      <th>distance</th>\n",
       "      <th>duration</th>\n",
       "      <th>date</th>\n",
       "      <th>month</th>\n",
       "      <th>avr_speed</th>\n",
       "      <th>name</th>\n",
       "      <th>age</th>\n",
       "      <th>city</th>\n",
       "      <th>subscription_type</th>\n",
       "      <th>minute_price</th>\n",
       "      <th>start_ride_price</th>\n",
       "      <th>subscription_fee</th>\n",
       "    </tr>\n",
       "  </thead>\n",
       "  <tbody>\n",
       "    <tr>\n",
       "      <th>6500</th>\n",
       "      <td>700</td>\n",
       "      <td>2515.690719</td>\n",
       "      <td>14.944286</td>\n",
       "      <td>2021-01-02</td>\n",
       "      <td>1</td>\n",
       "      <td>10.10</td>\n",
       "      <td>Айдар</td>\n",
       "      <td>22</td>\n",
       "      <td>Омск</td>\n",
       "      <td>free</td>\n",
       "      <td>8</td>\n",
       "      <td>50</td>\n",
       "      <td>0</td>\n",
       "    </tr>\n",
       "    <tr>\n",
       "      <th>6501</th>\n",
       "      <td>700</td>\n",
       "      <td>846.932642</td>\n",
       "      <td>16.234663</td>\n",
       "      <td>2021-02-01</td>\n",
       "      <td>2</td>\n",
       "      <td>3.13</td>\n",
       "      <td>Айдар</td>\n",
       "      <td>22</td>\n",
       "      <td>Омск</td>\n",
       "      <td>free</td>\n",
       "      <td>8</td>\n",
       "      <td>50</td>\n",
       "      <td>0</td>\n",
       "    </tr>\n",
       "    <tr>\n",
       "      <th>6502</th>\n",
       "      <td>700</td>\n",
       "      <td>4004.434142</td>\n",
       "      <td>20.016628</td>\n",
       "      <td>2021-02-04</td>\n",
       "      <td>2</td>\n",
       "      <td>12.00</td>\n",
       "      <td>Айдар</td>\n",
       "      <td>22</td>\n",
       "      <td>Омск</td>\n",
       "      <td>free</td>\n",
       "      <td>8</td>\n",
       "      <td>50</td>\n",
       "      <td>0</td>\n",
       "    </tr>\n",
       "    <tr>\n",
       "      <th>6503</th>\n",
       "      <td>700</td>\n",
       "      <td>1205.911290</td>\n",
       "      <td>9.782872</td>\n",
       "      <td>2021-02-10</td>\n",
       "      <td>2</td>\n",
       "      <td>7.40</td>\n",
       "      <td>Айдар</td>\n",
       "      <td>22</td>\n",
       "      <td>Омск</td>\n",
       "      <td>free</td>\n",
       "      <td>8</td>\n",
       "      <td>50</td>\n",
       "      <td>0</td>\n",
       "    </tr>\n",
       "    <tr>\n",
       "      <th>6504</th>\n",
       "      <td>700</td>\n",
       "      <td>3047.379435</td>\n",
       "      <td>17.427673</td>\n",
       "      <td>2021-02-14</td>\n",
       "      <td>2</td>\n",
       "      <td>10.49</td>\n",
       "      <td>Айдар</td>\n",
       "      <td>22</td>\n",
       "      <td>Омск</td>\n",
       "      <td>free</td>\n",
       "      <td>8</td>\n",
       "      <td>50</td>\n",
       "      <td>0</td>\n",
       "    </tr>\n",
       "    <tr>\n",
       "      <th>...</th>\n",
       "      <td>...</td>\n",
       "      <td>...</td>\n",
       "      <td>...</td>\n",
       "      <td>...</td>\n",
       "      <td>...</td>\n",
       "      <td>...</td>\n",
       "      <td>...</td>\n",
       "      <td>...</td>\n",
       "      <td>...</td>\n",
       "      <td>...</td>\n",
       "      <td>...</td>\n",
       "      <td>...</td>\n",
       "      <td>...</td>\n",
       "    </tr>\n",
       "    <tr>\n",
       "      <th>18063</th>\n",
       "      <td>1534</td>\n",
       "      <td>3781.098080</td>\n",
       "      <td>19.822962</td>\n",
       "      <td>2021-11-04</td>\n",
       "      <td>11</td>\n",
       "      <td>11.44</td>\n",
       "      <td>Альберт</td>\n",
       "      <td>25</td>\n",
       "      <td>Краснодар</td>\n",
       "      <td>free</td>\n",
       "      <td>8</td>\n",
       "      <td>50</td>\n",
       "      <td>0</td>\n",
       "    </tr>\n",
       "    <tr>\n",
       "      <th>18064</th>\n",
       "      <td>1534</td>\n",
       "      <td>2840.423057</td>\n",
       "      <td>21.409799</td>\n",
       "      <td>2021-11-16</td>\n",
       "      <td>11</td>\n",
       "      <td>7.96</td>\n",
       "      <td>Альберт</td>\n",
       "      <td>25</td>\n",
       "      <td>Краснодар</td>\n",
       "      <td>free</td>\n",
       "      <td>8</td>\n",
       "      <td>50</td>\n",
       "      <td>0</td>\n",
       "    </tr>\n",
       "    <tr>\n",
       "      <th>18065</th>\n",
       "      <td>1534</td>\n",
       "      <td>3826.185507</td>\n",
       "      <td>18.435051</td>\n",
       "      <td>2021-11-18</td>\n",
       "      <td>11</td>\n",
       "      <td>12.45</td>\n",
       "      <td>Альберт</td>\n",
       "      <td>25</td>\n",
       "      <td>Краснодар</td>\n",
       "      <td>free</td>\n",
       "      <td>8</td>\n",
       "      <td>50</td>\n",
       "      <td>0</td>\n",
       "    </tr>\n",
       "    <tr>\n",
       "      <th>18066</th>\n",
       "      <td>1534</td>\n",
       "      <td>2902.308661</td>\n",
       "      <td>16.674362</td>\n",
       "      <td>2021-11-27</td>\n",
       "      <td>11</td>\n",
       "      <td>10.44</td>\n",
       "      <td>Альберт</td>\n",
       "      <td>25</td>\n",
       "      <td>Краснодар</td>\n",
       "      <td>free</td>\n",
       "      <td>8</td>\n",
       "      <td>50</td>\n",
       "      <td>0</td>\n",
       "    </tr>\n",
       "    <tr>\n",
       "      <th>18067</th>\n",
       "      <td>1534</td>\n",
       "      <td>2371.711192</td>\n",
       "      <td>15.893917</td>\n",
       "      <td>2021-12-29</td>\n",
       "      <td>12</td>\n",
       "      <td>8.95</td>\n",
       "      <td>Альберт</td>\n",
       "      <td>25</td>\n",
       "      <td>Краснодар</td>\n",
       "      <td>free</td>\n",
       "      <td>8</td>\n",
       "      <td>50</td>\n",
       "      <td>0</td>\n",
       "    </tr>\n",
       "  </tbody>\n",
       "</table>\n",
       "<p>11568 rows × 13 columns</p>\n",
       "</div>"
      ],
      "text/plain": [
       "       user_id     distance   duration       date  month  avr_speed     name  \\\n",
       "6500       700  2515.690719  14.944286 2021-01-02      1      10.10    Айдар   \n",
       "6501       700   846.932642  16.234663 2021-02-01      2       3.13    Айдар   \n",
       "6502       700  4004.434142  20.016628 2021-02-04      2      12.00    Айдар   \n",
       "6503       700  1205.911290   9.782872 2021-02-10      2       7.40    Айдар   \n",
       "6504       700  3047.379435  17.427673 2021-02-14      2      10.49    Айдар   \n",
       "...        ...          ...        ...        ...    ...        ...      ...   \n",
       "18063     1534  3781.098080  19.822962 2021-11-04     11      11.44  Альберт   \n",
       "18064     1534  2840.423057  21.409799 2021-11-16     11       7.96  Альберт   \n",
       "18065     1534  3826.185507  18.435051 2021-11-18     11      12.45  Альберт   \n",
       "18066     1534  2902.308661  16.674362 2021-11-27     11      10.44  Альберт   \n",
       "18067     1534  2371.711192  15.893917 2021-12-29     12       8.95  Альберт   \n",
       "\n",
       "       age       city subscription_type  minute_price  start_ride_price  \\\n",
       "6500    22       Омск              free             8                50   \n",
       "6501    22       Омск              free             8                50   \n",
       "6502    22       Омск              free             8                50   \n",
       "6503    22       Омск              free             8                50   \n",
       "6504    22       Омск              free             8                50   \n",
       "...    ...        ...               ...           ...               ...   \n",
       "18063   25  Краснодар              free             8                50   \n",
       "18064   25  Краснодар              free             8                50   \n",
       "18065   25  Краснодар              free             8                50   \n",
       "18066   25  Краснодар              free             8                50   \n",
       "18067   25  Краснодар              free             8                50   \n",
       "\n",
       "       subscription_fee  \n",
       "6500                  0  \n",
       "6501                  0  \n",
       "6502                  0  \n",
       "6503                  0  \n",
       "6504                  0  \n",
       "...                 ...  \n",
       "18063                 0  \n",
       "18064                 0  \n",
       "18065                 0  \n",
       "18066                 0  \n",
       "18067                 0  \n",
       "\n",
       "[11568 rows x 13 columns]"
      ]
     },
     "execution_count": 50,
     "metadata": {},
     "output_type": "execute_result"
    }
   ],
   "source": [
    "#создадим датафрейм с данными пользователей без подписки\n",
    "free = data[data['subscription_type'] == 'free']\n",
    "free"
   ]
  },
  {
   "cell_type": "code",
   "execution_count": 51,
   "id": "d329a2df",
   "metadata": {},
   "outputs": [
    {
     "data": {
      "text/html": [
       "<div>\n",
       "<style scoped>\n",
       "    .dataframe tbody tr th:only-of-type {\n",
       "        vertical-align: middle;\n",
       "    }\n",
       "\n",
       "    .dataframe tbody tr th {\n",
       "        vertical-align: top;\n",
       "    }\n",
       "\n",
       "    .dataframe thead th {\n",
       "        text-align: right;\n",
       "    }\n",
       "</style>\n",
       "<table border=\"1\" class=\"dataframe\">\n",
       "  <thead>\n",
       "    <tr style=\"text-align: right;\">\n",
       "      <th></th>\n",
       "      <th>user_id</th>\n",
       "      <th>distance</th>\n",
       "      <th>duration</th>\n",
       "      <th>date</th>\n",
       "      <th>month</th>\n",
       "      <th>avr_speed</th>\n",
       "      <th>name</th>\n",
       "      <th>age</th>\n",
       "      <th>city</th>\n",
       "      <th>subscription_type</th>\n",
       "      <th>minute_price</th>\n",
       "      <th>start_ride_price</th>\n",
       "      <th>subscription_fee</th>\n",
       "    </tr>\n",
       "  </thead>\n",
       "  <tbody>\n",
       "    <tr>\n",
       "      <th>0</th>\n",
       "      <td>1</td>\n",
       "      <td>4409.919140</td>\n",
       "      <td>25.599769</td>\n",
       "      <td>2021-01-01</td>\n",
       "      <td>1</td>\n",
       "      <td>10.34</td>\n",
       "      <td>Кира</td>\n",
       "      <td>22</td>\n",
       "      <td>Тюмень</td>\n",
       "      <td>ultra</td>\n",
       "      <td>6</td>\n",
       "      <td>0</td>\n",
       "      <td>199</td>\n",
       "    </tr>\n",
       "    <tr>\n",
       "      <th>1</th>\n",
       "      <td>1</td>\n",
       "      <td>2617.592153</td>\n",
       "      <td>15.816871</td>\n",
       "      <td>2021-01-18</td>\n",
       "      <td>1</td>\n",
       "      <td>9.93</td>\n",
       "      <td>Кира</td>\n",
       "      <td>22</td>\n",
       "      <td>Тюмень</td>\n",
       "      <td>ultra</td>\n",
       "      <td>6</td>\n",
       "      <td>0</td>\n",
       "      <td>199</td>\n",
       "    </tr>\n",
       "    <tr>\n",
       "      <th>2</th>\n",
       "      <td>1</td>\n",
       "      <td>754.159807</td>\n",
       "      <td>6.232113</td>\n",
       "      <td>2021-04-20</td>\n",
       "      <td>4</td>\n",
       "      <td>7.26</td>\n",
       "      <td>Кира</td>\n",
       "      <td>22</td>\n",
       "      <td>Тюмень</td>\n",
       "      <td>ultra</td>\n",
       "      <td>6</td>\n",
       "      <td>0</td>\n",
       "      <td>199</td>\n",
       "    </tr>\n",
       "    <tr>\n",
       "      <th>3</th>\n",
       "      <td>1</td>\n",
       "      <td>2694.783254</td>\n",
       "      <td>18.511000</td>\n",
       "      <td>2021-08-11</td>\n",
       "      <td>8</td>\n",
       "      <td>8.73</td>\n",
       "      <td>Кира</td>\n",
       "      <td>22</td>\n",
       "      <td>Тюмень</td>\n",
       "      <td>ultra</td>\n",
       "      <td>6</td>\n",
       "      <td>0</td>\n",
       "      <td>199</td>\n",
       "    </tr>\n",
       "    <tr>\n",
       "      <th>4</th>\n",
       "      <td>1</td>\n",
       "      <td>4028.687306</td>\n",
       "      <td>26.265803</td>\n",
       "      <td>2021-08-28</td>\n",
       "      <td>8</td>\n",
       "      <td>9.20</td>\n",
       "      <td>Кира</td>\n",
       "      <td>22</td>\n",
       "      <td>Тюмень</td>\n",
       "      <td>ultra</td>\n",
       "      <td>6</td>\n",
       "      <td>0</td>\n",
       "      <td>199</td>\n",
       "    </tr>\n",
       "    <tr>\n",
       "      <th>...</th>\n",
       "      <td>...</td>\n",
       "      <td>...</td>\n",
       "      <td>...</td>\n",
       "      <td>...</td>\n",
       "      <td>...</td>\n",
       "      <td>...</td>\n",
       "      <td>...</td>\n",
       "      <td>...</td>\n",
       "      <td>...</td>\n",
       "      <td>...</td>\n",
       "      <td>...</td>\n",
       "      <td>...</td>\n",
       "      <td>...</td>\n",
       "    </tr>\n",
       "    <tr>\n",
       "      <th>6495</th>\n",
       "      <td>699</td>\n",
       "      <td>3973.046497</td>\n",
       "      <td>24.671163</td>\n",
       "      <td>2021-08-29</td>\n",
       "      <td>8</td>\n",
       "      <td>9.66</td>\n",
       "      <td>Оксана</td>\n",
       "      <td>22</td>\n",
       "      <td>Москва</td>\n",
       "      <td>ultra</td>\n",
       "      <td>6</td>\n",
       "      <td>0</td>\n",
       "      <td>199</td>\n",
       "    </tr>\n",
       "    <tr>\n",
       "      <th>6496</th>\n",
       "      <td>699</td>\n",
       "      <td>3288.702563</td>\n",
       "      <td>15.892886</td>\n",
       "      <td>2021-09-12</td>\n",
       "      <td>9</td>\n",
       "      <td>12.42</td>\n",
       "      <td>Оксана</td>\n",
       "      <td>22</td>\n",
       "      <td>Москва</td>\n",
       "      <td>ultra</td>\n",
       "      <td>6</td>\n",
       "      <td>0</td>\n",
       "      <td>199</td>\n",
       "    </tr>\n",
       "    <tr>\n",
       "      <th>6497</th>\n",
       "      <td>699</td>\n",
       "      <td>3076.159348</td>\n",
       "      <td>14.389525</td>\n",
       "      <td>2021-09-26</td>\n",
       "      <td>9</td>\n",
       "      <td>12.83</td>\n",
       "      <td>Оксана</td>\n",
       "      <td>22</td>\n",
       "      <td>Москва</td>\n",
       "      <td>ultra</td>\n",
       "      <td>6</td>\n",
       "      <td>0</td>\n",
       "      <td>199</td>\n",
       "    </tr>\n",
       "    <tr>\n",
       "      <th>6498</th>\n",
       "      <td>699</td>\n",
       "      <td>4707.845501</td>\n",
       "      <td>15.839579</td>\n",
       "      <td>2021-10-17</td>\n",
       "      <td>10</td>\n",
       "      <td>17.83</td>\n",
       "      <td>Оксана</td>\n",
       "      <td>22</td>\n",
       "      <td>Москва</td>\n",
       "      <td>ultra</td>\n",
       "      <td>6</td>\n",
       "      <td>0</td>\n",
       "      <td>199</td>\n",
       "    </tr>\n",
       "    <tr>\n",
       "      <th>6499</th>\n",
       "      <td>699</td>\n",
       "      <td>3202.890770</td>\n",
       "      <td>25.217345</td>\n",
       "      <td>2021-12-03</td>\n",
       "      <td>12</td>\n",
       "      <td>7.62</td>\n",
       "      <td>Оксана</td>\n",
       "      <td>22</td>\n",
       "      <td>Москва</td>\n",
       "      <td>ultra</td>\n",
       "      <td>6</td>\n",
       "      <td>0</td>\n",
       "      <td>199</td>\n",
       "    </tr>\n",
       "  </tbody>\n",
       "</table>\n",
       "<p>6500 rows × 13 columns</p>\n",
       "</div>"
      ],
      "text/plain": [
       "      user_id     distance   duration       date  month  avr_speed    name  \\\n",
       "0           1  4409.919140  25.599769 2021-01-01      1      10.34    Кира   \n",
       "1           1  2617.592153  15.816871 2021-01-18      1       9.93    Кира   \n",
       "2           1   754.159807   6.232113 2021-04-20      4       7.26    Кира   \n",
       "3           1  2694.783254  18.511000 2021-08-11      8       8.73    Кира   \n",
       "4           1  4028.687306  26.265803 2021-08-28      8       9.20    Кира   \n",
       "...       ...          ...        ...        ...    ...        ...     ...   \n",
       "6495      699  3973.046497  24.671163 2021-08-29      8       9.66  Оксана   \n",
       "6496      699  3288.702563  15.892886 2021-09-12      9      12.42  Оксана   \n",
       "6497      699  3076.159348  14.389525 2021-09-26      9      12.83  Оксана   \n",
       "6498      699  4707.845501  15.839579 2021-10-17     10      17.83  Оксана   \n",
       "6499      699  3202.890770  25.217345 2021-12-03     12       7.62  Оксана   \n",
       "\n",
       "      age    city subscription_type  minute_price  start_ride_price  \\\n",
       "0      22  Тюмень             ultra             6                 0   \n",
       "1      22  Тюмень             ultra             6                 0   \n",
       "2      22  Тюмень             ultra             6                 0   \n",
       "3      22  Тюмень             ultra             6                 0   \n",
       "4      22  Тюмень             ultra             6                 0   \n",
       "...   ...     ...               ...           ...               ...   \n",
       "6495   22  Москва             ultra             6                 0   \n",
       "6496   22  Москва             ultra             6                 0   \n",
       "6497   22  Москва             ultra             6                 0   \n",
       "6498   22  Москва             ultra             6                 0   \n",
       "6499   22  Москва             ultra             6                 0   \n",
       "\n",
       "      subscription_fee  \n",
       "0                  199  \n",
       "1                  199  \n",
       "2                  199  \n",
       "3                  199  \n",
       "4                  199  \n",
       "...                ...  \n",
       "6495               199  \n",
       "6496               199  \n",
       "6497               199  \n",
       "6498               199  \n",
       "6499               199  \n",
       "\n",
       "[6500 rows x 13 columns]"
      ]
     },
     "execution_count": 51,
     "metadata": {},
     "output_type": "execute_result"
    }
   ],
   "source": [
    "#создадим датафрейм с данными пользователей с подпиской\n",
    "ultra = data[data['subscription_type'] == 'ultra']\n",
    "ultra"
   ]
  },
  {
   "cell_type": "code",
   "execution_count": 52,
   "id": "6bf288b5",
   "metadata": {},
   "outputs": [
    {
     "data": {
      "image/png": "[encoded data removed]",
      "text/plain": [
       "<Figure size 1080x504 with 1 Axes>"
      ]
     },
     "metadata": {
      "needs_background": "light"
     },
     "output_type": "display_data"
    },
    {
     "data": {
      "image/png": "[encoded data removed]",
      "text/plain": [
       "<Figure size 1080x504 with 1 Axes>"
      ]
     },
     "metadata": {
      "needs_background": "light"
     },
     "output_type": "display_data"
    }
   ],
   "source": [
    "#визуализируем данные по поездкам без подписки \n",
    "free.distance.plot(kind='hist', bins=100, figsize=(15, 7), title='Расстояние поездок пользователей без подписки', grid=True)\n",
    "plt.ylabel('Пользователи')\n",
    "plt.show()\n",
    "free.distance.plot.box(figsize=(15, 7), label='Расстояние');"
   ]
  },
  {
   "cell_type": "code",
   "execution_count": 53,
   "id": "080a8419",
   "metadata": {},
   "outputs": [
    {
     "data": {
      "image/png": "[encoded data removed]",
      "text/plain": [
       "<Figure size 1080x504 with 1 Axes>"
      ]
     },
     "metadata": {
      "needs_background": "light"
     },
     "output_type": "display_data"
    },
    {
     "data": {
      "image/png": "[encoded data removed]",
      "text/plain": [
       "<Figure size 1080x504 with 1 Axes>"
      ]
     },
     "metadata": {
      "needs_background": "light"
     },
     "output_type": "display_data"
    }
   ],
   "source": [
    "#визуализируем данные по поездкам c подпиской\n",
    "ultra.distance.plot(kind='hist', bins=100, figsize=(15, 7), title='Расстояние поездок пользователей с подпиской', grid=True)\n",
    "plt.ylabel('Пользователи')\n",
    "plt.show()\n",
    "ultra.distance.plot.box(figsize=(15, 7), label='Расстояние');"
   ]
  },
  {
   "cell_type": "code",
   "execution_count": 54,
   "id": "d3346c70",
   "metadata": {},
   "outputs": [
    {
     "data": {
      "image/png": "[encoded data removed]",
      "text/plain": [
       "<Figure size 1080x504 with 1 Axes>"
      ]
     },
     "metadata": {
      "needs_background": "light"
     },
     "output_type": "display_data"
    },
    {
     "data": {
      "image/png": "[encoded data removed]",
      "text/plain": [
       "<Figure size 1080x504 with 1 Axes>"
      ]
     },
     "metadata": {
      "needs_background": "light"
     },
     "output_type": "display_data"
    }
   ],
   "source": [
    "#визуализируем данные по поездкам без подписки\n",
    "free.duration.plot(kind='hist', bins=100, figsize=(15, 7), title='Время поездок пользователей без подписки', grid=True)\n",
    "plt.ylabel('Пользователи')\n",
    "plt.show()\n",
    "free.duration.plot.box(figsize=(15, 7), label='Продолжительность');"
   ]
  },
  {
   "cell_type": "code",
   "execution_count": 55,
   "id": "3e6fb42f",
   "metadata": {},
   "outputs": [
    {
     "data": {
      "text/plain": [
       "count    11568.000000\n",
       "mean        17.390909\n",
       "std          6.326803\n",
       "min          0.500000\n",
       "25%         12.958437\n",
       "50%         17.326890\n",
       "75%         21.594071\n",
       "max         34.948498\n",
       "Name: duration, dtype: float64"
      ]
     },
     "execution_count": 55,
     "metadata": {},
     "output_type": "execute_result"
    }
   ],
   "source": [
    "free.duration.describe()"
   ]
  },
  {
   "cell_type": "code",
   "execution_count": 56,
   "id": "0a16c25d",
   "metadata": {},
   "outputs": [
    {
     "data": {
      "image/png": "[encoded data removed]",
      "text/plain": [
       "<Figure size 1080x504 with 1 Axes>"
      ]
     },
     "metadata": {
      "needs_background": "light"
     },
     "output_type": "display_data"
    },
    {
     "data": {
      "image/png": "[encoded data removed]",
      "text/plain": [
       "<Figure size 1080x504 with 1 Axes>"
      ]
     },
     "metadata": {
      "needs_background": "light"
     },
     "output_type": "display_data"
    }
   ],
   "source": [
    "#визуализируем данные по поездкам c подпиской\n",
    "ultra.duration.plot(kind='hist', bins=100, figsize=(15, 7), title='Время поездок пользователей с подпиской', grid=True)\n",
    "plt.ylabel('Пользователи')\n",
    "plt.show()\n",
    "ultra.duration.plot.box(figsize=(15, 7), label='Продолжительность');"
   ]
  },
  {
   "cell_type": "code",
   "execution_count": 57,
   "id": "c0b1da0e",
   "metadata": {},
   "outputs": [
    {
     "data": {
      "text/plain": [
       "count    6500.000000\n",
       "mean       18.541985\n",
       "std         5.572048\n",
       "min         3.760353\n",
       "25%        14.524654\n",
       "50%        18.178153\n",
       "75%        21.884129\n",
       "max        40.823963\n",
       "Name: duration, dtype: float64"
      ]
     },
     "execution_count": 57,
     "metadata": {},
     "output_type": "execute_result"
    }
   ],
   "source": [
    "ultra.duration.describe()"
   ]
  },
  {
   "cell_type": "markdown",
   "id": "9c97528c",
   "metadata": {},
   "source": [
    "**Вывод:**\n",
    "- Были объединены данные по пользователям и их поездкам. Было создано два новых датафрейма - с данными о пользователях с подпиской и без.\n",
    "- В среднем время поездки по подписке больше, чем время, которое затрачивается пользователями без подписки (интервал составляет от 2.8 минут до 35 минут бесплатно и от 4 минут до 40 минут по подписке), хотя разница между показателями около минуты. В основном поездки обоих видов пользователей занимают от 13 до 22 минут. \n",
    "- Бóльшие отличия существуют между расстояниями, которые пользователи проезжают по подписке и без. Гистаграмма поездок пользователей без подписки более широкая - она делится на две части: поездок на короткие дистанции (около 1 км), и, что соответствует большинству, поездок на более дальние расстояния - от 1,5 км, наиболее частотные значения распределены относительно равномерно между значениями от 2.5 до 3.5 км. Гистаграмма поездок пользователей с подпиской более узкая, в ней также встречается небольшой подъем соответствующий коротким поездкам, но в основном расстояние поездок от 2 км. Выделен более явный пик на значении около 3.2 км. \n",
    "- По подписке проезжают меньшие расстояния, но за большее число минут, то есть поездки более спокойные, с меньшей средней скоростью. "
   ]
  },
  {
   "cell_type": "markdown",
   "id": "402d620f",
   "metadata": {},
   "source": [
    "<a id='fi'></a>\n",
    "## Подсчёт выручки"
   ]
  },
  {
   "cell_type": "code",
   "execution_count": 58,
   "id": "7ee39d18",
   "metadata": {},
   "outputs": [],
   "source": [
    "#округлим до целых чисел в большую сторону, так как оплата осуществляется за минуту, даже если она полностью не прошла\n",
    "data['duration'] = np.ceil(data['duration'])"
   ]
  },
  {
   "cell_type": "code",
   "execution_count": 59,
   "id": "53049e0a",
   "metadata": {},
   "outputs": [
    {
     "data": {
      "text/html": [
       "<div>\n",
       "<style scoped>\n",
       "    .dataframe tbody tr th:only-of-type {\n",
       "        vertical-align: middle;\n",
       "    }\n",
       "\n",
       "    .dataframe tbody tr th {\n",
       "        vertical-align: top;\n",
       "    }\n",
       "\n",
       "    .dataframe thead th {\n",
       "        text-align: right;\n",
       "    }\n",
       "</style>\n",
       "<table border=\"1\" class=\"dataframe\">\n",
       "  <thead>\n",
       "    <tr style=\"text-align: right;\">\n",
       "      <th></th>\n",
       "      <th></th>\n",
       "      <th>count</th>\n",
       "      <th>distance</th>\n",
       "      <th>duration</th>\n",
       "    </tr>\n",
       "    <tr>\n",
       "      <th>user_id</th>\n",
       "      <th>month</th>\n",
       "      <th></th>\n",
       "      <th></th>\n",
       "      <th></th>\n",
       "    </tr>\n",
       "  </thead>\n",
       "  <tbody>\n",
       "    <tr>\n",
       "      <th rowspan=\"5\" valign=\"top\">1</th>\n",
       "      <th>1</th>\n",
       "      <td>2</td>\n",
       "      <td>7027.511294</td>\n",
       "      <td>42.0</td>\n",
       "    </tr>\n",
       "    <tr>\n",
       "      <th>4</th>\n",
       "      <td>1</td>\n",
       "      <td>754.159807</td>\n",
       "      <td>7.0</td>\n",
       "    </tr>\n",
       "    <tr>\n",
       "      <th>8</th>\n",
       "      <td>2</td>\n",
       "      <td>6723.470560</td>\n",
       "      <td>46.0</td>\n",
       "    </tr>\n",
       "    <tr>\n",
       "      <th>10</th>\n",
       "      <td>2</td>\n",
       "      <td>5809.911100</td>\n",
       "      <td>32.0</td>\n",
       "    </tr>\n",
       "    <tr>\n",
       "      <th>11</th>\n",
       "      <td>3</td>\n",
       "      <td>7003.499363</td>\n",
       "      <td>56.0</td>\n",
       "    </tr>\n",
       "    <tr>\n",
       "      <th>...</th>\n",
       "      <th>...</th>\n",
       "      <td>...</td>\n",
       "      <td>...</td>\n",
       "      <td>...</td>\n",
       "    </tr>\n",
       "    <tr>\n",
       "      <th rowspan=\"5\" valign=\"top\">1534</th>\n",
       "      <th>6</th>\n",
       "      <td>2</td>\n",
       "      <td>3409.468534</td>\n",
       "      <td>26.0</td>\n",
       "    </tr>\n",
       "    <tr>\n",
       "      <th>8</th>\n",
       "      <td>2</td>\n",
       "      <td>7622.453034</td>\n",
       "      <td>48.0</td>\n",
       "    </tr>\n",
       "    <tr>\n",
       "      <th>9</th>\n",
       "      <td>1</td>\n",
       "      <td>4928.173852</td>\n",
       "      <td>23.0</td>\n",
       "    </tr>\n",
       "    <tr>\n",
       "      <th>11</th>\n",
       "      <td>4</td>\n",
       "      <td>13350.015305</td>\n",
       "      <td>78.0</td>\n",
       "    </tr>\n",
       "    <tr>\n",
       "      <th>12</th>\n",
       "      <td>1</td>\n",
       "      <td>2371.711192</td>\n",
       "      <td>16.0</td>\n",
       "    </tr>\n",
       "  </tbody>\n",
       "</table>\n",
       "<p>11331 rows × 3 columns</p>\n",
       "</div>"
      ],
      "text/plain": [
       "               count      distance  duration\n",
       "user_id month                               \n",
       "1       1          2   7027.511294      42.0\n",
       "        4          1    754.159807       7.0\n",
       "        8          2   6723.470560      46.0\n",
       "        10         2   5809.911100      32.0\n",
       "        11         3   7003.499363      56.0\n",
       "...              ...           ...       ...\n",
       "1534    6          2   3409.468534      26.0\n",
       "        8          2   7622.453034      48.0\n",
       "        9          1   4928.173852      23.0\n",
       "        11         4  13350.015305      78.0\n",
       "        12         1   2371.711192      16.0\n",
       "\n",
       "[11331 rows x 3 columns]"
      ]
     },
     "execution_count": 59,
     "metadata": {},
     "output_type": "execute_result"
    }
   ],
   "source": [
    "agg_data = data.groupby(['user_id', 'month']).agg({'name': 'count', 'distance': 'sum', 'duration':'sum'}).rename(columns={'name':'count'})\n",
    "agg_data"
   ]
  },
  {
   "cell_type": "code",
   "execution_count": 60,
   "id": "1d07363b",
   "metadata": {},
   "outputs": [
    {
     "data": {
      "text/html": [
       "<div>\n",
       "<style scoped>\n",
       "    .dataframe tbody tr th:only-of-type {\n",
       "        vertical-align: middle;\n",
       "    }\n",
       "\n",
       "    .dataframe tbody tr th {\n",
       "        vertical-align: top;\n",
       "    }\n",
       "\n",
       "    .dataframe thead th {\n",
       "        text-align: right;\n",
       "    }\n",
       "</style>\n",
       "<table border=\"1\" class=\"dataframe\">\n",
       "  <thead>\n",
       "    <tr style=\"text-align: right;\">\n",
       "      <th></th>\n",
       "      <th>user_id</th>\n",
       "      <th>month</th>\n",
       "      <th>count</th>\n",
       "      <th>distance</th>\n",
       "      <th>duration</th>\n",
       "      <th>subscription_type</th>\n",
       "      <th>minute_price</th>\n",
       "      <th>start_ride_price</th>\n",
       "      <th>subscription_fee</th>\n",
       "    </tr>\n",
       "  </thead>\n",
       "  <tbody>\n",
       "    <tr>\n",
       "      <th>0</th>\n",
       "      <td>1</td>\n",
       "      <td>1</td>\n",
       "      <td>2</td>\n",
       "      <td>7027.511294</td>\n",
       "      <td>42.0</td>\n",
       "      <td>ultra</td>\n",
       "      <td>6</td>\n",
       "      <td>0</td>\n",
       "      <td>199</td>\n",
       "    </tr>\n",
       "    <tr>\n",
       "      <th>12</th>\n",
       "      <td>1</td>\n",
       "      <td>4</td>\n",
       "      <td>1</td>\n",
       "      <td>754.159807</td>\n",
       "      <td>7.0</td>\n",
       "      <td>ultra</td>\n",
       "      <td>6</td>\n",
       "      <td>0</td>\n",
       "      <td>199</td>\n",
       "    </tr>\n",
       "    <tr>\n",
       "      <th>24</th>\n",
       "      <td>1</td>\n",
       "      <td>8</td>\n",
       "      <td>2</td>\n",
       "      <td>6723.470560</td>\n",
       "      <td>46.0</td>\n",
       "      <td>ultra</td>\n",
       "      <td>6</td>\n",
       "      <td>0</td>\n",
       "      <td>199</td>\n",
       "    </tr>\n",
       "    <tr>\n",
       "      <th>36</th>\n",
       "      <td>1</td>\n",
       "      <td>10</td>\n",
       "      <td>2</td>\n",
       "      <td>5809.911100</td>\n",
       "      <td>32.0</td>\n",
       "      <td>ultra</td>\n",
       "      <td>6</td>\n",
       "      <td>0</td>\n",
       "      <td>199</td>\n",
       "    </tr>\n",
       "    <tr>\n",
       "      <th>48</th>\n",
       "      <td>1</td>\n",
       "      <td>11</td>\n",
       "      <td>3</td>\n",
       "      <td>7003.499363</td>\n",
       "      <td>56.0</td>\n",
       "      <td>ultra</td>\n",
       "      <td>6</td>\n",
       "      <td>0</td>\n",
       "      <td>199</td>\n",
       "    </tr>\n",
       "    <tr>\n",
       "      <th>...</th>\n",
       "      <td>...</td>\n",
       "      <td>...</td>\n",
       "      <td>...</td>\n",
       "      <td>...</td>\n",
       "      <td>...</td>\n",
       "      <td>...</td>\n",
       "      <td>...</td>\n",
       "      <td>...</td>\n",
       "      <td>...</td>\n",
       "    </tr>\n",
       "    <tr>\n",
       "      <th>143446</th>\n",
       "      <td>1534</td>\n",
       "      <td>6</td>\n",
       "      <td>2</td>\n",
       "      <td>3409.468534</td>\n",
       "      <td>26.0</td>\n",
       "      <td>free</td>\n",
       "      <td>8</td>\n",
       "      <td>50</td>\n",
       "      <td>0</td>\n",
       "    </tr>\n",
       "    <tr>\n",
       "      <th>143459</th>\n",
       "      <td>1534</td>\n",
       "      <td>8</td>\n",
       "      <td>2</td>\n",
       "      <td>7622.453034</td>\n",
       "      <td>48.0</td>\n",
       "      <td>free</td>\n",
       "      <td>8</td>\n",
       "      <td>50</td>\n",
       "      <td>0</td>\n",
       "    </tr>\n",
       "    <tr>\n",
       "      <th>143472</th>\n",
       "      <td>1534</td>\n",
       "      <td>9</td>\n",
       "      <td>1</td>\n",
       "      <td>4928.173852</td>\n",
       "      <td>23.0</td>\n",
       "      <td>free</td>\n",
       "      <td>8</td>\n",
       "      <td>50</td>\n",
       "      <td>0</td>\n",
       "    </tr>\n",
       "    <tr>\n",
       "      <th>143485</th>\n",
       "      <td>1534</td>\n",
       "      <td>11</td>\n",
       "      <td>4</td>\n",
       "      <td>13350.015305</td>\n",
       "      <td>78.0</td>\n",
       "      <td>free</td>\n",
       "      <td>8</td>\n",
       "      <td>50</td>\n",
       "      <td>0</td>\n",
       "    </tr>\n",
       "    <tr>\n",
       "      <th>143498</th>\n",
       "      <td>1534</td>\n",
       "      <td>12</td>\n",
       "      <td>1</td>\n",
       "      <td>2371.711192</td>\n",
       "      <td>16.0</td>\n",
       "      <td>free</td>\n",
       "      <td>8</td>\n",
       "      <td>50</td>\n",
       "      <td>0</td>\n",
       "    </tr>\n",
       "  </tbody>\n",
       "</table>\n",
       "<p>11331 rows × 9 columns</p>\n",
       "</div>"
      ],
      "text/plain": [
       "        user_id  month  count      distance  duration subscription_type  \\\n",
       "0             1      1      2   7027.511294      42.0             ultra   \n",
       "12            1      4      1    754.159807       7.0             ultra   \n",
       "24            1      8      2   6723.470560      46.0             ultra   \n",
       "36            1     10      2   5809.911100      32.0             ultra   \n",
       "48            1     11      3   7003.499363      56.0             ultra   \n",
       "...         ...    ...    ...           ...       ...               ...   \n",
       "143446     1534      6      2   3409.468534      26.0              free   \n",
       "143459     1534      8      2   7622.453034      48.0              free   \n",
       "143472     1534      9      1   4928.173852      23.0              free   \n",
       "143485     1534     11      4  13350.015305      78.0              free   \n",
       "143498     1534     12      1   2371.711192      16.0              free   \n",
       "\n",
       "        minute_price  start_ride_price  subscription_fee  \n",
       "0                  6                 0               199  \n",
       "12                 6                 0               199  \n",
       "24                 6                 0               199  \n",
       "36                 6                 0               199  \n",
       "48                 6                 0               199  \n",
       "...              ...               ...               ...  \n",
       "143446             8                50                 0  \n",
       "143459             8                50                 0  \n",
       "143472             8                50                 0  \n",
       "143485             8                50                 0  \n",
       "143498             8                50                 0  \n",
       "\n",
       "[11331 rows x 9 columns]"
      ]
     },
     "execution_count": 60,
     "metadata": {},
     "output_type": "execute_result"
    }
   ],
   "source": [
    "agg_data.reset_index(inplace=True)\n",
    "agg_data = agg_data.merge(data[['user_id', 'subscription_type', 'minute_price', 'start_ride_price', 'subscription_fee']], on='user_id', how='left').drop_duplicates()\n",
    "agg_data"
   ]
  },
  {
   "cell_type": "code",
   "execution_count": 61,
   "id": "c5ccfebe",
   "metadata": {},
   "outputs": [],
   "source": [
    "def money(row):\n",
    "    a = (row['duration']*row['minute_price']) + row['subscription_fee'] + (row['start_ride_price'] * row['count'])\n",
    "    return a"
   ]
  },
  {
   "cell_type": "code",
   "execution_count": 62,
   "id": "0b14542d",
   "metadata": {},
   "outputs": [
    {
     "data": {
      "text/html": [
       "<div>\n",
       "<style scoped>\n",
       "    .dataframe tbody tr th:only-of-type {\n",
       "        vertical-align: middle;\n",
       "    }\n",
       "\n",
       "    .dataframe tbody tr th {\n",
       "        vertical-align: top;\n",
       "    }\n",
       "\n",
       "    .dataframe thead th {\n",
       "        text-align: right;\n",
       "    }\n",
       "</style>\n",
       "<table border=\"1\" class=\"dataframe\">\n",
       "  <thead>\n",
       "    <tr style=\"text-align: right;\">\n",
       "      <th></th>\n",
       "      <th>user_id</th>\n",
       "      <th>month</th>\n",
       "      <th>count</th>\n",
       "      <th>distance</th>\n",
       "      <th>duration</th>\n",
       "      <th>subscription_type</th>\n",
       "      <th>minute_price</th>\n",
       "      <th>start_ride_price</th>\n",
       "      <th>subscription_fee</th>\n",
       "      <th>money</th>\n",
       "    </tr>\n",
       "  </thead>\n",
       "  <tbody>\n",
       "    <tr>\n",
       "      <th>0</th>\n",
       "      <td>1</td>\n",
       "      <td>1</td>\n",
       "      <td>2</td>\n",
       "      <td>7027.511294</td>\n",
       "      <td>42.0</td>\n",
       "      <td>ultra</td>\n",
       "      <td>6</td>\n",
       "      <td>0</td>\n",
       "      <td>199</td>\n",
       "      <td>451.0</td>\n",
       "    </tr>\n",
       "    <tr>\n",
       "      <th>12</th>\n",
       "      <td>1</td>\n",
       "      <td>4</td>\n",
       "      <td>1</td>\n",
       "      <td>754.159807</td>\n",
       "      <td>7.0</td>\n",
       "      <td>ultra</td>\n",
       "      <td>6</td>\n",
       "      <td>0</td>\n",
       "      <td>199</td>\n",
       "      <td>241.0</td>\n",
       "    </tr>\n",
       "    <tr>\n",
       "      <th>24</th>\n",
       "      <td>1</td>\n",
       "      <td>8</td>\n",
       "      <td>2</td>\n",
       "      <td>6723.470560</td>\n",
       "      <td>46.0</td>\n",
       "      <td>ultra</td>\n",
       "      <td>6</td>\n",
       "      <td>0</td>\n",
       "      <td>199</td>\n",
       "      <td>475.0</td>\n",
       "    </tr>\n",
       "    <tr>\n",
       "      <th>36</th>\n",
       "      <td>1</td>\n",
       "      <td>10</td>\n",
       "      <td>2</td>\n",
       "      <td>5809.911100</td>\n",
       "      <td>32.0</td>\n",
       "      <td>ultra</td>\n",
       "      <td>6</td>\n",
       "      <td>0</td>\n",
       "      <td>199</td>\n",
       "      <td>391.0</td>\n",
       "    </tr>\n",
       "    <tr>\n",
       "      <th>48</th>\n",
       "      <td>1</td>\n",
       "      <td>11</td>\n",
       "      <td>3</td>\n",
       "      <td>7003.499363</td>\n",
       "      <td>56.0</td>\n",
       "      <td>ultra</td>\n",
       "      <td>6</td>\n",
       "      <td>0</td>\n",
       "      <td>199</td>\n",
       "      <td>535.0</td>\n",
       "    </tr>\n",
       "    <tr>\n",
       "      <th>...</th>\n",
       "      <td>...</td>\n",
       "      <td>...</td>\n",
       "      <td>...</td>\n",
       "      <td>...</td>\n",
       "      <td>...</td>\n",
       "      <td>...</td>\n",
       "      <td>...</td>\n",
       "      <td>...</td>\n",
       "      <td>...</td>\n",
       "      <td>...</td>\n",
       "    </tr>\n",
       "    <tr>\n",
       "      <th>143446</th>\n",
       "      <td>1534</td>\n",
       "      <td>6</td>\n",
       "      <td>2</td>\n",
       "      <td>3409.468534</td>\n",
       "      <td>26.0</td>\n",
       "      <td>free</td>\n",
       "      <td>8</td>\n",
       "      <td>50</td>\n",
       "      <td>0</td>\n",
       "      <td>308.0</td>\n",
       "    </tr>\n",
       "    <tr>\n",
       "      <th>143459</th>\n",
       "      <td>1534</td>\n",
       "      <td>8</td>\n",
       "      <td>2</td>\n",
       "      <td>7622.453034</td>\n",
       "      <td>48.0</td>\n",
       "      <td>free</td>\n",
       "      <td>8</td>\n",
       "      <td>50</td>\n",
       "      <td>0</td>\n",
       "      <td>484.0</td>\n",
       "    </tr>\n",
       "    <tr>\n",
       "      <th>143472</th>\n",
       "      <td>1534</td>\n",
       "      <td>9</td>\n",
       "      <td>1</td>\n",
       "      <td>4928.173852</td>\n",
       "      <td>23.0</td>\n",
       "      <td>free</td>\n",
       "      <td>8</td>\n",
       "      <td>50</td>\n",
       "      <td>0</td>\n",
       "      <td>234.0</td>\n",
       "    </tr>\n",
       "    <tr>\n",
       "      <th>143485</th>\n",
       "      <td>1534</td>\n",
       "      <td>11</td>\n",
       "      <td>4</td>\n",
       "      <td>13350.015305</td>\n",
       "      <td>78.0</td>\n",
       "      <td>free</td>\n",
       "      <td>8</td>\n",
       "      <td>50</td>\n",
       "      <td>0</td>\n",
       "      <td>824.0</td>\n",
       "    </tr>\n",
       "    <tr>\n",
       "      <th>143498</th>\n",
       "      <td>1534</td>\n",
       "      <td>12</td>\n",
       "      <td>1</td>\n",
       "      <td>2371.711192</td>\n",
       "      <td>16.0</td>\n",
       "      <td>free</td>\n",
       "      <td>8</td>\n",
       "      <td>50</td>\n",
       "      <td>0</td>\n",
       "      <td>178.0</td>\n",
       "    </tr>\n",
       "  </tbody>\n",
       "</table>\n",
       "<p>11331 rows × 10 columns</p>\n",
       "</div>"
      ],
      "text/plain": [
       "        user_id  month  count      distance  duration subscription_type  \\\n",
       "0             1      1      2   7027.511294      42.0             ultra   \n",
       "12            1      4      1    754.159807       7.0             ultra   \n",
       "24            1      8      2   6723.470560      46.0             ultra   \n",
       "36            1     10      2   5809.911100      32.0             ultra   \n",
       "48            1     11      3   7003.499363      56.0             ultra   \n",
       "...         ...    ...    ...           ...       ...               ...   \n",
       "143446     1534      6      2   3409.468534      26.0              free   \n",
       "143459     1534      8      2   7622.453034      48.0              free   \n",
       "143472     1534      9      1   4928.173852      23.0              free   \n",
       "143485     1534     11      4  13350.015305      78.0              free   \n",
       "143498     1534     12      1   2371.711192      16.0              free   \n",
       "\n",
       "        minute_price  start_ride_price  subscription_fee  money  \n",
       "0                  6                 0               199  451.0  \n",
       "12                 6                 0               199  241.0  \n",
       "24                 6                 0               199  475.0  \n",
       "36                 6                 0               199  391.0  \n",
       "48                 6                 0               199  535.0  \n",
       "...              ...               ...               ...    ...  \n",
       "143446             8                50                 0  308.0  \n",
       "143459             8                50                 0  484.0  \n",
       "143472             8                50                 0  234.0  \n",
       "143485             8                50                 0  824.0  \n",
       "143498             8                50                 0  178.0  \n",
       "\n",
       "[11331 rows x 10 columns]"
      ]
     },
     "execution_count": 62,
     "metadata": {},
     "output_type": "execute_result"
    }
   ],
   "source": [
    "agg_data['money'] = agg_data.apply(money, axis=1)\n",
    "agg_data"
   ]
  },
  {
   "cell_type": "markdown",
   "id": "e09bfa23",
   "metadata": {},
   "source": [
    "**Вывод**\n",
    "\n",
    "Были сгруппированы данные по месяцам и по каждому пользователю для подсчета помесячной выручки с каждого клиента в зависимости от наличия или отсутствия подписки. "
   ]
  },
  {
   "cell_type": "markdown",
   "id": "41545ac0",
   "metadata": {},
   "source": [
    "<a id='six'></a>\n",
    "## Проверка гипотез"
   ]
  },
  {
   "cell_type": "markdown",
   "id": "3213a4d6",
   "metadata": {},
   "source": [
    "*Вопрос:* Тратят ли пользователи с подпиской больше времени на поездки?\n",
    "\n",
    "**H0:** Пользователи с подпиской тратят столько же времени на поездки, сколько и пользователи без подписки\n",
    "\n",
    "**H1:** Пользователи с подпиской тратят больше времени на поездки"
   ]
  },
  {
   "cell_type": "code",
   "execution_count": 63,
   "id": "23ea867b",
   "metadata": {},
   "outputs": [
    {
     "name": "stdout",
     "output_type": "stream",
     "text": [
      "p_value равен:  1.2804098316645618e-34\n",
      "Отвергаем нулевую гипотезу\n"
     ]
    }
   ],
   "source": [
    "alpha = 0.05\n",
    "\n",
    "results = st.ttest_ind(ultra['duration'], free['duration'], alternative='greater')\n",
    "\n",
    "print('p_value равен: ', results.pvalue)\n",
    "\n",
    "if results.pvalue < alpha:\n",
    "    print('Отвергаем нулевую гипотезу')\n",
    "else:\n",
    "    print('Не получилось отвергнуть нулевую гипотезу')"
   ]
  },
  {
   "cell_type": "markdown",
   "id": "b689c4ef",
   "metadata": {},
   "source": [
    "**Вывод:**\n",
    "Нулевая гипотеза отвергнута в пользу альтернативной, а значит предположение о том, что пользователи с подпиской тратят больше времени на поездки является вероятным. "
   ]
  },
  {
   "cell_type": "markdown",
   "id": "f6929496",
   "metadata": {},
   "source": [
    "*Вопрос:* Расстояние одной поездки в 3130 метров — оптимальное с точки зрения износа самоката. Можно ли сказать, что среднее расстояние, которое проезжают пользователи с подпиской за одну поездку, не превышает 3130 метров? \n",
    "\n",
    "**H0:** Среднее расстояние, которое проезжают пользователи с подпиской равно 3130 метров\n",
    "\n",
    "**H1:** Среднее расстояние, которое проезжают пользователи с подпиской больше 3130 метров"
   ]
  },
  {
   "cell_type": "code",
   "execution_count": 64,
   "id": "dbfb858f",
   "metadata": {},
   "outputs": [
    {
     "name": "stdout",
     "output_type": "stream",
     "text": [
      "p_value равен:  0.9195368847849785\n",
      "Не получилось отвергнуть нулевую гипотезу\n"
     ]
    }
   ],
   "source": [
    "optimal_value = 3130\n",
    "\n",
    "results = st.ttest_1samp(ultra['distance'], optimal_value, alternative='greater')\n",
    "#results = st.ttest_1samp(ultra['distance'], optimal_value)\n",
    "\n",
    "print('p_value равен: ', results.pvalue)\n",
    "\n",
    "if results.pvalue < alpha:\n",
    "    print('Отвергаем нулевую гипотезу')\n",
    "else:\n",
    "    print('Не получилось отвергнуть нулевую гипотезу')"
   ]
  },
  {
   "cell_type": "markdown",
   "id": "632507b6",
   "metadata": {},
   "source": [
    "**Вывод:**\n",
    "Гипотезу не удалось отвергнуть, что означается, что пользователь в среднем проезжает равное оптимальному с точки зрения износа расстоянию. Так, можно сделать вывод о том, что ранее обсуждаемые проблемы с самокатами возникали в большинстве случаев не из-за их износа. \n"
   ]
  },
  {
   "cell_type": "markdown",
   "id": "43847369",
   "metadata": {},
   "source": [
    "*Вопрос:* Проверьте гипотезу о том, будет ли помесячная выручка от пользователей с подпиской выше, чем выручка от пользователей без подписки. \n",
    "\n",
    "**H0:** Помесячная выручка от пользователей с подпиской равна выручке от пользователей без подписки\n",
    "\n",
    "**H1:** Помесячная выручка от пользователей с подпиской больше выручки от пользователей без подписки"
   ]
  },
  {
   "cell_type": "code",
   "execution_count": 65,
   "id": "d40f7108",
   "metadata": {},
   "outputs": [
    {
     "name": "stdout",
     "output_type": "stream",
     "text": [
      "p_value равен:  1.8850394384715216e-31\n",
      "Отвергаем нулевую гипотезу\n"
     ]
    }
   ],
   "source": [
    "ultra_money = agg_data.loc[agg_data['subscription_type'] == 'ultra', 'money']\n",
    "free_money = agg_data.loc[agg_data['subscription_type'] == 'free', 'money']\n",
    "\n",
    "results = st.ttest_ind(ultra_money, free_money, alternative='greater')\n",
    "\n",
    "print('p_value равен: ',  results.pvalue)\n",
    "\n",
    "if results.pvalue < alpha:\n",
    "    print('Отвергаем нулевую гипотезу')\n",
    "else: \n",
    "    print('Не получилось отвергнуть нулевую гипотезу')"
   ]
  },
  {
   "cell_type": "markdown",
   "id": "9721dab4",
   "metadata": {},
   "source": [
    "**Вывод:**\n",
    "Нулевая гипотеза была отвергнута в пользу альтернативной - пользователи с подпиской тратят в месяц больше, чем пользователи без подписки. Таким образом, сервису для увеличения общей выручки необходимо увеличить число подписчиков, поэтому проведение акций будет являться хорошим способом дальнейшего увеличения прибыли.  "
   ]
  },
  {
   "cell_type": "markdown",
   "id": "40c0b63b",
   "metadata": {},
   "source": [
    "*Вопрос:* Представьте такую ситуацию: техническая команда сервиса обновила сервера, с которыми взаимодействует мобильное приложение. Она надеется, что из-за этого количество обращений в техподдержку значимо снизилось. Некоторый файл содержит для каждого пользователя данные о количестве обращений до обновления и после него. Какой тест вам понадобился бы для проверки этой гипотезы?\n",
    "\n",
    "**Ответ:**\n",
    "Необходимо рассмотреть зависимые данные: парные выборки до внесения изменений в систему и после, в таком случае мы пользуемся методом scipy.stats.ttest_rel и проверяем гипотезу о равенстве среднего значения генеральной совокупности до и после обновления мобильного приложения. Проверям одностороннюю гипотезу и используем параметр `alternative = 'less'`\n",
    "\n",
    "\n",
    "**H0:** Количество обращений в техподдержку после обновления приложения равно количеству обращений до обновления.\n",
    "\n",
    "**H1:** Количество обращений в техподдержку после обновления меньше, чем количество обращений до."
   ]
  },
  {
   "cell_type": "markdown",
   "id": "4d0f4a65",
   "metadata": {},
   "source": [
    "<a id='sev'></a>\n",
    "## Общий вывод"
   ]
  },
  {
   "cell_type": "markdown",
   "id": "0bcd77f6",
   "metadata": {},
   "source": [
    "*Предобработка данных*\n",
    "- В данных из трех датасетов практически не были обнаружены ошибки: были удалены дубликаты, а также исправлен тип данных для работы с информацией по дате. Для получения ответа по гипотезам был создан столбец с обозначением месяца, объединены таблицы с информацией о пользователях и их поездках, посчитана помесячная выручка по каждому из клиентов. \n",
    "- В ходе исследовательского анализа были выявлены нереалистичные значения: близкие к 0 данные по длительности поездки, а также поездки с небольшой средней скоростью, на очень короткие дистанции за длительный срок. Они могут означать наличие ошибок или сбоев в системе подсчета времени, что может сказаться на оплате, а также указывают на возможные проблемы при использовании самокатов, в связи с небольшими расстояниями поездок. \n",
    "\n",
    "*Выводы по гипотезам:*\n",
    "- Пользователи с подпиской тратят больше времени на поездки, чем пользователи без подписки. \n",
    "- Помесячная выручка от пользователей с подпиской больше, чем от пользователи без подписки.\n",
    "\n",
    "Таким образом, для увеличения общей выручки необходимо увеличить число подписчиков, поскольку они тратят больше времени и средств, что оправдывает необходимость проведения акций для побуждения большего числа пользователей обрести подписку. \n",
    "\n",
    "- Среднее расстояние поездок в среднем равно оптимальному значению износа самоката, что подводит к выводу о том, что проблема с самокатами, на которую указывает исследовательский анализ возникла по другой причине нежели износ. \n",
    "\n",
    "*Рекомендации:*\n",
    "- Провести дополнительное исследование на базе нереалистичных данных для выявления, существует ли проблемы или неисправности в самокатах.\n",
    "- Данные о расстоянии и продолжительности поездок указывают на наличие относительно долгих, но на короткие дистанции поездок, что может быть связано со сложностями при управлении самокатом или возникновением технических проблем. Для улучшения качества сервиса можно отправлять пользователю опрос для выяснения причин перемещения на короткие расстояния (например, до 400 метров) или уточнения, доволен ли клиент сервисом и возникла ли какая-либо трудность, а также отображать в мобильном приложении инструкцию по пользованию самокатом, если такой нет.\n",
    "- Доля пользователей с подпиской в различных городах разная - в Москве и Омске доля пользователей с подпиской и без практически одинакова, тогда как в других горадах отличия более значительные. При проведении локальных акций по городам можно в первую очередь проводить их в городах на юге России, поскольку число пользователей там больше, а также и доля пользователей без подписки.\n",
    "- Проверить систему подсчета времени на сбои и ошибки. \n",
    "- Ввести регламент проверки самоката на технические проблемы, если несколько поездкок подряд на нем прекращались после преодоления коротких расстоний. "
   ]
  }
 ],
 "metadata": {
  "ExecuteTimeLog": [
   {
    "duration": 1291,
    "start_time": "2025-02-14T11:46:45.462Z"
   },
   {
    "duration": 3,
    "start_time": "2025-02-14T11:49:28.825Z"
   },
   {
    "duration": 125,
    "start_time": "2025-02-14T13:27:31.533Z"
   },
   {
    "duration": 15,
    "start_time": "2025-02-14T13:30:31.353Z"
   },
   {
    "duration": 10,
    "start_time": "2025-02-14T13:30:34.879Z"
   },
   {
    "duration": 8,
    "start_time": "2025-02-14T13:30:36.925Z"
   },
   {
    "duration": 13,
    "start_time": "2025-02-14T13:34:51.347Z"
   },
   {
    "duration": 11,
    "start_time": "2025-02-14T13:35:04.316Z"
   },
   {
    "duration": 11,
    "start_time": "2025-02-14T13:49:09.589Z"
   },
   {
    "duration": 272,
    "start_time": "2025-02-14T14:01:32.241Z"
   },
   {
    "duration": 348,
    "start_time": "2025-02-14T14:01:57.475Z"
   },
   {
    "duration": 7,
    "start_time": "2025-02-14T14:05:07.769Z"
   },
   {
    "duration": 104,
    "start_time": "2025-02-14T14:06:16.501Z"
   },
   {
    "duration": 6,
    "start_time": "2025-02-14T14:06:23.716Z"
   },
   {
    "duration": 10,
    "start_time": "2025-02-14T14:13:05.720Z"
   },
   {
    "duration": 9,
    "start_time": "2025-02-14T14:13:12.440Z"
   },
   {
    "duration": 4,
    "start_time": "2025-02-14T14:13:19.407Z"
   },
   {
    "duration": 6,
    "start_time": "2025-02-14T14:13:34.049Z"
   },
   {
    "duration": 9,
    "start_time": "2025-02-14T15:09:46.518Z"
   },
   {
    "duration": 299,
    "start_time": "2025-02-14T15:11:01.554Z"
   },
   {
    "duration": 8,
    "start_time": "2025-02-14T15:14:23.954Z"
   },
   {
    "duration": 17,
    "start_time": "2025-02-14T15:14:29.940Z"
   },
   {
    "duration": 9,
    "start_time": "2025-02-14T15:25:33.338Z"
   },
   {
    "duration": 8,
    "start_time": "2025-02-14T15:35:06.311Z"
   },
   {
    "duration": 7,
    "start_time": "2025-02-14T15:38:22.270Z"
   },
   {
    "duration": 8,
    "start_time": "2025-02-14T15:47:51.275Z"
   },
   {
    "duration": 6,
    "start_time": "2025-02-14T15:47:59.835Z"
   },
   {
    "duration": 10,
    "start_time": "2025-02-14T15:48:27.193Z"
   },
   {
    "duration": 1182,
    "start_time": "2025-02-15T04:36:05.702Z"
   },
   {
    "duration": 130,
    "start_time": "2025-02-15T04:36:06.886Z"
   },
   {
    "duration": 12,
    "start_time": "2025-02-15T04:36:07.017Z"
   },
   {
    "duration": 8,
    "start_time": "2025-02-15T04:36:07.031Z"
   },
   {
    "duration": 8,
    "start_time": "2025-02-15T04:36:07.041Z"
   },
   {
    "duration": 17,
    "start_time": "2025-02-15T04:36:07.050Z"
   },
   {
    "duration": 23,
    "start_time": "2025-02-15T04:36:07.068Z"
   },
   {
    "duration": 255,
    "start_time": "2025-02-15T04:36:07.092Z"
   },
   {
    "duration": 14,
    "start_time": "2025-02-15T04:36:07.349Z"
   },
   {
    "duration": 271,
    "start_time": "2025-02-15T04:36:07.365Z"
   },
   {
    "duration": 8,
    "start_time": "2025-02-15T04:36:07.638Z"
   },
   {
    "duration": 29,
    "start_time": "2025-02-15T04:36:07.647Z"
   },
   {
    "duration": 13,
    "start_time": "2025-02-15T04:36:07.678Z"
   },
   {
    "duration": 7,
    "start_time": "2025-02-15T04:36:07.694Z"
   },
   {
    "duration": 23,
    "start_time": "2025-02-15T04:36:07.702Z"
   },
   {
    "duration": 7,
    "start_time": "2025-02-15T04:36:56.131Z"
   },
   {
    "duration": 13,
    "start_time": "2025-02-15T04:37:15.285Z"
   },
   {
    "duration": 9,
    "start_time": "2025-02-15T04:38:12.368Z"
   },
   {
    "duration": 5,
    "start_time": "2025-02-15T04:39:25.606Z"
   },
   {
    "duration": 6,
    "start_time": "2025-02-15T04:40:05.163Z"
   },
   {
    "duration": 5,
    "start_time": "2025-02-15T06:31:09.091Z"
   },
   {
    "duration": 5,
    "start_time": "2025-02-15T06:31:20.075Z"
   },
   {
    "duration": 114,
    "start_time": "2025-02-15T06:31:46.366Z"
   },
   {
    "duration": 5,
    "start_time": "2025-02-15T06:32:09.202Z"
   },
   {
    "duration": 117,
    "start_time": "2025-02-15T07:45:17.682Z"
   },
   {
    "duration": 131,
    "start_time": "2025-02-15T07:45:39.038Z"
   },
   {
    "duration": 158,
    "start_time": "2025-02-15T07:45:43.188Z"
   },
   {
    "duration": 4,
    "start_time": "2025-02-15T07:58:13.374Z"
   },
   {
    "duration": 5,
    "start_time": "2025-02-15T07:58:30.103Z"
   },
   {
    "duration": 6,
    "start_time": "2025-02-15T07:58:44.008Z"
   },
   {
    "duration": 374,
    "start_time": "2025-02-15T08:00:49.498Z"
   },
   {
    "duration": 101,
    "start_time": "2025-02-15T08:01:18.164Z"
   },
   {
    "duration": 114,
    "start_time": "2025-02-15T08:01:49.838Z"
   },
   {
    "duration": 138,
    "start_time": "2025-02-15T08:06:06.897Z"
   },
   {
    "duration": 147,
    "start_time": "2025-02-15T11:15:29.986Z"
   },
   {
    "duration": 212,
    "start_time": "2025-02-15T11:15:39.876Z"
   },
   {
    "duration": 10,
    "start_time": "2025-02-15T11:16:18.937Z"
   },
   {
    "duration": 9,
    "start_time": "2025-02-15T11:16:33.841Z"
   },
   {
    "duration": 10,
    "start_time": "2025-02-15T11:16:52.076Z"
   },
   {
    "duration": 145,
    "start_time": "2025-02-15T11:16:58.326Z"
   },
   {
    "duration": 5,
    "start_time": "2025-02-15T12:24:36.325Z"
   },
   {
    "duration": 115,
    "start_time": "2025-02-15T12:24:46.225Z"
   },
   {
    "duration": 79,
    "start_time": "2025-02-15T12:25:39.095Z"
   },
   {
    "duration": 104,
    "start_time": "2025-02-15T12:26:31.595Z"
   },
   {
    "duration": 17,
    "start_time": "2025-02-15T13:42:10.008Z"
   },
   {
    "duration": 14,
    "start_time": "2025-02-15T13:46:51.235Z"
   },
   {
    "duration": 9,
    "start_time": "2025-02-15T13:47:10.751Z"
   },
   {
    "duration": 7,
    "start_time": "2025-02-15T13:47:20.674Z"
   },
   {
    "duration": 10,
    "start_time": "2025-02-15T13:47:27.311Z"
   },
   {
    "duration": 217,
    "start_time": "2025-02-15T13:47:52.082Z"
   },
   {
    "duration": 179,
    "start_time": "2025-02-15T13:48:20.709Z"
   },
   {
    "duration": 225,
    "start_time": "2025-02-15T13:48:33.827Z"
   },
   {
    "duration": 4,
    "start_time": "2025-02-15T14:04:03.292Z"
   },
   {
    "duration": 5,
    "start_time": "2025-02-15T14:04:22.554Z"
   },
   {
    "duration": 10,
    "start_time": "2025-02-15T14:12:19.016Z"
   },
   {
    "duration": 17712,
    "start_time": "2025-02-15T14:15:26.580Z"
   },
   {
    "duration": 3,
    "start_time": "2025-02-15T14:16:25.999Z"
   },
   {
    "duration": 70,
    "start_time": "2025-02-15T14:16:26.005Z"
   },
   {
    "duration": 8,
    "start_time": "2025-02-15T14:16:26.077Z"
   },
   {
    "duration": 11,
    "start_time": "2025-02-15T14:16:26.086Z"
   },
   {
    "duration": 8,
    "start_time": "2025-02-15T14:16:26.099Z"
   },
   {
    "duration": 15,
    "start_time": "2025-02-15T14:16:26.109Z"
   },
   {
    "duration": 10,
    "start_time": "2025-02-15T14:16:26.125Z"
   },
   {
    "duration": 225,
    "start_time": "2025-02-15T14:16:26.137Z"
   },
   {
    "duration": 6,
    "start_time": "2025-02-15T14:16:26.364Z"
   },
   {
    "duration": 259,
    "start_time": "2025-02-15T14:16:26.371Z"
   },
   {
    "duration": 9,
    "start_time": "2025-02-15T14:16:26.632Z"
   },
   {
    "duration": 20,
    "start_time": "2025-02-15T14:16:26.642Z"
   },
   {
    "duration": 7,
    "start_time": "2025-02-15T14:16:26.663Z"
   },
   {
    "duration": 4,
    "start_time": "2025-02-15T14:16:26.673Z"
   },
   {
    "duration": 6,
    "start_time": "2025-02-15T14:16:26.678Z"
   },
   {
    "duration": 7,
    "start_time": "2025-02-15T14:16:26.686Z"
   },
   {
    "duration": 8,
    "start_time": "2025-02-15T14:16:26.695Z"
   },
   {
    "duration": 8,
    "start_time": "2025-02-15T14:16:26.705Z"
   },
   {
    "duration": 164,
    "start_time": "2025-02-15T14:16:26.715Z"
   },
   {
    "duration": 5,
    "start_time": "2025-02-15T14:16:26.881Z"
   },
   {
    "duration": 105,
    "start_time": "2025-02-15T14:16:26.887Z"
   },
   {
    "duration": 16,
    "start_time": "2025-02-15T14:16:26.994Z"
   },
   {
    "duration": 200,
    "start_time": "2025-02-15T14:16:27.012Z"
   },
   {
    "duration": 7,
    "start_time": "2025-02-15T14:16:27.214Z"
   },
   {
    "duration": 17380,
    "start_time": "2025-02-15T14:16:27.222Z"
   },
   {
    "duration": 127,
    "start_time": "2025-02-15T14:17:27.670Z"
   },
   {
    "duration": 169,
    "start_time": "2025-02-15T14:18:22.103Z"
   },
   {
    "duration": 171,
    "start_time": "2025-02-15T14:18:56.008Z"
   },
   {
    "duration": 174,
    "start_time": "2025-02-15T14:19:35.957Z"
   },
   {
    "duration": 196,
    "start_time": "2025-02-15T14:19:49.001Z"
   },
   {
    "duration": 1299,
    "start_time": "2025-02-16T10:23:52.523Z"
   },
   {
    "duration": 152,
    "start_time": "2025-02-16T10:23:53.824Z"
   },
   {
    "duration": 12,
    "start_time": "2025-02-16T10:23:53.978Z"
   },
   {
    "duration": 8,
    "start_time": "2025-02-16T10:23:53.991Z"
   },
   {
    "duration": 7,
    "start_time": "2025-02-16T10:23:54.001Z"
   },
   {
    "duration": 12,
    "start_time": "2025-02-16T10:23:54.009Z"
   },
   {
    "duration": 14,
    "start_time": "2025-02-16T10:23:54.022Z"
   },
   {
    "duration": 278,
    "start_time": "2025-02-16T10:23:54.037Z"
   },
   {
    "duration": 7,
    "start_time": "2025-02-16T10:23:54.317Z"
   },
   {
    "duration": 308,
    "start_time": "2025-02-16T10:23:54.325Z"
   },
   {
    "duration": 8,
    "start_time": "2025-02-16T10:23:54.635Z"
   },
   {
    "duration": 9,
    "start_time": "2025-02-16T10:23:54.644Z"
   },
   {
    "duration": 34,
    "start_time": "2025-02-16T10:23:54.654Z"
   },
   {
    "duration": 4,
    "start_time": "2025-02-16T10:23:54.690Z"
   },
   {
    "duration": 5,
    "start_time": "2025-02-16T10:23:54.695Z"
   },
   {
    "duration": 23,
    "start_time": "2025-02-16T10:23:54.701Z"
   },
   {
    "duration": 7,
    "start_time": "2025-02-16T10:23:54.725Z"
   },
   {
    "duration": 5,
    "start_time": "2025-02-16T10:23:54.733Z"
   },
   {
    "duration": 163,
    "start_time": "2025-02-16T10:23:54.739Z"
   },
   {
    "duration": 5,
    "start_time": "2025-02-16T10:23:54.904Z"
   },
   {
    "duration": 101,
    "start_time": "2025-02-16T10:23:54.910Z"
   },
   {
    "duration": 16,
    "start_time": "2025-02-16T10:23:55.012Z"
   },
   {
    "duration": 221,
    "start_time": "2025-02-16T10:23:55.029Z"
   },
   {
    "duration": 4,
    "start_time": "2025-02-16T10:23:55.252Z"
   },
   {
    "duration": 255,
    "start_time": "2025-02-16T10:23:55.258Z"
   },
   {
    "duration": 18230,
    "start_time": "2025-02-16T10:23:55.515Z"
   },
   {
    "duration": 140,
    "start_time": "2025-02-16T10:47:53.681Z"
   },
   {
    "duration": 4,
    "start_time": "2025-02-16T10:50:53.941Z"
   },
   {
    "duration": 261,
    "start_time": "2025-02-16T10:57:03.602Z"
   },
   {
    "duration": 255,
    "start_time": "2025-02-16T10:57:35.414Z"
   },
   {
    "duration": 1368,
    "start_time": "2025-02-16T14:28:27.112Z"
   },
   {
    "duration": 128,
    "start_time": "2025-02-16T14:28:28.483Z"
   },
   {
    "duration": 13,
    "start_time": "2025-02-16T14:28:28.613Z"
   },
   {
    "duration": 9,
    "start_time": "2025-02-16T14:28:28.628Z"
   },
   {
    "duration": 11,
    "start_time": "2025-02-16T14:28:28.638Z"
   },
   {
    "duration": 13,
    "start_time": "2025-02-16T14:28:28.650Z"
   },
   {
    "duration": 11,
    "start_time": "2025-02-16T14:28:28.664Z"
   },
   {
    "duration": 281,
    "start_time": "2025-02-16T14:28:28.677Z"
   },
   {
    "duration": 5,
    "start_time": "2025-02-16T14:28:28.960Z"
   },
   {
    "duration": 305,
    "start_time": "2025-02-16T14:28:28.968Z"
   },
   {
    "duration": 10,
    "start_time": "2025-02-16T14:28:29.274Z"
   },
   {
    "duration": 5,
    "start_time": "2025-02-16T14:28:29.286Z"
   },
   {
    "duration": 9,
    "start_time": "2025-02-16T14:28:29.293Z"
   },
   {
    "duration": 32,
    "start_time": "2025-02-16T14:28:29.303Z"
   },
   {
    "duration": 11,
    "start_time": "2025-02-16T14:28:29.337Z"
   },
   {
    "duration": 33,
    "start_time": "2025-02-16T14:28:29.349Z"
   },
   {
    "duration": 8,
    "start_time": "2025-02-16T14:28:29.384Z"
   },
   {
    "duration": 5,
    "start_time": "2025-02-16T14:28:29.394Z"
   },
   {
    "duration": 163,
    "start_time": "2025-02-16T14:28:29.401Z"
   },
   {
    "duration": 6,
    "start_time": "2025-02-16T14:28:29.565Z"
   },
   {
    "duration": 126,
    "start_time": "2025-02-16T14:28:29.573Z"
   },
   {
    "duration": 16,
    "start_time": "2025-02-16T14:28:29.701Z"
   },
   {
    "duration": 231,
    "start_time": "2025-02-16T14:28:29.719Z"
   },
   {
    "duration": 6,
    "start_time": "2025-02-16T14:28:29.951Z"
   },
   {
    "duration": 255,
    "start_time": "2025-02-16T14:28:29.958Z"
   },
   {
    "duration": 320,
    "start_time": "2025-02-16T14:28:30.215Z"
   },
   {
    "duration": 381,
    "start_time": "2025-02-16T14:28:30.537Z"
   },
   {
    "duration": 119,
    "start_time": "2025-02-16T15:40:28.170Z"
   },
   {
    "duration": 105,
    "start_time": "2025-02-16T15:40:38.731Z"
   },
   {
    "duration": 146,
    "start_time": "2025-02-16T15:41:06.114Z"
   },
   {
    "duration": 4,
    "start_time": "2025-02-16T16:29:52.345Z"
   },
   {
    "duration": 8,
    "start_time": "2025-02-16T16:29:58.325Z"
   },
   {
    "duration": 8,
    "start_time": "2025-02-16T16:31:38.925Z"
   },
   {
    "duration": 9,
    "start_time": "2025-02-16T16:32:07.845Z"
   },
   {
    "duration": 317,
    "start_time": "2025-02-16T16:34:37.565Z"
   },
   {
    "duration": 10,
    "start_time": "2025-02-16T16:36:43.358Z"
   },
   {
    "duration": 18,
    "start_time": "2025-02-16T16:39:37.848Z"
   },
   {
    "duration": 18,
    "start_time": "2025-02-16T16:39:55.230Z"
   },
   {
    "duration": 111,
    "start_time": "2025-02-16T16:44:33.611Z"
   },
   {
    "duration": 17,
    "start_time": "2025-02-16T16:44:38.530Z"
   },
   {
    "duration": 4,
    "start_time": "2025-02-16T16:44:41.774Z"
   },
   {
    "duration": 341,
    "start_time": "2025-02-16T16:45:27.451Z"
   },
   {
    "duration": 463,
    "start_time": "2025-02-16T16:46:38.330Z"
   },
   {
    "duration": 416,
    "start_time": "2025-02-16T16:47:16.610Z"
   },
   {
    "duration": 12,
    "start_time": "2025-02-16T17:03:53.108Z"
   },
   {
    "duration": 13,
    "start_time": "2025-02-16T17:07:32.433Z"
   },
   {
    "duration": 14,
    "start_time": "2025-02-16T17:08:47.676Z"
   },
   {
    "duration": 10,
    "start_time": "2025-02-16T17:46:01.110Z"
   },
   {
    "duration": 11,
    "start_time": "2025-02-16T18:15:36.831Z"
   },
   {
    "duration": 301,
    "start_time": "2025-02-16T18:17:20.659Z"
   },
   {
    "duration": 1241,
    "start_time": "2025-02-16T18:17:38.162Z"
   },
   {
    "duration": 9,
    "start_time": "2025-02-16T18:17:48.377Z"
   },
   {
    "duration": 442,
    "start_time": "2025-02-16T18:18:17.696Z"
   },
   {
    "duration": 284,
    "start_time": "2025-02-16T18:18:51.896Z"
   },
   {
    "duration": 53,
    "start_time": "2025-02-17T04:42:15.067Z"
   },
   {
    "duration": 1250,
    "start_time": "2025-02-17T04:42:25.309Z"
   },
   {
    "duration": 131,
    "start_time": "2025-02-17T04:42:26.561Z"
   },
   {
    "duration": 12,
    "start_time": "2025-02-17T04:42:26.694Z"
   },
   {
    "duration": 8,
    "start_time": "2025-02-17T04:42:26.707Z"
   },
   {
    "duration": 9,
    "start_time": "2025-02-17T04:42:26.717Z"
   },
   {
    "duration": 11,
    "start_time": "2025-02-17T04:42:26.727Z"
   },
   {
    "duration": 72,
    "start_time": "2025-02-17T04:42:26.740Z"
   },
   {
    "duration": 252,
    "start_time": "2025-02-17T04:42:26.813Z"
   },
   {
    "duration": 5,
    "start_time": "2025-02-17T04:42:27.067Z"
   },
   {
    "duration": 282,
    "start_time": "2025-02-17T04:42:27.074Z"
   },
   {
    "duration": 10,
    "start_time": "2025-02-17T04:42:27.357Z"
   },
   {
    "duration": 6,
    "start_time": "2025-02-17T04:42:27.368Z"
   },
   {
    "duration": 77,
    "start_time": "2025-02-17T04:42:27.375Z"
   },
   {
    "duration": 5,
    "start_time": "2025-02-17T04:42:27.454Z"
   },
   {
    "duration": 5,
    "start_time": "2025-02-17T04:42:27.460Z"
   },
   {
    "duration": 7,
    "start_time": "2025-02-17T04:42:27.467Z"
   },
   {
    "duration": 7,
    "start_time": "2025-02-17T04:42:27.475Z"
   },
   {
    "duration": 5,
    "start_time": "2025-02-17T04:42:27.484Z"
   },
   {
    "duration": 143,
    "start_time": "2025-02-17T04:42:27.490Z"
   },
   {
    "duration": 5,
    "start_time": "2025-02-17T04:42:27.635Z"
   },
   {
    "duration": 103,
    "start_time": "2025-02-17T04:42:27.642Z"
   },
   {
    "duration": 16,
    "start_time": "2025-02-17T04:42:27.746Z"
   },
   {
    "duration": 236,
    "start_time": "2025-02-17T04:42:27.764Z"
   },
   {
    "duration": 12,
    "start_time": "2025-02-17T04:42:28.002Z"
   },
   {
    "duration": 231,
    "start_time": "2025-02-17T04:42:28.016Z"
   },
   {
    "duration": 127,
    "start_time": "2025-02-17T04:42:28.249Z"
   },
   {
    "duration": 5,
    "start_time": "2025-02-17T04:42:28.378Z"
   },
   {
    "duration": 62,
    "start_time": "2025-02-17T04:43:16.337Z"
   },
   {
    "duration": 6,
    "start_time": "2025-02-17T04:43:29.367Z"
   },
   {
    "duration": 5,
    "start_time": "2025-02-17T04:43:54.138Z"
   },
   {
    "duration": 5,
    "start_time": "2025-02-17T04:43:57.715Z"
   },
   {
    "duration": 4,
    "start_time": "2025-02-17T04:44:21.432Z"
   },
   {
    "duration": 10,
    "start_time": "2025-02-17T04:45:22.730Z"
   },
   {
    "duration": 4,
    "start_time": "2025-02-17T04:45:33.946Z"
   },
   {
    "duration": 1639,
    "start_time": "2025-02-17T05:13:19.486Z"
   },
   {
    "duration": 1108,
    "start_time": "2025-02-17T05:13:52.178Z"
   },
   {
    "duration": 124,
    "start_time": "2025-02-17T05:13:53.288Z"
   },
   {
    "duration": 12,
    "start_time": "2025-02-17T05:13:53.413Z"
   },
   {
    "duration": 8,
    "start_time": "2025-02-17T05:13:53.427Z"
   },
   {
    "duration": 8,
    "start_time": "2025-02-17T05:13:53.437Z"
   },
   {
    "duration": 10,
    "start_time": "2025-02-17T05:13:53.446Z"
   },
   {
    "duration": 10,
    "start_time": "2025-02-17T05:13:53.458Z"
   },
   {
    "duration": 306,
    "start_time": "2025-02-17T05:13:53.469Z"
   },
   {
    "duration": 6,
    "start_time": "2025-02-17T05:13:53.776Z"
   },
   {
    "duration": 284,
    "start_time": "2025-02-17T05:13:53.784Z"
   },
   {
    "duration": 9,
    "start_time": "2025-02-17T05:13:54.070Z"
   },
   {
    "duration": 15,
    "start_time": "2025-02-17T05:13:54.080Z"
   },
   {
    "duration": 20,
    "start_time": "2025-02-17T05:13:54.097Z"
   },
   {
    "duration": 5,
    "start_time": "2025-02-17T05:13:54.119Z"
   },
   {
    "duration": 5,
    "start_time": "2025-02-17T05:13:54.125Z"
   },
   {
    "duration": 10,
    "start_time": "2025-02-17T05:13:54.131Z"
   },
   {
    "duration": 10,
    "start_time": "2025-02-17T05:13:54.142Z"
   },
   {
    "duration": 5,
    "start_time": "2025-02-17T05:13:54.153Z"
   },
   {
    "duration": 178,
    "start_time": "2025-02-17T05:13:54.159Z"
   },
   {
    "duration": 6,
    "start_time": "2025-02-17T05:13:54.338Z"
   },
   {
    "duration": 118,
    "start_time": "2025-02-17T05:13:54.346Z"
   },
   {
    "duration": 16,
    "start_time": "2025-02-17T05:13:54.466Z"
   },
   {
    "duration": 230,
    "start_time": "2025-02-17T05:13:54.483Z"
   },
   {
    "duration": 6,
    "start_time": "2025-02-17T05:13:54.715Z"
   },
   {
    "duration": 242,
    "start_time": "2025-02-17T05:13:54.723Z"
   },
   {
    "duration": 133,
    "start_time": "2025-02-17T05:13:54.967Z"
   },
   {
    "duration": 17,
    "start_time": "2025-02-17T05:13:55.102Z"
   },
   {
    "duration": 330,
    "start_time": "2025-02-17T05:13:55.123Z"
   },
   {
    "duration": 16,
    "start_time": "2025-02-17T05:13:55.454Z"
   },
   {
    "duration": 72,
    "start_time": "2025-02-17T05:13:55.472Z"
   },
   {
    "duration": 373,
    "start_time": "2025-02-17T05:13:55.545Z"
   },
   {
    "duration": 13,
    "start_time": "2025-02-17T05:13:55.919Z"
   },
   {
    "duration": 5,
    "start_time": "2025-02-17T05:13:55.933Z"
   },
   {
    "duration": 413,
    "start_time": "2025-02-17T05:13:55.940Z"
   },
   {
    "duration": 9,
    "start_time": "2025-02-17T05:13:56.354Z"
   },
   {
    "duration": 310,
    "start_time": "2025-02-17T05:13:56.364Z"
   },
   {
    "duration": 4,
    "start_time": "2025-02-17T05:14:23.771Z"
   },
   {
    "duration": 484,
    "start_time": "2025-02-17T05:15:00.817Z"
   },
   {
    "duration": 9,
    "start_time": "2025-02-17T05:15:35.744Z"
   },
   {
    "duration": 19,
    "start_time": "2025-02-17T10:13:19.869Z"
   },
   {
    "duration": 683,
    "start_time": "2025-02-17T10:14:41.606Z"
   },
   {
    "duration": 14,
    "start_time": "2025-02-17T10:14:58.592Z"
   },
   {
    "duration": 14,
    "start_time": "2025-02-17T10:15:04.509Z"
   },
   {
    "duration": 13,
    "start_time": "2025-02-17T10:40:29.854Z"
   },
   {
    "duration": 5,
    "start_time": "2025-02-17T10:50:26.186Z"
   },
   {
    "duration": 12,
    "start_time": "2025-02-17T10:50:28.253Z"
   },
   {
    "duration": 7,
    "start_time": "2025-02-17T10:50:32.024Z"
   },
   {
    "duration": 3,
    "start_time": "2025-02-17T10:50:43.524Z"
   },
   {
    "duration": 260,
    "start_time": "2025-02-17T10:51:29.293Z"
   },
   {
    "duration": 1103,
    "start_time": "2025-02-17T10:52:45.020Z"
   },
   {
    "duration": 111,
    "start_time": "2025-02-17T10:52:46.125Z"
   },
   {
    "duration": 12,
    "start_time": "2025-02-17T10:52:46.238Z"
   },
   {
    "duration": 8,
    "start_time": "2025-02-17T10:52:46.252Z"
   },
   {
    "duration": 7,
    "start_time": "2025-02-17T10:52:46.261Z"
   },
   {
    "duration": 29,
    "start_time": "2025-02-17T10:52:46.269Z"
   },
   {
    "duration": 12,
    "start_time": "2025-02-17T10:52:46.299Z"
   },
   {
    "duration": 287,
    "start_time": "2025-02-17T10:52:46.313Z"
   },
   {
    "duration": 14,
    "start_time": "2025-02-17T10:52:46.602Z"
   },
   {
    "duration": 286,
    "start_time": "2025-02-17T10:52:46.618Z"
   },
   {
    "duration": 14,
    "start_time": "2025-02-17T10:52:46.906Z"
   },
   {
    "duration": 5,
    "start_time": "2025-02-17T10:52:46.922Z"
   },
   {
    "duration": 8,
    "start_time": "2025-02-17T10:52:46.929Z"
   },
   {
    "duration": 5,
    "start_time": "2025-02-17T10:52:46.938Z"
   },
   {
    "duration": 6,
    "start_time": "2025-02-17T10:52:46.944Z"
   },
   {
    "duration": 7,
    "start_time": "2025-02-17T10:52:46.951Z"
   },
   {
    "duration": 7,
    "start_time": "2025-02-17T10:52:46.959Z"
   },
   {
    "duration": 51,
    "start_time": "2025-02-17T10:52:46.967Z"
   },
   {
    "duration": 153,
    "start_time": "2025-02-17T10:52:47.019Z"
   },
   {
    "duration": 5,
    "start_time": "2025-02-17T10:52:47.174Z"
   },
   {
    "duration": 119,
    "start_time": "2025-02-17T10:52:47.181Z"
   },
   {
    "duration": 24,
    "start_time": "2025-02-17T10:52:47.302Z"
   },
   {
    "duration": 205,
    "start_time": "2025-02-17T10:52:47.327Z"
   },
   {
    "duration": 5,
    "start_time": "2025-02-17T10:52:47.534Z"
   },
   {
    "duration": 236,
    "start_time": "2025-02-17T10:52:47.540Z"
   },
   {
    "duration": 140,
    "start_time": "2025-02-17T10:52:47.778Z"
   },
   {
    "duration": 7,
    "start_time": "2025-02-17T10:52:47.920Z"
   },
   {
    "duration": 346,
    "start_time": "2025-02-17T10:52:47.930Z"
   },
   {
    "duration": 17,
    "start_time": "2025-02-17T10:52:48.277Z"
   },
   {
    "duration": 18,
    "start_time": "2025-02-17T10:52:48.296Z"
   },
   {
    "duration": 372,
    "start_time": "2025-02-17T10:52:48.315Z"
   },
   {
    "duration": 12,
    "start_time": "2025-02-17T10:52:48.688Z"
   },
   {
    "duration": 15,
    "start_time": "2025-02-17T10:52:48.701Z"
   },
   {
    "duration": 386,
    "start_time": "2025-02-17T10:52:48.718Z"
   },
   {
    "duration": 14,
    "start_time": "2025-02-17T10:52:49.105Z"
   },
   {
    "duration": 12,
    "start_time": "2025-02-17T10:52:49.121Z"
   },
   {
    "duration": 7,
    "start_time": "2025-02-17T10:56:31.524Z"
   },
   {
    "duration": 266,
    "start_time": "2025-02-17T10:56:36.605Z"
   },
   {
    "duration": 15,
    "start_time": "2025-02-17T10:57:11.531Z"
   },
   {
    "duration": 14,
    "start_time": "2025-02-17T10:57:26.408Z"
   },
   {
    "duration": 16,
    "start_time": "2025-02-17T11:19:14.616Z"
   },
   {
    "duration": 382,
    "start_time": "2025-02-17T11:21:53.915Z"
   },
   {
    "duration": 14,
    "start_time": "2025-02-17T11:22:12.365Z"
   },
   {
    "duration": 14,
    "start_time": "2025-02-17T11:22:33.694Z"
   },
   {
    "duration": 16,
    "start_time": "2025-02-17T11:26:11.251Z"
   },
   {
    "duration": 12,
    "start_time": "2025-02-17T11:26:40.390Z"
   },
   {
    "duration": 13,
    "start_time": "2025-02-17T11:27:01.577Z"
   },
   {
    "duration": 15,
    "start_time": "2025-02-17T11:27:15.776Z"
   },
   {
    "duration": 15,
    "start_time": "2025-02-17T11:27:26.670Z"
   },
   {
    "duration": 13,
    "start_time": "2025-02-17T11:27:38.697Z"
   },
   {
    "duration": 15,
    "start_time": "2025-02-17T11:53:09.950Z"
   },
   {
    "duration": 14,
    "start_time": "2025-02-17T11:53:17.669Z"
   },
   {
    "duration": 9,
    "start_time": "2025-02-17T11:54:39.190Z"
   },
   {
    "duration": 9,
    "start_time": "2025-02-17T11:57:05.764Z"
   },
   {
    "duration": 13,
    "start_time": "2025-02-17T11:57:14.658Z"
   },
   {
    "duration": 7,
    "start_time": "2025-02-17T12:28:28.969Z"
   },
   {
    "duration": 277,
    "start_time": "2025-02-17T12:28:53.305Z"
   },
   {
    "duration": 379,
    "start_time": "2025-02-17T12:29:15.185Z"
   },
   {
    "duration": 13,
    "start_time": "2025-02-17T12:30:38.875Z"
   },
   {
    "duration": 16,
    "start_time": "2025-02-17T12:31:02.424Z"
   },
   {
    "duration": 15,
    "start_time": "2025-02-17T12:32:12.294Z"
   },
   {
    "duration": 13,
    "start_time": "2025-02-17T12:32:35.524Z"
   },
   {
    "duration": 12,
    "start_time": "2025-02-17T12:42:59.258Z"
   },
   {
    "duration": 12,
    "start_time": "2025-02-17T12:46:10.744Z"
   },
   {
    "duration": 12,
    "start_time": "2025-02-17T12:46:51.525Z"
   },
   {
    "duration": 8,
    "start_time": "2025-02-17T12:47:48.775Z"
   },
   {
    "duration": 285,
    "start_time": "2025-02-17T12:47:53.065Z"
   },
   {
    "duration": 9,
    "start_time": "2025-02-17T12:59:35.099Z"
   },
   {
    "duration": 16,
    "start_time": "2025-02-17T13:00:20.037Z"
   },
   {
    "duration": 15,
    "start_time": "2025-02-17T14:04:01.718Z"
   },
   {
    "duration": 7,
    "start_time": "2025-02-17T14:04:19.661Z"
   },
   {
    "duration": 9,
    "start_time": "2025-02-17T14:04:22.660Z"
   },
   {
    "duration": 8,
    "start_time": "2025-02-17T14:04:25.403Z"
   },
   {
    "duration": 269,
    "start_time": "2025-02-17T14:04:33.297Z"
   },
   {
    "duration": 287,
    "start_time": "2025-02-17T14:19:58.974Z"
   },
   {
    "duration": 1690,
    "start_time": "2025-02-17T14:20:30.483Z"
   },
   {
    "duration": 527,
    "start_time": "2025-02-17T14:20:32.731Z"
   },
   {
    "duration": 307,
    "start_time": "2025-02-17T14:29:46.057Z"
   },
   {
    "duration": 427,
    "start_time": "2025-02-17T14:29:50.162Z"
   },
   {
    "duration": 15,
    "start_time": "2025-02-17T14:45:35.442Z"
   },
   {
    "duration": 16,
    "start_time": "2025-02-17T14:46:48.521Z"
   },
   {
    "duration": 10,
    "start_time": "2025-02-17T14:49:14.749Z"
   },
   {
    "duration": 26,
    "start_time": "2025-02-17T14:57:37.860Z"
   },
   {
    "duration": 14,
    "start_time": "2025-02-17T15:05:49.201Z"
   },
   {
    "duration": 41,
    "start_time": "2025-02-17T15:05:56.183Z"
   },
   {
    "duration": 22,
    "start_time": "2025-02-17T15:06:00.234Z"
   },
   {
    "duration": 1269,
    "start_time": "2025-02-18T04:39:50.923Z"
   },
   {
    "duration": 150,
    "start_time": "2025-02-18T04:39:52.194Z"
   },
   {
    "duration": 14,
    "start_time": "2025-02-18T04:39:52.346Z"
   },
   {
    "duration": 80,
    "start_time": "2025-02-18T04:39:52.362Z"
   },
   {
    "duration": 43,
    "start_time": "2025-02-18T04:39:52.444Z"
   },
   {
    "duration": 24,
    "start_time": "2025-02-18T04:39:52.488Z"
   },
   {
    "duration": 23,
    "start_time": "2025-02-18T04:39:52.514Z"
   },
   {
    "duration": 272,
    "start_time": "2025-02-18T04:39:52.539Z"
   },
   {
    "duration": 7,
    "start_time": "2025-02-18T04:39:52.812Z"
   },
   {
    "duration": 332,
    "start_time": "2025-02-18T04:39:52.822Z"
   },
   {
    "duration": 10,
    "start_time": "2025-02-18T04:39:53.156Z"
   },
   {
    "duration": 24,
    "start_time": "2025-02-18T04:39:53.167Z"
   },
   {
    "duration": 37,
    "start_time": "2025-02-18T04:39:53.192Z"
   },
   {
    "duration": 23,
    "start_time": "2025-02-18T04:39:53.230Z"
   },
   {
    "duration": 10,
    "start_time": "2025-02-18T04:39:53.255Z"
   },
   {
    "duration": 34,
    "start_time": "2025-02-18T04:39:53.267Z"
   },
   {
    "duration": 14,
    "start_time": "2025-02-18T04:39:53.302Z"
   },
   {
    "duration": 11,
    "start_time": "2025-02-18T04:39:53.317Z"
   },
   {
    "duration": 161,
    "start_time": "2025-02-18T04:39:53.330Z"
   },
   {
    "duration": 10,
    "start_time": "2025-02-18T04:39:53.493Z"
   },
   {
    "duration": 127,
    "start_time": "2025-02-18T04:39:53.504Z"
   },
   {
    "duration": 19,
    "start_time": "2025-02-18T04:39:53.633Z"
   },
   {
    "duration": 226,
    "start_time": "2025-02-18T04:39:53.654Z"
   },
   {
    "duration": 5,
    "start_time": "2025-02-18T04:39:53.882Z"
   },
   {
    "duration": 295,
    "start_time": "2025-02-18T04:39:53.899Z"
   },
   {
    "duration": 140,
    "start_time": "2025-02-18T04:39:54.196Z"
   },
   {
    "duration": 8,
    "start_time": "2025-02-18T04:39:54.338Z"
   },
   {
    "duration": 395,
    "start_time": "2025-02-18T04:39:54.350Z"
   },
   {
    "duration": 18,
    "start_time": "2025-02-18T04:39:54.747Z"
   },
   {
    "duration": 6,
    "start_time": "2025-02-18T04:39:54.766Z"
   },
   {
    "duration": 416,
    "start_time": "2025-02-18T04:39:54.774Z"
   },
   {
    "duration": 20,
    "start_time": "2025-02-18T04:39:55.191Z"
   },
   {
    "duration": 47,
    "start_time": "2025-02-18T04:39:55.213Z"
   },
   {
    "duration": 428,
    "start_time": "2025-02-18T04:39:55.262Z"
   },
   {
    "duration": 15,
    "start_time": "2025-02-18T04:39:55.692Z"
   },
   {
    "duration": 13,
    "start_time": "2025-02-18T04:39:55.708Z"
   },
   {
    "duration": 9,
    "start_time": "2025-02-18T04:39:55.722Z"
   },
   {
    "duration": 19,
    "start_time": "2025-02-18T04:39:55.733Z"
   },
   {
    "duration": 7,
    "start_time": "2025-02-18T04:39:55.754Z"
   },
   {
    "duration": 38,
    "start_time": "2025-02-18T04:39:55.763Z"
   },
   {
    "duration": 297,
    "start_time": "2025-02-18T04:39:55.802Z"
   },
   {
    "duration": 507,
    "start_time": "2025-02-18T04:39:56.101Z"
   },
   {
    "duration": 10,
    "start_time": "2025-02-18T04:39:56.610Z"
   },
   {
    "duration": 28,
    "start_time": "2025-02-18T04:39:56.621Z"
   },
   {
    "duration": 48,
    "start_time": "2025-02-18T04:39:56.651Z"
   },
   {
    "duration": 27,
    "start_time": "2025-02-18T04:39:56.701Z"
   },
   {
    "duration": 306,
    "start_time": "2025-02-18T04:41:23.575Z"
   },
   {
    "duration": 276,
    "start_time": "2025-02-18T04:41:39.543Z"
   },
   {
    "duration": 282,
    "start_time": "2025-02-18T04:41:54.175Z"
   },
   {
    "duration": 285,
    "start_time": "2025-02-18T04:42:11.941Z"
   },
   {
    "duration": 259,
    "start_time": "2025-02-18T04:43:42.095Z"
   },
   {
    "duration": 528,
    "start_time": "2025-02-18T04:43:52.535Z"
   },
   {
    "duration": 406,
    "start_time": "2025-02-18T04:44:15.255Z"
   },
   {
    "duration": 400,
    "start_time": "2025-02-18T04:44:31.566Z"
   },
   {
    "duration": 532,
    "start_time": "2025-02-18T04:45:21.878Z"
   },
   {
    "duration": 384,
    "start_time": "2025-02-18T04:46:30.730Z"
   },
   {
    "duration": 419,
    "start_time": "2025-02-18T04:46:41.000Z"
   },
   {
    "duration": 420,
    "start_time": "2025-02-18T04:51:19.455Z"
   },
   {
    "duration": 307,
    "start_time": "2025-02-18T04:51:30.536Z"
   },
   {
    "duration": 558,
    "start_time": "2025-02-18T04:51:43.933Z"
   },
   {
    "duration": 306,
    "start_time": "2025-02-18T04:52:50.336Z"
   },
   {
    "duration": 307,
    "start_time": "2025-02-18T04:54:47.285Z"
   },
   {
    "duration": 429,
    "start_time": "2025-02-18T04:55:07.345Z"
   },
   {
    "duration": 535,
    "start_time": "2025-02-18T04:55:50.023Z"
   },
   {
    "duration": 434,
    "start_time": "2025-02-18T04:56:13.696Z"
   },
   {
    "duration": 433,
    "start_time": "2025-02-18T04:56:38.212Z"
   },
   {
    "duration": 438,
    "start_time": "2025-02-18T04:56:51.655Z"
   },
   {
    "duration": 17,
    "start_time": "2025-02-18T05:19:12.295Z"
   },
   {
    "duration": 8,
    "start_time": "2025-02-18T05:21:12.118Z"
   },
   {
    "duration": 15,
    "start_time": "2025-02-18T05:21:24.655Z"
   },
   {
    "duration": 16,
    "start_time": "2025-02-18T05:27:27.701Z"
   },
   {
    "duration": 12,
    "start_time": "2025-02-18T05:29:12.247Z"
   },
   {
    "duration": 23,
    "start_time": "2025-02-18T05:29:36.897Z"
   },
   {
    "duration": 23,
    "start_time": "2025-02-18T05:29:45.146Z"
   },
   {
    "duration": 360,
    "start_time": "2025-02-18T05:38:50.232Z"
   },
   {
    "duration": 164,
    "start_time": "2025-02-18T05:38:55.934Z"
   },
   {
    "duration": 4,
    "start_time": "2025-02-18T05:47:14.533Z"
   },
   {
    "duration": 22,
    "start_time": "2025-02-18T05:47:17.662Z"
   },
   {
    "duration": 1392,
    "start_time": "2025-02-18T10:54:27.972Z"
   },
   {
    "duration": 142,
    "start_time": "2025-02-18T10:54:29.367Z"
   },
   {
    "duration": 13,
    "start_time": "2025-02-18T10:54:29.511Z"
   },
   {
    "duration": 10,
    "start_time": "2025-02-18T10:54:29.526Z"
   },
   {
    "duration": 17,
    "start_time": "2025-02-18T10:54:29.538Z"
   },
   {
    "duration": 37,
    "start_time": "2025-02-18T10:54:29.556Z"
   },
   {
    "duration": 46,
    "start_time": "2025-02-18T10:54:29.595Z"
   },
   {
    "duration": 268,
    "start_time": "2025-02-18T10:54:29.642Z"
   },
   {
    "duration": 6,
    "start_time": "2025-02-18T10:54:29.911Z"
   },
   {
    "duration": 320,
    "start_time": "2025-02-18T10:54:29.918Z"
   },
   {
    "duration": 13,
    "start_time": "2025-02-18T10:54:30.240Z"
   },
   {
    "duration": 50,
    "start_time": "2025-02-18T10:54:30.255Z"
   },
   {
    "duration": 53,
    "start_time": "2025-02-18T10:54:30.306Z"
   },
   {
    "duration": 27,
    "start_time": "2025-02-18T10:54:30.363Z"
   },
   {
    "duration": 26,
    "start_time": "2025-02-18T10:54:30.392Z"
   },
   {
    "duration": 48,
    "start_time": "2025-02-18T10:54:30.420Z"
   },
   {
    "duration": 37,
    "start_time": "2025-02-18T10:54:30.470Z"
   },
   {
    "duration": 20,
    "start_time": "2025-02-18T10:54:30.509Z"
   },
   {
    "duration": 181,
    "start_time": "2025-02-18T10:54:30.531Z"
   },
   {
    "duration": 6,
    "start_time": "2025-02-18T10:54:30.714Z"
   },
   {
    "duration": 108,
    "start_time": "2025-02-18T10:54:30.733Z"
   },
   {
    "duration": 19,
    "start_time": "2025-02-18T10:54:30.842Z"
   },
   {
    "duration": 230,
    "start_time": "2025-02-18T10:54:30.862Z"
   },
   {
    "duration": 6,
    "start_time": "2025-02-18T10:54:31.094Z"
   },
   {
    "duration": 255,
    "start_time": "2025-02-18T10:54:31.102Z"
   },
   {
    "duration": 142,
    "start_time": "2025-02-18T10:54:31.358Z"
   },
   {
    "duration": 9,
    "start_time": "2025-02-18T10:54:31.502Z"
   },
   {
    "duration": 380,
    "start_time": "2025-02-18T10:54:31.513Z"
   },
   {
    "duration": 18,
    "start_time": "2025-02-18T10:54:31.895Z"
   },
   {
    "duration": 22,
    "start_time": "2025-02-18T10:54:31.915Z"
   },
   {
    "duration": 401,
    "start_time": "2025-02-18T10:54:31.939Z"
   },
   {
    "duration": 13,
    "start_time": "2025-02-18T10:54:32.342Z"
   },
   {
    "duration": 25,
    "start_time": "2025-02-18T10:54:32.356Z"
   },
   {
    "duration": 434,
    "start_time": "2025-02-18T10:54:32.383Z"
   },
   {
    "duration": 18,
    "start_time": "2025-02-18T10:54:32.818Z"
   },
   {
    "duration": 20,
    "start_time": "2025-02-18T10:54:32.837Z"
   },
   {
    "duration": 39,
    "start_time": "2025-02-18T10:54:32.859Z"
   },
   {
    "duration": 20,
    "start_time": "2025-02-18T10:54:32.900Z"
   },
   {
    "duration": 44,
    "start_time": "2025-02-18T10:54:32.922Z"
   },
   {
    "duration": 22,
    "start_time": "2025-02-18T10:54:32.968Z"
   },
   {
    "duration": 322,
    "start_time": "2025-02-18T10:54:32.994Z"
   },
   {
    "duration": 515,
    "start_time": "2025-02-18T10:54:33.318Z"
   },
   {
    "duration": 9,
    "start_time": "2025-02-18T10:54:33.835Z"
   },
   {
    "duration": 48,
    "start_time": "2025-02-18T10:54:33.845Z"
   },
   {
    "duration": 23,
    "start_time": "2025-02-18T10:54:33.895Z"
   },
   {
    "duration": 31,
    "start_time": "2025-02-18T10:54:33.919Z"
   },
   {
    "duration": 455,
    "start_time": "2025-02-18T10:54:33.951Z"
   },
   {
    "duration": 436,
    "start_time": "2025-02-18T10:54:34.408Z"
   },
   {
    "duration": 417,
    "start_time": "2025-02-18T10:54:34.845Z"
   },
   {
    "duration": 560,
    "start_time": "2025-02-18T10:54:35.264Z"
   },
   {
    "duration": 9,
    "start_time": "2025-02-18T10:54:35.826Z"
   },
   {
    "duration": 42,
    "start_time": "2025-02-18T10:54:35.836Z"
   },
   {
    "duration": 23,
    "start_time": "2025-02-18T11:18:29.465Z"
   },
   {
    "duration": 3,
    "start_time": "2025-02-18T11:31:23.834Z"
   },
   {
    "duration": 2006,
    "start_time": "2025-02-18T11:32:07.414Z"
   },
   {
    "duration": 3,
    "start_time": "2025-02-18T11:48:10.513Z"
   },
   {
    "duration": 520,
    "start_time": "2025-02-18T11:48:15.321Z"
   },
   {
    "duration": 3,
    "start_time": "2025-02-18T11:48:48.400Z"
   },
   {
    "duration": 145,
    "start_time": "2025-02-18T11:48:51.061Z"
   },
   {
    "duration": 4,
    "start_time": "2025-02-18T11:53:43.999Z"
   },
   {
    "duration": 3,
    "start_time": "2025-02-18T11:54:01.428Z"
   },
   {
    "duration": 145,
    "start_time": "2025-02-18T11:54:03.032Z"
   },
   {
    "duration": 7,
    "start_time": "2025-02-18T11:58:56.888Z"
   },
   {
    "duration": 4,
    "start_time": "2025-02-18T11:59:30.596Z"
   },
   {
    "duration": 19,
    "start_time": "2025-02-18T11:59:33.068Z"
   },
   {
    "duration": 17,
    "start_time": "2025-02-18T12:09:05.521Z"
   },
   {
    "duration": 1426,
    "start_time": "2025-02-19T05:59:12.057Z"
   },
   {
    "duration": 149,
    "start_time": "2025-02-19T05:59:13.486Z"
   },
   {
    "duration": 15,
    "start_time": "2025-02-19T05:59:13.637Z"
   },
   {
    "duration": 11,
    "start_time": "2025-02-19T05:59:13.655Z"
   },
   {
    "duration": 9,
    "start_time": "2025-02-19T05:59:13.668Z"
   },
   {
    "duration": 14,
    "start_time": "2025-02-19T05:59:13.679Z"
   },
   {
    "duration": 13,
    "start_time": "2025-02-19T05:59:13.695Z"
   },
   {
    "duration": 293,
    "start_time": "2025-02-19T05:59:13.711Z"
   },
   {
    "duration": 7,
    "start_time": "2025-02-19T05:59:14.007Z"
   },
   {
    "duration": 330,
    "start_time": "2025-02-19T05:59:14.017Z"
   },
   {
    "duration": 24,
    "start_time": "2025-02-19T05:59:14.349Z"
   },
   {
    "duration": 8,
    "start_time": "2025-02-19T05:59:14.375Z"
   },
   {
    "duration": 10,
    "start_time": "2025-02-19T05:59:14.385Z"
   },
   {
    "duration": 6,
    "start_time": "2025-02-19T05:59:14.398Z"
   },
   {
    "duration": 7,
    "start_time": "2025-02-19T05:59:14.406Z"
   },
   {
    "duration": 10,
    "start_time": "2025-02-19T05:59:14.415Z"
   },
   {
    "duration": 50,
    "start_time": "2025-02-19T05:59:14.427Z"
   },
   {
    "duration": 6,
    "start_time": "2025-02-19T05:59:14.480Z"
   },
   {
    "duration": 186,
    "start_time": "2025-02-19T05:59:14.488Z"
   },
   {
    "duration": 8,
    "start_time": "2025-02-19T05:59:14.676Z"
   },
   {
    "duration": 114,
    "start_time": "2025-02-19T05:59:14.686Z"
   },
   {
    "duration": 19,
    "start_time": "2025-02-19T05:59:14.802Z"
   },
   {
    "duration": 252,
    "start_time": "2025-02-19T05:59:14.823Z"
   },
   {
    "duration": 5,
    "start_time": "2025-02-19T05:59:15.077Z"
   },
   {
    "duration": 267,
    "start_time": "2025-02-19T05:59:15.084Z"
   },
   {
    "duration": 148,
    "start_time": "2025-02-19T05:59:15.353Z"
   },
   {
    "duration": 10,
    "start_time": "2025-02-19T05:59:15.503Z"
   },
   {
    "duration": 374,
    "start_time": "2025-02-19T05:59:15.518Z"
   },
   {
    "duration": 18,
    "start_time": "2025-02-19T05:59:15.894Z"
   },
   {
    "duration": 6,
    "start_time": "2025-02-19T05:59:15.913Z"
   },
   {
    "duration": 414,
    "start_time": "2025-02-19T05:59:15.920Z"
   },
   {
    "duration": 13,
    "start_time": "2025-02-19T05:59:16.336Z"
   },
   {
    "duration": 14,
    "start_time": "2025-02-19T05:59:16.351Z"
   },
   {
    "duration": 419,
    "start_time": "2025-02-19T05:59:16.373Z"
   },
   {
    "duration": 10,
    "start_time": "2025-02-19T05:59:16.794Z"
   },
   {
    "duration": 39,
    "start_time": "2025-02-19T05:59:16.806Z"
   },
   {
    "duration": 8,
    "start_time": "2025-02-19T05:59:16.847Z"
   },
   {
    "duration": 18,
    "start_time": "2025-02-19T05:59:16.856Z"
   },
   {
    "duration": 17,
    "start_time": "2025-02-19T05:59:16.876Z"
   },
   {
    "duration": 10,
    "start_time": "2025-02-19T05:59:16.895Z"
   },
   {
    "duration": 302,
    "start_time": "2025-02-19T05:59:16.907Z"
   },
   {
    "duration": 528,
    "start_time": "2025-02-19T05:59:17.210Z"
   },
   {
    "duration": 10,
    "start_time": "2025-02-19T05:59:17.740Z"
   },
   {
    "duration": 42,
    "start_time": "2025-02-19T05:59:17.752Z"
   },
   {
    "duration": 25,
    "start_time": "2025-02-19T05:59:17.796Z"
   },
   {
    "duration": 22,
    "start_time": "2025-02-19T05:59:17.823Z"
   },
   {
    "duration": 463,
    "start_time": "2025-02-19T05:59:17.847Z"
   },
   {
    "duration": 423,
    "start_time": "2025-02-19T05:59:18.312Z"
   },
   {
    "duration": 426,
    "start_time": "2025-02-19T05:59:18.736Z"
   },
   {
    "duration": 546,
    "start_time": "2025-02-19T05:59:19.172Z"
   },
   {
    "duration": 4,
    "start_time": "2025-02-19T05:59:19.720Z"
   },
   {
    "duration": 25,
    "start_time": "2025-02-19T05:59:19.726Z"
   },
   {
    "duration": 30,
    "start_time": "2025-02-19T05:59:19.752Z"
   },
   {
    "duration": 4,
    "start_time": "2025-02-19T05:59:19.783Z"
   },
   {
    "duration": 1604,
    "start_time": "2025-02-19T05:59:19.789Z"
   },
   {
    "duration": 0,
    "start_time": "2025-02-19T05:59:21.395Z"
   },
   {
    "duration": 1822,
    "start_time": "2025-02-19T06:15:43.931Z"
   },
   {
    "duration": 1653,
    "start_time": "2025-02-19T06:15:59.054Z"
   },
   {
    "duration": 6,
    "start_time": "2025-02-19T06:18:28.531Z"
   },
   {
    "duration": 26,
    "start_time": "2025-02-19T06:18:41.210Z"
   },
   {
    "duration": 6,
    "start_time": "2025-02-19T06:19:10.747Z"
   },
   {
    "duration": 11,
    "start_time": "2025-02-19T06:19:17.670Z"
   },
   {
    "duration": 4,
    "start_time": "2025-02-19T06:19:23.216Z"
   },
   {
    "duration": 180,
    "start_time": "2025-02-19T06:19:25.239Z"
   },
   {
    "duration": 1205,
    "start_time": "2025-02-19T06:30:20.841Z"
   },
   {
    "duration": 139,
    "start_time": "2025-02-19T06:30:22.048Z"
   },
   {
    "duration": 14,
    "start_time": "2025-02-19T06:30:22.189Z"
   },
   {
    "duration": 9,
    "start_time": "2025-02-19T06:30:22.205Z"
   },
   {
    "duration": 8,
    "start_time": "2025-02-19T06:30:22.216Z"
   },
   {
    "duration": 13,
    "start_time": "2025-02-19T06:30:22.226Z"
   },
   {
    "duration": 38,
    "start_time": "2025-02-19T06:30:22.241Z"
   },
   {
    "duration": 304,
    "start_time": "2025-02-19T06:30:22.286Z"
   },
   {
    "duration": 6,
    "start_time": "2025-02-19T06:30:22.592Z"
   },
   {
    "duration": 332,
    "start_time": "2025-02-19T06:30:22.601Z"
   },
   {
    "duration": 11,
    "start_time": "2025-02-19T06:30:22.935Z"
   },
   {
    "duration": 40,
    "start_time": "2025-02-19T06:30:22.948Z"
   },
   {
    "duration": 12,
    "start_time": "2025-02-19T06:30:22.990Z"
   },
   {
    "duration": 6,
    "start_time": "2025-02-19T06:30:23.004Z"
   },
   {
    "duration": 6,
    "start_time": "2025-02-19T06:30:23.012Z"
   },
   {
    "duration": 7,
    "start_time": "2025-02-19T06:30:23.020Z"
   },
   {
    "duration": 9,
    "start_time": "2025-02-19T06:30:23.029Z"
   },
   {
    "duration": 47,
    "start_time": "2025-02-19T06:30:23.040Z"
   },
   {
    "duration": 166,
    "start_time": "2025-02-19T06:30:23.089Z"
   },
   {
    "duration": 17,
    "start_time": "2025-02-19T06:30:23.257Z"
   },
   {
    "duration": 120,
    "start_time": "2025-02-19T06:30:23.284Z"
   },
   {
    "duration": 18,
    "start_time": "2025-02-19T06:30:23.406Z"
   },
   {
    "duration": 275,
    "start_time": "2025-02-19T06:30:23.426Z"
   },
   {
    "duration": 6,
    "start_time": "2025-02-19T06:30:23.703Z"
   },
   {
    "duration": 315,
    "start_time": "2025-02-19T06:30:23.711Z"
   },
   {
    "duration": 160,
    "start_time": "2025-02-19T06:30:24.028Z"
   },
   {
    "duration": 9,
    "start_time": "2025-02-19T06:30:24.190Z"
   },
   {
    "duration": 404,
    "start_time": "2025-02-19T06:30:24.203Z"
   },
   {
    "duration": 20,
    "start_time": "2025-02-19T06:30:24.609Z"
   },
   {
    "duration": 7,
    "start_time": "2025-02-19T06:30:24.631Z"
   },
   {
    "duration": 469,
    "start_time": "2025-02-19T06:30:24.640Z"
   },
   {
    "duration": 15,
    "start_time": "2025-02-19T06:30:25.111Z"
   },
   {
    "duration": 30,
    "start_time": "2025-02-19T06:30:25.128Z"
   },
   {
    "duration": 476,
    "start_time": "2025-02-19T06:30:25.160Z"
   },
   {
    "duration": 10,
    "start_time": "2025-02-19T06:30:25.638Z"
   },
   {
    "duration": 40,
    "start_time": "2025-02-19T06:30:25.649Z"
   },
   {
    "duration": 8,
    "start_time": "2025-02-19T06:30:25.691Z"
   },
   {
    "duration": 60,
    "start_time": "2025-02-19T06:30:25.701Z"
   },
   {
    "duration": 7,
    "start_time": "2025-02-19T06:30:25.763Z"
   },
   {
    "duration": 15,
    "start_time": "2025-02-19T06:30:25.777Z"
   },
   {
    "duration": 325,
    "start_time": "2025-02-19T06:30:25.794Z"
   },
   {
    "duration": 592,
    "start_time": "2025-02-19T06:30:26.121Z"
   },
   {
    "duration": 9,
    "start_time": "2025-02-19T06:30:26.715Z"
   },
   {
    "duration": 56,
    "start_time": "2025-02-19T06:30:26.726Z"
   },
   {
    "duration": 30,
    "start_time": "2025-02-19T06:30:26.783Z"
   },
   {
    "duration": 24,
    "start_time": "2025-02-19T06:30:26.815Z"
   },
   {
    "duration": 517,
    "start_time": "2025-02-19T06:30:26.841Z"
   },
   {
    "duration": 466,
    "start_time": "2025-02-19T06:30:27.360Z"
   },
   {
    "duration": 459,
    "start_time": "2025-02-19T06:30:27.827Z"
   },
   {
    "duration": 600,
    "start_time": "2025-02-19T06:30:28.289Z"
   },
   {
    "duration": 4,
    "start_time": "2025-02-19T06:30:28.891Z"
   },
   {
    "duration": 95,
    "start_time": "2025-02-19T06:30:28.897Z"
   },
   {
    "duration": 1163,
    "start_time": "2025-02-19T06:31:45.526Z"
   },
   {
    "duration": 130,
    "start_time": "2025-02-19T06:31:46.692Z"
   },
   {
    "duration": 13,
    "start_time": "2025-02-19T06:31:46.824Z"
   },
   {
    "duration": 10,
    "start_time": "2025-02-19T06:31:46.840Z"
   },
   {
    "duration": 12,
    "start_time": "2025-02-19T06:31:46.853Z"
   },
   {
    "duration": 24,
    "start_time": "2025-02-19T06:31:46.867Z"
   },
   {
    "duration": 17,
    "start_time": "2025-02-19T06:31:46.893Z"
   },
   {
    "duration": 364,
    "start_time": "2025-02-19T06:31:46.912Z"
   },
   {
    "duration": 10,
    "start_time": "2025-02-19T06:31:47.278Z"
   },
   {
    "duration": 376,
    "start_time": "2025-02-19T06:31:47.291Z"
   },
   {
    "duration": 22,
    "start_time": "2025-02-19T06:31:47.670Z"
   },
   {
    "duration": 56,
    "start_time": "2025-02-19T06:31:47.694Z"
   },
   {
    "duration": 78,
    "start_time": "2025-02-19T06:31:47.751Z"
   },
   {
    "duration": 11,
    "start_time": "2025-02-19T06:31:47.830Z"
   },
   {
    "duration": 9,
    "start_time": "2025-02-19T06:31:47.843Z"
   },
   {
    "duration": 42,
    "start_time": "2025-02-19T06:31:47.853Z"
   },
   {
    "duration": 21,
    "start_time": "2025-02-19T06:31:47.897Z"
   },
   {
    "duration": 7,
    "start_time": "2025-02-19T06:31:47.920Z"
   },
   {
    "duration": 180,
    "start_time": "2025-02-19T06:31:47.929Z"
   },
   {
    "duration": 7,
    "start_time": "2025-02-19T06:31:48.111Z"
   },
   {
    "duration": 148,
    "start_time": "2025-02-19T06:31:48.120Z"
   },
   {
    "duration": 38,
    "start_time": "2025-02-19T06:31:48.270Z"
   },
   {
    "duration": 257,
    "start_time": "2025-02-19T06:31:48.310Z"
   },
   {
    "duration": 6,
    "start_time": "2025-02-19T06:31:48.569Z"
   },
   {
    "duration": 273,
    "start_time": "2025-02-19T06:31:48.578Z"
   },
   {
    "duration": 158,
    "start_time": "2025-02-19T06:31:48.853Z"
   },
   {
    "duration": 13,
    "start_time": "2025-02-19T06:31:49.014Z"
   },
   {
    "duration": 444,
    "start_time": "2025-02-19T06:31:49.033Z"
   },
   {
    "duration": 28,
    "start_time": "2025-02-19T06:31:49.478Z"
   },
   {
    "duration": 12,
    "start_time": "2025-02-19T06:31:49.508Z"
   },
   {
    "duration": 473,
    "start_time": "2025-02-19T06:31:49.522Z"
   },
   {
    "duration": 15,
    "start_time": "2025-02-19T06:31:49.997Z"
   },
   {
    "duration": 9,
    "start_time": "2025-02-19T06:31:50.015Z"
   },
   {
    "duration": 522,
    "start_time": "2025-02-19T06:31:50.026Z"
   },
   {
    "duration": 11,
    "start_time": "2025-02-19T06:31:50.550Z"
   },
   {
    "duration": 20,
    "start_time": "2025-02-19T06:31:50.580Z"
   },
   {
    "duration": 10,
    "start_time": "2025-02-19T06:31:50.603Z"
   },
   {
    "duration": 22,
    "start_time": "2025-02-19T06:31:50.616Z"
   },
   {
    "duration": 43,
    "start_time": "2025-02-19T06:31:50.640Z"
   },
   {
    "duration": 12,
    "start_time": "2025-02-19T06:31:50.685Z"
   },
   {
    "duration": 334,
    "start_time": "2025-02-19T06:31:50.700Z"
   },
   {
    "duration": 627,
    "start_time": "2025-02-19T06:31:51.037Z"
   },
   {
    "duration": 17,
    "start_time": "2025-02-19T06:31:51.666Z"
   },
   {
    "duration": 30,
    "start_time": "2025-02-19T06:31:51.684Z"
   },
   {
    "duration": 95,
    "start_time": "2025-02-19T06:31:51.716Z"
   },
   {
    "duration": 46,
    "start_time": "2025-02-19T06:31:51.813Z"
   },
   {
    "duration": 469,
    "start_time": "2025-02-19T06:31:51.860Z"
   },
   {
    "duration": 462,
    "start_time": "2025-02-19T06:31:52.331Z"
   },
   {
    "duration": 454,
    "start_time": "2025-02-19T06:31:52.795Z"
   },
   {
    "duration": 596,
    "start_time": "2025-02-19T06:31:53.251Z"
   },
   {
    "duration": 5,
    "start_time": "2025-02-19T06:32:04.061Z"
   },
   {
    "duration": 24,
    "start_time": "2025-02-19T06:32:16.114Z"
   },
   {
    "duration": 4,
    "start_time": "2025-02-19T06:32:20.400Z"
   },
   {
    "duration": 4,
    "start_time": "2025-02-19T06:32:23.740Z"
   },
   {
    "duration": 142,
    "start_time": "2025-02-19T06:32:27.611Z"
   },
   {
    "duration": 17,
    "start_time": "2025-02-19T06:33:10.463Z"
   },
   {
    "duration": 4,
    "start_time": "2025-02-19T06:33:23.552Z"
   },
   {
    "duration": 157,
    "start_time": "2025-02-19T06:33:31.286Z"
   },
   {
    "duration": 448,
    "start_time": "2025-02-19T06:36:06.246Z"
   },
   {
    "duration": 4,
    "start_time": "2025-02-19T06:36:38.890Z"
   },
   {
    "duration": 27,
    "start_time": "2025-02-19T06:36:47.865Z"
   },
   {
    "duration": 7,
    "start_time": "2025-02-19T09:49:01.717Z"
   },
   {
    "duration": 8,
    "start_time": "2025-02-19T09:52:46.522Z"
   },
   {
    "duration": 9,
    "start_time": "2025-02-19T09:52:57.946Z"
   },
   {
    "duration": 5,
    "start_time": "2025-02-19T12:35:18.494Z"
   },
   {
    "duration": 1229,
    "start_time": "2025-02-19T14:08:51.625Z"
   },
   {
    "duration": 131,
    "start_time": "2025-02-19T14:08:52.857Z"
   },
   {
    "duration": 15,
    "start_time": "2025-02-19T14:08:52.991Z"
   },
   {
    "duration": 11,
    "start_time": "2025-02-19T14:08:53.008Z"
   },
   {
    "duration": 29,
    "start_time": "2025-02-19T14:08:53.022Z"
   },
   {
    "duration": 14,
    "start_time": "2025-02-19T14:08:53.053Z"
   },
   {
    "duration": 21,
    "start_time": "2025-02-19T14:08:53.072Z"
   },
   {
    "duration": 287,
    "start_time": "2025-02-19T14:08:53.096Z"
   },
   {
    "duration": 7,
    "start_time": "2025-02-19T14:08:53.386Z"
   },
   {
    "duration": 366,
    "start_time": "2025-02-19T14:08:53.395Z"
   },
   {
    "duration": 26,
    "start_time": "2025-02-19T14:08:53.763Z"
   },
   {
    "duration": 7,
    "start_time": "2025-02-19T14:08:53.791Z"
   },
   {
    "duration": 11,
    "start_time": "2025-02-19T14:08:53.799Z"
   },
   {
    "duration": 6,
    "start_time": "2025-02-19T14:08:53.813Z"
   },
   {
    "duration": 12,
    "start_time": "2025-02-19T14:08:53.820Z"
   },
   {
    "duration": 38,
    "start_time": "2025-02-19T14:08:53.834Z"
   },
   {
    "duration": 9,
    "start_time": "2025-02-19T14:08:53.874Z"
   },
   {
    "duration": 6,
    "start_time": "2025-02-19T14:08:53.885Z"
   },
   {
    "duration": 181,
    "start_time": "2025-02-19T14:08:53.893Z"
   },
   {
    "duration": 6,
    "start_time": "2025-02-19T14:08:54.076Z"
   },
   {
    "duration": 124,
    "start_time": "2025-02-19T14:08:54.084Z"
   },
   {
    "duration": 18,
    "start_time": "2025-02-19T14:08:54.210Z"
   },
   {
    "duration": 257,
    "start_time": "2025-02-19T14:08:54.230Z"
   },
   {
    "duration": 5,
    "start_time": "2025-02-19T14:08:54.489Z"
   },
   {
    "duration": 267,
    "start_time": "2025-02-19T14:08:54.496Z"
   },
   {
    "duration": 137,
    "start_time": "2025-02-19T14:08:54.772Z"
   },
   {
    "duration": 8,
    "start_time": "2025-02-19T14:08:54.911Z"
   },
   {
    "duration": 394,
    "start_time": "2025-02-19T14:08:54.921Z"
   },
   {
    "duration": 19,
    "start_time": "2025-02-19T14:08:55.317Z"
   },
   {
    "duration": 22,
    "start_time": "2025-02-19T14:08:55.338Z"
   },
   {
    "duration": 455,
    "start_time": "2025-02-19T14:08:55.362Z"
   },
   {
    "duration": 15,
    "start_time": "2025-02-19T14:08:55.819Z"
   },
   {
    "duration": 28,
    "start_time": "2025-02-19T14:08:55.836Z"
   },
   {
    "duration": 460,
    "start_time": "2025-02-19T14:08:55.866Z"
   },
   {
    "duration": 12,
    "start_time": "2025-02-19T14:08:56.328Z"
   },
   {
    "duration": 36,
    "start_time": "2025-02-19T14:08:56.342Z"
   },
   {
    "duration": 20,
    "start_time": "2025-02-19T14:08:56.381Z"
   },
   {
    "duration": 17,
    "start_time": "2025-02-19T14:08:56.404Z"
   },
   {
    "duration": 21,
    "start_time": "2025-02-19T14:08:56.423Z"
   },
   {
    "duration": 32,
    "start_time": "2025-02-19T14:08:56.446Z"
   },
   {
    "duration": 314,
    "start_time": "2025-02-19T14:08:56.484Z"
   },
   {
    "duration": 539,
    "start_time": "2025-02-19T14:08:56.800Z"
   },
   {
    "duration": 9,
    "start_time": "2025-02-19T14:08:57.341Z"
   },
   {
    "duration": 45,
    "start_time": "2025-02-19T14:08:57.352Z"
   },
   {
    "duration": 25,
    "start_time": "2025-02-19T14:08:57.399Z"
   },
   {
    "duration": 53,
    "start_time": "2025-02-19T14:08:57.426Z"
   },
   {
    "duration": 506,
    "start_time": "2025-02-19T14:08:57.482Z"
   },
   {
    "duration": 454,
    "start_time": "2025-02-19T14:08:57.991Z"
   },
   {
    "duration": 446,
    "start_time": "2025-02-19T14:08:58.447Z"
   },
   {
    "duration": 606,
    "start_time": "2025-02-19T14:08:58.895Z"
   },
   {
    "duration": 5,
    "start_time": "2025-02-19T14:08:59.503Z"
   },
   {
    "duration": 25,
    "start_time": "2025-02-19T14:08:59.509Z"
   },
   {
    "duration": 6,
    "start_time": "2025-02-19T14:08:59.536Z"
   },
   {
    "duration": 29,
    "start_time": "2025-02-19T14:08:59.544Z"
   },
   {
    "duration": 157,
    "start_time": "2025-02-19T14:08:59.576Z"
   },
   {
    "duration": 7,
    "start_time": "2025-02-19T14:08:59.735Z"
   },
   {
    "duration": 5,
    "start_time": "2025-02-19T14:08:59.744Z"
   },
   {
    "duration": 8,
    "start_time": "2025-02-19T14:52:43.679Z"
   },
   {
    "duration": 6,
    "start_time": "2025-02-19T14:53:17.970Z"
   },
   {
    "duration": 1236,
    "start_time": "2025-02-19T16:20:49.001Z"
   },
   {
    "duration": 146,
    "start_time": "2025-02-19T16:20:50.240Z"
   },
   {
    "duration": 14,
    "start_time": "2025-02-19T16:20:50.388Z"
   },
   {
    "duration": 10,
    "start_time": "2025-02-19T16:20:50.404Z"
   },
   {
    "duration": 19,
    "start_time": "2025-02-19T16:20:50.416Z"
   },
   {
    "duration": 12,
    "start_time": "2025-02-19T16:20:50.437Z"
   },
   {
    "duration": 26,
    "start_time": "2025-02-19T16:20:50.451Z"
   },
   {
    "duration": 261,
    "start_time": "2025-02-19T16:20:50.479Z"
   },
   {
    "duration": 7,
    "start_time": "2025-02-19T16:20:50.742Z"
   },
   {
    "duration": 296,
    "start_time": "2025-02-19T16:20:50.751Z"
   },
   {
    "duration": 10,
    "start_time": "2025-02-19T16:20:51.049Z"
   },
   {
    "duration": 7,
    "start_time": "2025-02-19T16:20:51.074Z"
   },
   {
    "duration": 9,
    "start_time": "2025-02-19T16:20:51.082Z"
   },
   {
    "duration": 5,
    "start_time": "2025-02-19T16:20:51.094Z"
   },
   {
    "duration": 6,
    "start_time": "2025-02-19T16:20:51.100Z"
   },
   {
    "duration": 8,
    "start_time": "2025-02-19T16:20:51.108Z"
   },
   {
    "duration": 8,
    "start_time": "2025-02-19T16:20:51.117Z"
   },
   {
    "duration": 5,
    "start_time": "2025-02-19T16:20:51.127Z"
   },
   {
    "duration": 208,
    "start_time": "2025-02-19T16:20:51.133Z"
   },
   {
    "duration": 8,
    "start_time": "2025-02-19T16:20:51.343Z"
   },
   {
    "duration": 107,
    "start_time": "2025-02-19T16:20:51.353Z"
   },
   {
    "duration": 16,
    "start_time": "2025-02-19T16:20:51.474Z"
   },
   {
    "duration": 206,
    "start_time": "2025-02-19T16:20:51.491Z"
   },
   {
    "duration": 6,
    "start_time": "2025-02-19T16:20:51.698Z"
   },
   {
    "duration": 231,
    "start_time": "2025-02-19T16:20:51.705Z"
   },
   {
    "duration": 133,
    "start_time": "2025-02-19T16:20:51.937Z"
   },
   {
    "duration": 8,
    "start_time": "2025-02-19T16:20:52.072Z"
   },
   {
    "duration": 395,
    "start_time": "2025-02-19T16:20:52.082Z"
   },
   {
    "duration": 18,
    "start_time": "2025-02-19T16:20:52.478Z"
   },
   {
    "duration": 6,
    "start_time": "2025-02-19T16:20:52.497Z"
   },
   {
    "duration": 387,
    "start_time": "2025-02-19T16:20:52.504Z"
   },
   {
    "duration": 12,
    "start_time": "2025-02-19T16:20:52.892Z"
   },
   {
    "duration": 45,
    "start_time": "2025-02-19T16:20:52.905Z"
   },
   {
    "duration": 402,
    "start_time": "2025-02-19T16:20:52.952Z"
   },
   {
    "duration": 8,
    "start_time": "2025-02-19T16:20:53.356Z"
   },
   {
    "duration": 12,
    "start_time": "2025-02-19T16:20:53.374Z"
   },
   {
    "duration": 6,
    "start_time": "2025-02-19T16:20:53.388Z"
   },
   {
    "duration": 17,
    "start_time": "2025-02-19T16:20:53.395Z"
   },
   {
    "duration": 7,
    "start_time": "2025-02-19T16:20:53.414Z"
   },
   {
    "duration": 12,
    "start_time": "2025-02-19T16:20:53.422Z"
   },
   {
    "duration": 294,
    "start_time": "2025-02-19T16:20:53.438Z"
   },
   {
    "duration": 489,
    "start_time": "2025-02-19T16:20:53.734Z"
   },
   {
    "duration": 9,
    "start_time": "2025-02-19T16:20:54.224Z"
   },
   {
    "duration": 25,
    "start_time": "2025-02-19T16:20:54.234Z"
   },
   {
    "duration": 21,
    "start_time": "2025-02-19T16:20:54.274Z"
   },
   {
    "duration": 20,
    "start_time": "2025-02-19T16:20:54.297Z"
   },
   {
    "duration": 433,
    "start_time": "2025-02-19T16:20:54.318Z"
   },
   {
    "duration": 409,
    "start_time": "2025-02-19T16:20:54.753Z"
   },
   {
    "duration": 381,
    "start_time": "2025-02-19T16:20:55.163Z"
   },
   {
    "duration": 511,
    "start_time": "2025-02-19T16:20:55.546Z"
   },
   {
    "duration": 15,
    "start_time": "2025-02-19T16:20:56.059Z"
   },
   {
    "duration": 28,
    "start_time": "2025-02-19T16:20:56.077Z"
   },
   {
    "duration": 5,
    "start_time": "2025-02-19T16:20:56.107Z"
   },
   {
    "duration": 9,
    "start_time": "2025-02-19T16:20:56.115Z"
   },
   {
    "duration": 156,
    "start_time": "2025-02-19T16:20:56.126Z"
   },
   {
    "duration": 6,
    "start_time": "2025-02-19T16:20:56.283Z"
   },
   {
    "duration": 5,
    "start_time": "2025-02-19T16:20:56.291Z"
   },
   {
    "duration": 7,
    "start_time": "2025-02-19T16:20:56.297Z"
   },
   {
    "duration": 1392,
    "start_time": "2025-02-20T04:33:33.658Z"
   },
   {
    "duration": 141,
    "start_time": "2025-02-20T04:33:35.053Z"
   },
   {
    "duration": 16,
    "start_time": "2025-02-20T04:33:35.196Z"
   },
   {
    "duration": 21,
    "start_time": "2025-02-20T04:33:35.214Z"
   },
   {
    "duration": 25,
    "start_time": "2025-02-20T04:33:35.239Z"
   },
   {
    "duration": 22,
    "start_time": "2025-02-20T04:33:35.266Z"
   },
   {
    "duration": 33,
    "start_time": "2025-02-20T04:33:35.291Z"
   },
   {
    "duration": 273,
    "start_time": "2025-02-20T04:33:35.326Z"
   },
   {
    "duration": 8,
    "start_time": "2025-02-20T04:33:35.601Z"
   },
   {
    "duration": 323,
    "start_time": "2025-02-20T04:33:35.611Z"
   },
   {
    "duration": 12,
    "start_time": "2025-02-20T04:33:35.936Z"
   },
   {
    "duration": 75,
    "start_time": "2025-02-20T04:33:35.950Z"
   },
   {
    "duration": 25,
    "start_time": "2025-02-20T04:33:36.027Z"
   },
   {
    "duration": 9,
    "start_time": "2025-02-20T04:33:36.055Z"
   },
   {
    "duration": 12,
    "start_time": "2025-02-20T04:33:36.066Z"
   },
   {
    "duration": 14,
    "start_time": "2025-02-20T04:33:36.079Z"
   },
   {
    "duration": 17,
    "start_time": "2025-02-20T04:33:36.095Z"
   },
   {
    "duration": 36,
    "start_time": "2025-02-20T04:33:36.115Z"
   },
   {
    "duration": 169,
    "start_time": "2025-02-20T04:33:36.152Z"
   },
   {
    "duration": 6,
    "start_time": "2025-02-20T04:33:36.322Z"
   },
   {
    "duration": 114,
    "start_time": "2025-02-20T04:33:36.330Z"
   },
   {
    "duration": 17,
    "start_time": "2025-02-20T04:33:36.445Z"
   },
   {
    "duration": 245,
    "start_time": "2025-02-20T04:33:36.464Z"
   },
   {
    "duration": 5,
    "start_time": "2025-02-20T04:33:36.710Z"
   },
   {
    "duration": 253,
    "start_time": "2025-02-20T04:33:36.717Z"
   },
   {
    "duration": 144,
    "start_time": "2025-02-20T04:33:36.972Z"
   },
   {
    "duration": 10,
    "start_time": "2025-02-20T04:33:37.118Z"
   },
   {
    "duration": 387,
    "start_time": "2025-02-20T04:33:37.129Z"
   },
   {
    "duration": 18,
    "start_time": "2025-02-20T04:33:37.518Z"
   },
   {
    "duration": 7,
    "start_time": "2025-02-20T04:33:37.537Z"
   },
   {
    "duration": 412,
    "start_time": "2025-02-20T04:33:37.545Z"
   },
   {
    "duration": 13,
    "start_time": "2025-02-20T04:33:37.959Z"
   },
   {
    "duration": 8,
    "start_time": "2025-02-20T04:33:37.974Z"
   },
   {
    "duration": 416,
    "start_time": "2025-02-20T04:33:38.000Z"
   },
   {
    "duration": 10,
    "start_time": "2025-02-20T04:33:38.417Z"
   },
   {
    "duration": 28,
    "start_time": "2025-02-20T04:33:38.429Z"
   },
   {
    "duration": 10,
    "start_time": "2025-02-20T04:33:38.459Z"
   },
   {
    "duration": 14,
    "start_time": "2025-02-20T04:33:38.470Z"
   },
   {
    "duration": 9,
    "start_time": "2025-02-20T04:33:38.500Z"
   },
   {
    "duration": 9,
    "start_time": "2025-02-20T04:33:38.511Z"
   },
   {
    "duration": 366,
    "start_time": "2025-02-20T04:33:38.524Z"
   },
   {
    "duration": 538,
    "start_time": "2025-02-20T04:33:38.892Z"
   },
   {
    "duration": 9,
    "start_time": "2025-02-20T04:33:39.432Z"
   },
   {
    "duration": 36,
    "start_time": "2025-02-20T04:33:39.443Z"
   },
   {
    "duration": 36,
    "start_time": "2025-02-20T04:33:39.481Z"
   },
   {
    "duration": 23,
    "start_time": "2025-02-20T04:33:39.519Z"
   },
   {
    "duration": 473,
    "start_time": "2025-02-20T04:33:39.544Z"
   },
   {
    "duration": 470,
    "start_time": "2025-02-20T04:33:40.019Z"
   },
   {
    "duration": 434,
    "start_time": "2025-02-20T04:33:40.491Z"
   },
   {
    "duration": 563,
    "start_time": "2025-02-20T04:33:40.927Z"
   },
   {
    "duration": 9,
    "start_time": "2025-02-20T04:33:41.492Z"
   },
   {
    "duration": 23,
    "start_time": "2025-02-20T04:33:41.503Z"
   },
   {
    "duration": 4,
    "start_time": "2025-02-20T04:33:41.528Z"
   },
   {
    "duration": 3,
    "start_time": "2025-02-20T04:33:41.534Z"
   },
   {
    "duration": 170,
    "start_time": "2025-02-20T04:33:41.539Z"
   },
   {
    "duration": 6,
    "start_time": "2025-02-20T04:33:41.711Z"
   },
   {
    "duration": 11,
    "start_time": "2025-02-20T04:33:41.718Z"
   },
   {
    "duration": 14,
    "start_time": "2025-02-20T04:33:41.731Z"
   },
   {
    "duration": 18,
    "start_time": "2025-02-20T06:24:08.515Z"
   },
   {
    "duration": 179,
    "start_time": "2025-02-20T06:27:13.380Z"
   },
   {
    "duration": 196,
    "start_time": "2025-02-20T06:28:09.869Z"
   },
   {
    "duration": 216,
    "start_time": "2025-02-20T06:28:14.028Z"
   },
   {
    "duration": 157,
    "start_time": "2025-02-20T06:28:55.794Z"
   },
   {
    "duration": 73,
    "start_time": "2025-02-20T06:29:10.771Z"
   },
   {
    "duration": 229,
    "start_time": "2025-02-20T06:29:18.698Z"
   },
   {
    "duration": 14,
    "start_time": "2025-02-20T06:30:42.564Z"
   },
   {
    "duration": 154,
    "start_time": "2025-02-20T06:31:18.668Z"
   },
   {
    "duration": 9,
    "start_time": "2025-02-20T09:41:32.436Z"
   },
   {
    "duration": 10,
    "start_time": "2025-02-20T09:42:12.936Z"
   },
   {
    "duration": 120,
    "start_time": "2025-02-20T10:38:19.971Z"
   },
   {
    "duration": 9,
    "start_time": "2025-02-20T10:38:26.058Z"
   },
   {
    "duration": 10,
    "start_time": "2025-02-20T10:38:28.012Z"
   },
   {
    "duration": 9,
    "start_time": "2025-02-20T10:42:05.450Z"
   },
   {
    "duration": 9,
    "start_time": "2025-02-20T10:42:08.411Z"
   },
   {
    "duration": 21,
    "start_time": "2025-02-20T11:59:39.443Z"
   },
   {
    "duration": 22,
    "start_time": "2025-02-20T12:00:20.967Z"
   },
   {
    "duration": 14,
    "start_time": "2025-02-20T12:00:41.801Z"
   },
   {
    "duration": 21,
    "start_time": "2025-02-20T12:00:50.139Z"
   },
   {
    "duration": 6,
    "start_time": "2025-02-20T13:21:07.111Z"
   },
   {
    "duration": 5,
    "start_time": "2025-02-20T13:21:32.940Z"
   },
   {
    "duration": 1160,
    "start_time": "2025-02-20T14:07:59.056Z"
   },
   {
    "duration": 136,
    "start_time": "2025-02-20T14:08:00.219Z"
   },
   {
    "duration": 17,
    "start_time": "2025-02-20T14:08:00.357Z"
   },
   {
    "duration": 62,
    "start_time": "2025-02-20T14:08:00.376Z"
   },
   {
    "duration": 35,
    "start_time": "2025-02-20T14:08:00.441Z"
   },
   {
    "duration": 57,
    "start_time": "2025-02-20T14:08:00.478Z"
   },
   {
    "duration": 55,
    "start_time": "2025-02-20T14:08:00.537Z"
   },
   {
    "duration": 321,
    "start_time": "2025-02-20T14:08:00.595Z"
   },
   {
    "duration": 7,
    "start_time": "2025-02-20T14:08:00.918Z"
   },
   {
    "duration": 331,
    "start_time": "2025-02-20T14:08:00.927Z"
   },
   {
    "duration": 12,
    "start_time": "2025-02-20T14:08:01.261Z"
   },
   {
    "duration": 31,
    "start_time": "2025-02-20T14:08:01.274Z"
   },
   {
    "duration": 31,
    "start_time": "2025-02-20T14:08:01.307Z"
   },
   {
    "duration": 19,
    "start_time": "2025-02-20T14:08:01.342Z"
   },
   {
    "duration": 10,
    "start_time": "2025-02-20T14:08:01.362Z"
   },
   {
    "duration": 32,
    "start_time": "2025-02-20T14:08:01.374Z"
   },
   {
    "duration": 48,
    "start_time": "2025-02-20T14:08:01.408Z"
   },
   {
    "duration": 39,
    "start_time": "2025-02-20T14:08:01.458Z"
   },
   {
    "duration": 182,
    "start_time": "2025-02-20T14:08:01.499Z"
   },
   {
    "duration": 7,
    "start_time": "2025-02-20T14:08:01.683Z"
   },
   {
    "duration": 123,
    "start_time": "2025-02-20T14:08:01.700Z"
   },
   {
    "duration": 19,
    "start_time": "2025-02-20T14:08:01.825Z"
   },
   {
    "duration": 303,
    "start_time": "2025-02-20T14:08:01.846Z"
   },
   {
    "duration": 5,
    "start_time": "2025-02-20T14:08:02.151Z"
   },
   {
    "duration": 292,
    "start_time": "2025-02-20T14:08:02.157Z"
   },
   {
    "duration": 141,
    "start_time": "2025-02-20T14:08:02.450Z"
   },
   {
    "duration": 13,
    "start_time": "2025-02-20T14:08:02.593Z"
   },
   {
    "duration": 381,
    "start_time": "2025-02-20T14:08:02.608Z"
   },
   {
    "duration": 24,
    "start_time": "2025-02-20T14:08:02.991Z"
   },
   {
    "duration": 12,
    "start_time": "2025-02-20T14:08:03.017Z"
   },
   {
    "duration": 406,
    "start_time": "2025-02-20T14:08:03.031Z"
   },
   {
    "duration": 12,
    "start_time": "2025-02-20T14:08:03.439Z"
   },
   {
    "duration": 10,
    "start_time": "2025-02-20T14:08:03.453Z"
   },
   {
    "duration": 434,
    "start_time": "2025-02-20T14:08:03.465Z"
   },
   {
    "duration": 10,
    "start_time": "2025-02-20T14:08:03.901Z"
   },
   {
    "duration": 26,
    "start_time": "2025-02-20T14:08:03.912Z"
   },
   {
    "duration": 62,
    "start_time": "2025-02-20T14:08:03.940Z"
   },
   {
    "duration": 29,
    "start_time": "2025-02-20T14:08:04.005Z"
   },
   {
    "duration": 18,
    "start_time": "2025-02-20T14:08:04.036Z"
   },
   {
    "duration": 29,
    "start_time": "2025-02-20T14:08:04.056Z"
   },
   {
    "duration": 313,
    "start_time": "2025-02-20T14:08:04.091Z"
   },
   {
    "duration": 526,
    "start_time": "2025-02-20T14:08:04.406Z"
   },
   {
    "duration": 10,
    "start_time": "2025-02-20T14:08:04.934Z"
   },
   {
    "duration": 234,
    "start_time": "2025-02-20T14:08:04.946Z"
   },
   {
    "duration": 29,
    "start_time": "2025-02-20T14:08:05.182Z"
   },
   {
    "duration": 35,
    "start_time": "2025-02-20T14:08:05.213Z"
   },
   {
    "duration": 23,
    "start_time": "2025-02-20T14:08:05.250Z"
   },
   {
    "duration": 463,
    "start_time": "2025-02-20T14:08:05.275Z"
   },
   {
    "duration": 433,
    "start_time": "2025-02-20T14:08:05.740Z"
   },
   {
    "duration": 9,
    "start_time": "2025-02-20T14:08:06.175Z"
   },
   {
    "duration": 435,
    "start_time": "2025-02-20T14:08:06.186Z"
   },
   {
    "duration": 564,
    "start_time": "2025-02-20T14:08:06.623Z"
   },
   {
    "duration": 17,
    "start_time": "2025-02-20T14:08:07.189Z"
   },
   {
    "duration": 42,
    "start_time": "2025-02-20T14:08:07.208Z"
   },
   {
    "duration": 30,
    "start_time": "2025-02-20T14:08:07.252Z"
   },
   {
    "duration": 13,
    "start_time": "2025-02-20T14:08:07.284Z"
   },
   {
    "duration": 6,
    "start_time": "2025-02-20T14:08:07.299Z"
   },
   {
    "duration": 152,
    "start_time": "2025-02-20T14:08:07.307Z"
   },
   {
    "duration": 6,
    "start_time": "2025-02-20T14:08:07.461Z"
   },
   {
    "duration": 23,
    "start_time": "2025-02-20T14:08:07.469Z"
   },
   {
    "duration": 11,
    "start_time": "2025-02-20T14:08:07.494Z"
   },
   {
    "duration": 1101,
    "start_time": "2025-02-20T15:12:11.934Z"
   },
   {
    "duration": 119,
    "start_time": "2025-02-20T15:12:13.036Z"
   },
   {
    "duration": 12,
    "start_time": "2025-02-20T15:12:13.156Z"
   },
   {
    "duration": 9,
    "start_time": "2025-02-20T15:12:13.170Z"
   },
   {
    "duration": 8,
    "start_time": "2025-02-20T15:12:13.182Z"
   },
   {
    "duration": 18,
    "start_time": "2025-02-20T15:12:13.192Z"
   },
   {
    "duration": 12,
    "start_time": "2025-02-20T15:12:13.211Z"
   },
   {
    "duration": 295,
    "start_time": "2025-02-20T15:12:13.225Z"
   },
   {
    "duration": 6,
    "start_time": "2025-02-20T15:12:13.522Z"
   },
   {
    "duration": 357,
    "start_time": "2025-02-20T15:12:13.530Z"
   },
   {
    "duration": 9,
    "start_time": "2025-02-20T15:12:13.888Z"
   },
   {
    "duration": 6,
    "start_time": "2025-02-20T15:12:13.898Z"
   },
   {
    "duration": 9,
    "start_time": "2025-02-20T15:12:13.905Z"
   },
   {
    "duration": 5,
    "start_time": "2025-02-20T15:12:13.916Z"
   },
   {
    "duration": 36,
    "start_time": "2025-02-20T15:12:13.923Z"
   },
   {
    "duration": 8,
    "start_time": "2025-02-20T15:12:13.961Z"
   },
   {
    "duration": 7,
    "start_time": "2025-02-20T15:12:13.971Z"
   },
   {
    "duration": 6,
    "start_time": "2025-02-20T15:12:13.979Z"
   },
   {
    "duration": 175,
    "start_time": "2025-02-20T15:12:13.986Z"
   },
   {
    "duration": 6,
    "start_time": "2025-02-20T15:12:14.163Z"
   },
   {
    "duration": 107,
    "start_time": "2025-02-20T15:12:14.170Z"
   },
   {
    "duration": 16,
    "start_time": "2025-02-20T15:12:14.279Z"
   },
   {
    "duration": 302,
    "start_time": "2025-02-20T15:12:14.297Z"
   },
   {
    "duration": 5,
    "start_time": "2025-02-20T15:12:14.600Z"
   },
   {
    "duration": 247,
    "start_time": "2025-02-20T15:12:14.607Z"
   },
   {
    "duration": 125,
    "start_time": "2025-02-20T15:12:14.857Z"
   },
   {
    "duration": 7,
    "start_time": "2025-02-20T15:12:14.984Z"
   },
   {
    "duration": 443,
    "start_time": "2025-02-20T15:12:14.993Z"
   },
   {
    "duration": 25,
    "start_time": "2025-02-20T15:12:15.438Z"
   },
   {
    "duration": 5,
    "start_time": "2025-02-20T15:12:15.464Z"
   },
   {
    "duration": 374,
    "start_time": "2025-02-20T15:12:15.471Z"
   },
   {
    "duration": 19,
    "start_time": "2025-02-20T15:12:15.847Z"
   },
   {
    "duration": 6,
    "start_time": "2025-02-20T15:12:15.867Z"
   },
   {
    "duration": 399,
    "start_time": "2025-02-20T15:12:15.874Z"
   },
   {
    "duration": 9,
    "start_time": "2025-02-20T15:12:16.275Z"
   },
   {
    "duration": 148,
    "start_time": "2025-02-20T15:12:16.285Z"
   },
   {
    "duration": 5,
    "start_time": "2025-02-20T15:12:16.435Z"
   },
   {
    "duration": 12,
    "start_time": "2025-02-20T15:12:16.442Z"
   },
   {
    "duration": 6,
    "start_time": "2025-02-20T15:12:16.455Z"
   },
   {
    "duration": 15,
    "start_time": "2025-02-20T15:12:16.462Z"
   },
   {
    "duration": 272,
    "start_time": "2025-02-20T15:12:16.481Z"
   },
   {
    "duration": 480,
    "start_time": "2025-02-20T15:12:16.754Z"
   },
   {
    "duration": 8,
    "start_time": "2025-02-20T15:12:17.236Z"
   },
   {
    "duration": 187,
    "start_time": "2025-02-20T15:12:17.245Z"
   },
   {
    "duration": 33,
    "start_time": "2025-02-20T15:12:17.433Z"
   },
   {
    "duration": 20,
    "start_time": "2025-02-20T15:12:17.468Z"
   },
   {
    "duration": 19,
    "start_time": "2025-02-20T15:12:17.490Z"
   },
   {
    "duration": 486,
    "start_time": "2025-02-20T15:12:17.510Z"
   },
   {
    "duration": 396,
    "start_time": "2025-02-20T15:12:17.997Z"
   },
   {
    "duration": 8,
    "start_time": "2025-02-20T15:12:18.395Z"
   },
   {
    "duration": 413,
    "start_time": "2025-02-20T15:12:18.405Z"
   },
   {
    "duration": 512,
    "start_time": "2025-02-20T15:12:18.820Z"
   },
   {
    "duration": 9,
    "start_time": "2025-02-20T15:12:19.334Z"
   },
   {
    "duration": 16,
    "start_time": "2025-02-20T15:12:19.345Z"
   },
   {
    "duration": 20,
    "start_time": "2025-02-20T15:12:19.363Z"
   },
   {
    "duration": 5,
    "start_time": "2025-02-20T15:12:19.385Z"
   },
   {
    "duration": 4,
    "start_time": "2025-02-20T15:12:19.391Z"
   },
   {
    "duration": 161,
    "start_time": "2025-02-20T15:12:19.397Z"
   },
   {
    "duration": 6,
    "start_time": "2025-02-20T15:12:19.560Z"
   },
   {
    "duration": 22,
    "start_time": "2025-02-20T15:12:19.567Z"
   },
   {
    "duration": 7,
    "start_time": "2025-02-20T15:12:19.591Z"
   },
   {
    "duration": 47,
    "start_time": "2025-02-20T16:44:42.628Z"
   },
   {
    "duration": 1280,
    "start_time": "2025-02-20T16:44:51.610Z"
   },
   {
    "duration": 135,
    "start_time": "2025-02-20T16:44:52.892Z"
   },
   {
    "duration": 45,
    "start_time": "2025-02-20T16:44:53.028Z"
   },
   {
    "duration": 20,
    "start_time": "2025-02-20T16:44:53.075Z"
   },
   {
    "duration": 46,
    "start_time": "2025-02-20T16:44:53.097Z"
   },
   {
    "duration": 22,
    "start_time": "2025-02-20T16:44:53.145Z"
   },
   {
    "duration": 36,
    "start_time": "2025-02-20T16:44:53.169Z"
   },
   {
    "duration": 278,
    "start_time": "2025-02-20T16:44:53.207Z"
   },
   {
    "duration": 6,
    "start_time": "2025-02-20T16:44:53.487Z"
   },
   {
    "duration": 317,
    "start_time": "2025-02-20T16:44:53.503Z"
   },
   {
    "duration": 10,
    "start_time": "2025-02-20T16:44:53.822Z"
   },
   {
    "duration": 59,
    "start_time": "2025-02-20T16:44:53.834Z"
   },
   {
    "duration": 151,
    "start_time": "2025-02-20T16:44:53.894Z"
   },
   {
    "duration": 25,
    "start_time": "2025-02-20T16:44:54.047Z"
   },
   {
    "duration": 44,
    "start_time": "2025-02-20T16:44:54.073Z"
   },
   {
    "duration": 37,
    "start_time": "2025-02-20T16:44:54.119Z"
   },
   {
    "duration": 34,
    "start_time": "2025-02-20T16:44:54.157Z"
   },
   {
    "duration": 8,
    "start_time": "2025-02-20T16:44:54.193Z"
   },
   {
    "duration": 275,
    "start_time": "2025-02-20T16:44:54.203Z"
   },
   {
    "duration": 5,
    "start_time": "2025-02-20T16:44:54.480Z"
   },
   {
    "duration": 157,
    "start_time": "2025-02-20T16:44:54.487Z"
   },
   {
    "duration": 18,
    "start_time": "2025-02-20T16:44:54.646Z"
   },
   {
    "duration": 227,
    "start_time": "2025-02-20T16:44:54.665Z"
   },
   {
    "duration": 11,
    "start_time": "2025-02-20T16:44:54.894Z"
   },
   {
    "duration": 267,
    "start_time": "2025-02-20T16:44:54.907Z"
   },
   {
    "duration": 132,
    "start_time": "2025-02-20T16:44:55.176Z"
   },
   {
    "duration": 8,
    "start_time": "2025-02-20T16:44:55.310Z"
   },
   {
    "duration": 407,
    "start_time": "2025-02-20T16:44:55.322Z"
   },
   {
    "duration": 17,
    "start_time": "2025-02-20T16:44:55.731Z"
   },
   {
    "duration": 5,
    "start_time": "2025-02-20T16:44:55.750Z"
   },
   {
    "duration": 427,
    "start_time": "2025-02-20T16:44:55.757Z"
   },
   {
    "duration": 22,
    "start_time": "2025-02-20T16:44:56.186Z"
   },
   {
    "duration": 109,
    "start_time": "2025-02-20T16:44:56.211Z"
   },
   {
    "duration": 401,
    "start_time": "2025-02-20T16:44:56.322Z"
   },
   {
    "duration": 8,
    "start_time": "2025-02-20T16:44:56.725Z"
   },
   {
    "duration": 11,
    "start_time": "2025-02-20T16:44:56.735Z"
   },
   {
    "duration": 12,
    "start_time": "2025-02-20T16:44:56.748Z"
   },
   {
    "duration": 24,
    "start_time": "2025-02-20T16:44:56.762Z"
   },
   {
    "duration": 19,
    "start_time": "2025-02-20T16:44:56.788Z"
   },
   {
    "duration": 8,
    "start_time": "2025-02-20T16:44:56.809Z"
   },
   {
    "duration": 290,
    "start_time": "2025-02-20T16:44:56.818Z"
   },
   {
    "duration": 480,
    "start_time": "2025-02-20T16:44:57.110Z"
   },
   {
    "duration": 17,
    "start_time": "2025-02-20T16:44:57.592Z"
   },
   {
    "duration": 193,
    "start_time": "2025-02-20T16:44:57.610Z"
   },
   {
    "duration": 26,
    "start_time": "2025-02-20T16:44:57.804Z"
   },
   {
    "duration": 69,
    "start_time": "2025-02-20T16:44:57.831Z"
   },
   {
    "duration": 57,
    "start_time": "2025-02-20T16:44:57.901Z"
   },
   {
    "duration": 511,
    "start_time": "2025-02-20T16:44:57.959Z"
   },
   {
    "duration": 413,
    "start_time": "2025-02-20T16:44:58.472Z"
   },
   {
    "duration": 16,
    "start_time": "2025-02-20T16:44:58.887Z"
   },
   {
    "duration": 385,
    "start_time": "2025-02-20T16:44:58.904Z"
   },
   {
    "duration": 535,
    "start_time": "2025-02-20T16:44:59.290Z"
   },
   {
    "duration": 8,
    "start_time": "2025-02-20T16:44:59.826Z"
   },
   {
    "duration": 27,
    "start_time": "2025-02-20T16:44:59.836Z"
   },
   {
    "duration": 23,
    "start_time": "2025-02-20T16:44:59.864Z"
   },
   {
    "duration": 4,
    "start_time": "2025-02-20T16:44:59.888Z"
   },
   {
    "duration": 28,
    "start_time": "2025-02-20T16:44:59.893Z"
   },
   {
    "duration": 133,
    "start_time": "2025-02-20T16:44:59.923Z"
   },
   {
    "duration": 62,
    "start_time": "2025-02-20T16:45:00.058Z"
   },
   {
    "duration": 45,
    "start_time": "2025-02-20T16:45:00.122Z"
   },
   {
    "duration": 25,
    "start_time": "2025-02-20T16:45:00.168Z"
   },
   {
    "duration": 169,
    "start_time": "2025-02-20T16:45:59.766Z"
   },
   {
    "duration": 189,
    "start_time": "2025-02-20T16:46:13.440Z"
   },
   {
    "duration": 153,
    "start_time": "2025-02-20T16:46:23.752Z"
   },
   {
    "duration": 143,
    "start_time": "2025-02-20T16:46:46.276Z"
   },
   {
    "duration": 147,
    "start_time": "2025-02-20T16:53:29.973Z"
   },
   {
    "duration": 71,
    "start_time": "2025-02-20T16:54:18.593Z"
   },
   {
    "duration": 167,
    "start_time": "2025-02-20T16:54:46.414Z"
   },
   {
    "duration": 160,
    "start_time": "2025-02-20T16:54:58.357Z"
   },
   {
    "duration": 149,
    "start_time": "2025-02-20T16:55:26.503Z"
   },
   {
    "duration": 260,
    "start_time": "2025-02-20T16:55:34.713Z"
   },
   {
    "duration": 170,
    "start_time": "2025-02-20T17:02:50.833Z"
   },
   {
    "duration": 178,
    "start_time": "2025-02-20T17:03:03.003Z"
   },
   {
    "duration": 149,
    "start_time": "2025-02-20T17:04:29.939Z"
   },
   {
    "duration": 94,
    "start_time": "2025-02-20T17:12:38.256Z"
   },
   {
    "duration": 97,
    "start_time": "2025-02-20T17:12:55.279Z"
   },
   {
    "duration": 94,
    "start_time": "2025-02-20T17:13:38.159Z"
   },
   {
    "duration": 179,
    "start_time": "2025-02-20T17:14:27.954Z"
   },
   {
    "duration": 226,
    "start_time": "2025-02-20T17:14:40.124Z"
   },
   {
    "duration": 216,
    "start_time": "2025-02-20T17:16:07.471Z"
   },
   {
    "duration": 229,
    "start_time": "2025-02-20T17:16:14.965Z"
   },
   {
    "duration": 215,
    "start_time": "2025-02-20T17:25:10.431Z"
   },
   {
    "duration": 324,
    "start_time": "2025-02-20T17:25:44.336Z"
   },
   {
    "duration": 117,
    "start_time": "2025-02-20T17:26:30.239Z"
   },
   {
    "duration": 12,
    "start_time": "2025-02-20T17:26:52.480Z"
   },
   {
    "duration": 8,
    "start_time": "2025-02-20T17:27:01.543Z"
   },
   {
    "duration": 292,
    "start_time": "2025-02-20T17:58:54.099Z"
   },
   {
    "duration": 1109,
    "start_time": "2025-02-20T18:00:49.970Z"
   },
   {
    "duration": 116,
    "start_time": "2025-02-20T18:00:51.081Z"
   },
   {
    "duration": 14,
    "start_time": "2025-02-20T18:00:51.198Z"
   },
   {
    "duration": 43,
    "start_time": "2025-02-20T18:00:51.213Z"
   },
   {
    "duration": 33,
    "start_time": "2025-02-20T18:00:51.258Z"
   },
   {
    "duration": 42,
    "start_time": "2025-02-20T18:00:51.292Z"
   },
   {
    "duration": 22,
    "start_time": "2025-02-20T18:00:51.336Z"
   },
   {
    "duration": 252,
    "start_time": "2025-02-20T18:00:51.360Z"
   },
   {
    "duration": 6,
    "start_time": "2025-02-20T18:00:51.614Z"
   },
   {
    "duration": 384,
    "start_time": "2025-02-20T18:00:51.622Z"
   },
   {
    "duration": 11,
    "start_time": "2025-02-20T18:00:52.008Z"
   },
   {
    "duration": 51,
    "start_time": "2025-02-20T18:00:52.020Z"
   },
   {
    "duration": 125,
    "start_time": "2025-02-20T18:00:52.073Z"
   },
   {
    "duration": 51,
    "start_time": "2025-02-20T18:00:52.202Z"
   },
   {
    "duration": 119,
    "start_time": "2025-02-20T18:00:52.255Z"
   },
   {
    "duration": 28,
    "start_time": "2025-02-20T18:00:52.376Z"
   },
   {
    "duration": 51,
    "start_time": "2025-02-20T18:00:52.405Z"
   },
   {
    "duration": 61,
    "start_time": "2025-02-20T18:00:52.457Z"
   },
   {
    "duration": 295,
    "start_time": "2025-02-20T18:00:52.520Z"
   },
   {
    "duration": 204,
    "start_time": "2025-02-20T18:00:52.817Z"
   },
   {
    "duration": 6,
    "start_time": "2025-02-20T18:00:53.023Z"
   },
   {
    "duration": 262,
    "start_time": "2025-02-20T18:00:53.030Z"
   },
   {
    "duration": 66,
    "start_time": "2025-02-20T18:00:53.295Z"
   },
   {
    "duration": 383,
    "start_time": "2025-02-20T18:00:53.362Z"
   },
   {
    "duration": 4,
    "start_time": "2025-02-20T18:00:53.747Z"
   },
   {
    "duration": 288,
    "start_time": "2025-02-20T18:00:53.753Z"
   },
   {
    "duration": 132,
    "start_time": "2025-02-20T18:00:54.042Z"
   },
   {
    "duration": 9,
    "start_time": "2025-02-20T18:00:54.175Z"
   },
   {
    "duration": 22,
    "start_time": "2025-02-20T18:00:54.185Z"
   },
   {
    "duration": 349,
    "start_time": "2025-02-20T18:00:54.208Z"
   },
   {
    "duration": 17,
    "start_time": "2025-02-20T18:00:54.559Z"
   },
   {
    "duration": 372,
    "start_time": "2025-02-20T18:06:31.874Z"
   },
   {
    "duration": 244,
    "start_time": "2025-02-20T18:13:30.479Z"
   },
   {
    "duration": 293,
    "start_time": "2025-02-20T18:32:00.327Z"
   },
   {
    "duration": 514,
    "start_time": "2025-02-20T18:47:42.317Z"
   },
   {
    "duration": 425,
    "start_time": "2025-02-20T18:47:52.067Z"
   },
   {
    "duration": 398,
    "start_time": "2025-02-20T18:48:26.306Z"
   },
   {
    "duration": 3,
    "start_time": "2025-02-20T18:56:05.136Z"
   },
   {
    "duration": 1161,
    "start_time": "2025-02-20T19:18:15.695Z"
   },
   {
    "duration": 127,
    "start_time": "2025-02-20T19:18:16.858Z"
   },
   {
    "duration": 12,
    "start_time": "2025-02-20T19:18:16.987Z"
   },
   {
    "duration": 39,
    "start_time": "2025-02-20T19:18:17.001Z"
   },
   {
    "duration": 34,
    "start_time": "2025-02-20T19:18:17.043Z"
   },
   {
    "duration": 34,
    "start_time": "2025-02-20T19:18:17.079Z"
   },
   {
    "duration": 65,
    "start_time": "2025-02-20T19:18:17.115Z"
   },
   {
    "duration": 270,
    "start_time": "2025-02-20T19:18:17.182Z"
   },
   {
    "duration": 7,
    "start_time": "2025-02-20T19:18:17.455Z"
   },
   {
    "duration": 340,
    "start_time": "2025-02-20T19:18:17.464Z"
   },
   {
    "duration": 10,
    "start_time": "2025-02-20T19:18:17.815Z"
   },
   {
    "duration": 22,
    "start_time": "2025-02-20T19:18:17.827Z"
   },
   {
    "duration": 84,
    "start_time": "2025-02-20T19:18:17.851Z"
   },
   {
    "duration": 106,
    "start_time": "2025-02-20T19:18:17.939Z"
   },
   {
    "duration": 20,
    "start_time": "2025-02-20T19:18:18.047Z"
   },
   {
    "duration": 45,
    "start_time": "2025-02-20T19:18:18.069Z"
   },
   {
    "duration": 22,
    "start_time": "2025-02-20T19:18:18.117Z"
   },
   {
    "duration": 21,
    "start_time": "2025-02-20T19:18:18.140Z"
   },
   {
    "duration": 209,
    "start_time": "2025-02-20T19:18:18.163Z"
   },
   {
    "duration": 206,
    "start_time": "2025-02-20T19:18:18.374Z"
   },
   {
    "duration": 6,
    "start_time": "2025-02-20T19:18:18.581Z"
   },
   {
    "duration": 211,
    "start_time": "2025-02-20T19:18:18.589Z"
   },
   {
    "duration": 19,
    "start_time": "2025-02-20T19:18:18.814Z"
   },
   {
    "duration": 299,
    "start_time": "2025-02-20T19:18:18.835Z"
   },
   {
    "duration": 6,
    "start_time": "2025-02-20T19:18:19.136Z"
   },
   {
    "duration": 279,
    "start_time": "2025-02-20T19:18:19.143Z"
   },
   {
    "duration": 140,
    "start_time": "2025-02-20T19:18:19.424Z"
   },
   {
    "duration": 11,
    "start_time": "2025-02-20T19:18:19.566Z"
   },
   {
    "duration": 98,
    "start_time": "2025-02-20T19:18:19.581Z"
   },
   {
    "duration": 373,
    "start_time": "2025-02-20T19:18:19.681Z"
   },
   {
    "duration": 17,
    "start_time": "2025-02-20T19:18:20.056Z"
   },
   {
    "duration": 301,
    "start_time": "2025-02-20T19:18:20.075Z"
   },
   {
    "duration": 36,
    "start_time": "2025-02-20T19:18:20.378Z"
   },
   {
    "duration": 4,
    "start_time": "2025-02-20T19:18:20.416Z"
   },
   {
    "duration": 28,
    "start_time": "2025-02-20T19:18:20.421Z"
   },
   {
    "duration": 442,
    "start_time": "2025-02-20T19:18:20.450Z"
   },
   {
    "duration": 22,
    "start_time": "2025-02-20T19:18:20.894Z"
   },
   {
    "duration": 13,
    "start_time": "2025-02-20T19:18:20.917Z"
   },
   {
    "duration": 31,
    "start_time": "2025-02-20T19:18:20.931Z"
   },
   {
    "duration": 12,
    "start_time": "2025-02-20T19:18:20.964Z"
   },
   {
    "duration": 9,
    "start_time": "2025-02-20T19:18:20.980Z"
   },
   {
    "duration": 24,
    "start_time": "2025-02-20T19:18:20.990Z"
   },
   {
    "duration": 315,
    "start_time": "2025-02-20T19:18:21.016Z"
   },
   {
    "duration": 538,
    "start_time": "2025-02-20T19:18:21.333Z"
   },
   {
    "duration": 9,
    "start_time": "2025-02-20T19:18:21.874Z"
   },
   {
    "duration": 362,
    "start_time": "2025-02-20T19:18:21.885Z"
   },
   {
    "duration": 27,
    "start_time": "2025-02-20T19:18:22.249Z"
   },
   {
    "duration": 35,
    "start_time": "2025-02-20T19:18:22.278Z"
   },
   {
    "duration": 21,
    "start_time": "2025-02-20T19:18:22.314Z"
   },
   {
    "duration": 419,
    "start_time": "2025-02-20T19:18:22.337Z"
   },
   {
    "duration": 426,
    "start_time": "2025-02-20T19:18:22.758Z"
   },
   {
    "duration": 29,
    "start_time": "2025-02-20T19:18:23.186Z"
   },
   {
    "duration": 428,
    "start_time": "2025-02-20T19:18:23.217Z"
   },
   {
    "duration": 578,
    "start_time": "2025-02-20T19:18:23.648Z"
   },
   {
    "duration": 10,
    "start_time": "2025-02-20T19:18:24.228Z"
   },
   {
    "duration": 13,
    "start_time": "2025-02-20T19:18:24.240Z"
   },
   {
    "duration": 64,
    "start_time": "2025-02-20T19:18:24.255Z"
   },
   {
    "duration": 57,
    "start_time": "2025-02-20T19:18:24.322Z"
   },
   {
    "duration": 18,
    "start_time": "2025-02-20T19:18:24.382Z"
   },
   {
    "duration": 161,
    "start_time": "2025-02-20T19:18:24.401Z"
   },
   {
    "duration": 6,
    "start_time": "2025-02-20T19:18:24.564Z"
   },
   {
    "duration": 148,
    "start_time": "2025-02-20T19:18:24.572Z"
   },
   {
    "duration": 15,
    "start_time": "2025-02-20T19:18:24.721Z"
   },
   {
    "duration": 128,
    "start_time": "2025-02-20T19:42:26.784Z"
   },
   {
    "duration": 4,
    "start_time": "2025-02-20T19:42:29.765Z"
   },
   {
    "duration": 83,
    "start_time": "2025-02-20T19:43:37.028Z"
   },
   {
    "duration": 76,
    "start_time": "2025-02-20T19:43:53.054Z"
   },
   {
    "duration": 4,
    "start_time": "2025-02-20T19:44:35.796Z"
   },
   {
    "duration": 16,
    "start_time": "2025-02-20T19:44:47.405Z"
   },
   {
    "duration": 5,
    "start_time": "2025-02-20T19:44:55.824Z"
   },
   {
    "duration": 33,
    "start_time": "2025-02-20T19:53:22.575Z"
   },
   {
    "duration": 7,
    "start_time": "2025-02-20T19:53:52.619Z"
   },
   {
    "duration": 19,
    "start_time": "2025-02-20T19:53:55.540Z"
   },
   {
    "duration": 29,
    "start_time": "2025-02-20T19:54:21.758Z"
   },
   {
    "duration": 49,
    "start_time": "2025-02-20T19:54:47.600Z"
   },
   {
    "duration": 4,
    "start_time": "2025-02-20T19:55:28.186Z"
   },
   {
    "duration": 10,
    "start_time": "2025-02-20T19:56:40.356Z"
   },
   {
    "duration": 476,
    "start_time": "2025-02-20T19:57:56.855Z"
   },
   {
    "duration": 380,
    "start_time": "2025-02-20T20:26:47.124Z"
   },
   {
    "duration": 1009,
    "start_time": "2025-02-20T20:28:14.260Z"
   },
   {
    "duration": 126,
    "start_time": "2025-02-20T20:28:15.271Z"
   },
   {
    "duration": 12,
    "start_time": "2025-02-20T20:28:15.399Z"
   },
   {
    "duration": 10,
    "start_time": "2025-02-20T20:28:15.413Z"
   },
   {
    "duration": 22,
    "start_time": "2025-02-20T20:28:15.424Z"
   },
   {
    "duration": 45,
    "start_time": "2025-02-20T20:28:15.447Z"
   },
   {
    "duration": 38,
    "start_time": "2025-02-20T20:28:15.494Z"
   },
   {
    "duration": 272,
    "start_time": "2025-02-20T20:28:15.534Z"
   },
   {
    "duration": 8,
    "start_time": "2025-02-20T20:28:15.807Z"
   },
   {
    "duration": 346,
    "start_time": "2025-02-20T20:28:15.817Z"
   },
   {
    "duration": 9,
    "start_time": "2025-02-20T20:28:16.165Z"
   },
   {
    "duration": 12,
    "start_time": "2025-02-20T20:28:16.175Z"
   },
   {
    "duration": 11,
    "start_time": "2025-02-20T20:28:16.201Z"
   },
   {
    "duration": 10,
    "start_time": "2025-02-20T20:28:16.214Z"
   },
   {
    "duration": 5,
    "start_time": "2025-02-20T20:28:16.226Z"
   },
   {
    "duration": 155,
    "start_time": "2025-02-20T20:28:16.232Z"
   },
   {
    "duration": 20,
    "start_time": "2025-02-20T20:28:16.389Z"
   },
   {
    "duration": 9,
    "start_time": "2025-02-20T20:28:16.410Z"
   },
   {
    "duration": 155,
    "start_time": "2025-02-20T20:28:16.421Z"
   },
   {
    "duration": 184,
    "start_time": "2025-02-20T20:28:16.577Z"
   },
   {
    "duration": 5,
    "start_time": "2025-02-20T20:28:16.763Z"
   },
   {
    "duration": 123,
    "start_time": "2025-02-20T20:28:16.770Z"
   },
   {
    "duration": 17,
    "start_time": "2025-02-20T20:28:16.894Z"
   },
   {
    "duration": 286,
    "start_time": "2025-02-20T20:28:16.912Z"
   },
   {
    "duration": 6,
    "start_time": "2025-02-20T20:28:17.200Z"
   },
   {
    "duration": 248,
    "start_time": "2025-02-20T20:28:17.208Z"
   },
   {
    "duration": 125,
    "start_time": "2025-02-20T20:28:17.457Z"
   },
   {
    "duration": 8,
    "start_time": "2025-02-20T20:28:17.585Z"
   },
   {
    "duration": 36,
    "start_time": "2025-02-20T20:28:17.602Z"
   },
   {
    "duration": 372,
    "start_time": "2025-02-20T20:28:17.640Z"
   },
   {
    "duration": 16,
    "start_time": "2025-02-20T20:28:18.014Z"
   },
   {
    "duration": 315,
    "start_time": "2025-02-20T20:28:18.032Z"
   },
   {
    "duration": 13,
    "start_time": "2025-02-20T20:28:18.349Z"
   },
   {
    "duration": 56,
    "start_time": "2025-02-20T20:28:18.363Z"
   },
   {
    "duration": 13,
    "start_time": "2025-02-20T20:28:18.421Z"
   },
   {
    "duration": 409,
    "start_time": "2025-02-20T20:28:18.436Z"
   },
   {
    "duration": 9,
    "start_time": "2025-02-20T20:28:18.846Z"
   },
   {
    "duration": 43,
    "start_time": "2025-02-20T20:28:18.856Z"
   },
   {
    "duration": 86,
    "start_time": "2025-02-20T20:28:18.901Z"
   },
   {
    "duration": 13,
    "start_time": "2025-02-20T20:28:18.988Z"
   },
   {
    "duration": 7,
    "start_time": "2025-02-20T20:28:19.002Z"
   },
   {
    "duration": 8,
    "start_time": "2025-02-20T20:28:19.011Z"
   },
   {
    "duration": 309,
    "start_time": "2025-02-20T20:28:19.020Z"
   },
   {
    "duration": 495,
    "start_time": "2025-02-20T20:28:19.331Z"
   },
   {
    "duration": 9,
    "start_time": "2025-02-20T20:28:19.827Z"
   },
   {
    "duration": 221,
    "start_time": "2025-02-20T20:28:19.838Z"
   },
   {
    "duration": 4,
    "start_time": "2025-02-20T20:28:20.060Z"
   },
   {
    "duration": 38,
    "start_time": "2025-02-20T20:28:20.066Z"
   },
   {
    "duration": 10,
    "start_time": "2025-02-20T20:28:20.105Z"
   },
   {
    "duration": 34,
    "start_time": "2025-02-20T20:28:20.117Z"
   },
   {
    "duration": 22,
    "start_time": "2025-02-20T20:28:20.153Z"
   },
   {
    "duration": 438,
    "start_time": "2025-02-20T20:28:20.177Z"
   },
   {
    "duration": 398,
    "start_time": "2025-02-20T20:28:20.616Z"
   },
   {
    "duration": 404,
    "start_time": "2025-02-20T20:28:21.016Z"
   },
   {
    "duration": 8,
    "start_time": "2025-02-20T20:28:21.421Z"
   },
   {
    "duration": 489,
    "start_time": "2025-02-20T20:28:21.430Z"
   },
   {
    "duration": 8,
    "start_time": "2025-02-20T20:28:21.920Z"
   },
   {
    "duration": 22,
    "start_time": "2025-02-20T20:28:21.930Z"
   },
   {
    "duration": 30,
    "start_time": "2025-02-20T20:28:21.954Z"
   },
   {
    "duration": 4,
    "start_time": "2025-02-20T20:28:21.986Z"
   },
   {
    "duration": 6,
    "start_time": "2025-02-20T20:28:21.992Z"
   },
   {
    "duration": 139,
    "start_time": "2025-02-20T20:28:22.002Z"
   },
   {
    "duration": 5,
    "start_time": "2025-02-20T20:28:22.143Z"
   },
   {
    "duration": 7,
    "start_time": "2025-02-20T20:28:22.149Z"
   },
   {
    "duration": 24,
    "start_time": "2025-02-20T20:28:22.157Z"
   },
   {
    "duration": 43,
    "start_time": "2025-02-20T21:01:12.296Z"
   },
   {
    "duration": 1419,
    "start_time": "2025-02-20T21:01:55.670Z"
   },
   {
    "duration": 95,
    "start_time": "2025-02-20T21:02:18.790Z"
   },
   {
    "duration": 12,
    "start_time": "2025-02-20T21:02:59.589Z"
   },
   {
    "duration": 1082,
    "start_time": "2025-02-20T21:03:24.599Z"
   },
   {
    "duration": 115,
    "start_time": "2025-02-20T21:03:25.683Z"
   },
   {
    "duration": 13,
    "start_time": "2025-02-20T21:03:25.800Z"
   },
   {
    "duration": 20,
    "start_time": "2025-02-20T21:03:25.814Z"
   },
   {
    "duration": 12,
    "start_time": "2025-02-20T21:03:25.836Z"
   },
   {
    "duration": 20,
    "start_time": "2025-02-20T21:03:25.849Z"
   },
   {
    "duration": 18,
    "start_time": "2025-02-20T21:03:25.870Z"
   },
   {
    "duration": 283,
    "start_time": "2025-02-20T21:03:25.889Z"
   },
   {
    "duration": 6,
    "start_time": "2025-02-20T21:03:26.173Z"
   },
   {
    "duration": 285,
    "start_time": "2025-02-20T21:03:26.180Z"
   },
   {
    "duration": 9,
    "start_time": "2025-02-20T21:03:26.467Z"
   },
   {
    "duration": 43,
    "start_time": "2025-02-20T21:03:26.478Z"
   },
   {
    "duration": 28,
    "start_time": "2025-02-20T21:03:26.522Z"
   },
   {
    "duration": 5,
    "start_time": "2025-02-20T21:03:26.554Z"
   },
   {
    "duration": 9,
    "start_time": "2025-02-20T21:03:26.560Z"
   },
   {
    "duration": 16,
    "start_time": "2025-02-20T21:03:26.571Z"
   },
   {
    "duration": 7,
    "start_time": "2025-02-20T21:03:26.589Z"
   },
   {
    "duration": 11,
    "start_time": "2025-02-20T21:03:26.598Z"
   },
   {
    "duration": 162,
    "start_time": "2025-02-20T21:03:26.610Z"
   },
   {
    "duration": 180,
    "start_time": "2025-02-20T21:03:26.774Z"
   },
   {
    "duration": 6,
    "start_time": "2025-02-20T21:03:26.955Z"
   },
   {
    "duration": 144,
    "start_time": "2025-02-20T21:03:26.962Z"
   },
   {
    "duration": 17,
    "start_time": "2025-02-20T21:03:27.108Z"
   },
   {
    "duration": 480,
    "start_time": "2025-02-20T21:03:27.127Z"
   },
   {
    "duration": 7,
    "start_time": "2025-02-20T21:03:27.608Z"
   },
   {
    "duration": 262,
    "start_time": "2025-02-20T21:03:27.617Z"
   },
   {
    "duration": 134,
    "start_time": "2025-02-20T21:03:27.881Z"
   },
   {
    "duration": 9,
    "start_time": "2025-02-20T21:03:28.017Z"
   },
   {
    "duration": 30,
    "start_time": "2025-02-20T21:03:28.028Z"
   },
   {
    "duration": 373,
    "start_time": "2025-02-20T21:03:28.060Z"
   },
   {
    "duration": 16,
    "start_time": "2025-02-20T21:03:28.435Z"
   },
   {
    "duration": 436,
    "start_time": "2025-02-20T21:03:28.453Z"
   },
   {
    "duration": 18,
    "start_time": "2025-02-20T21:03:28.891Z"
   },
   {
    "duration": 10,
    "start_time": "2025-02-20T21:03:28.911Z"
   },
   {
    "duration": 11,
    "start_time": "2025-02-20T21:03:28.922Z"
   },
   {
    "duration": 403,
    "start_time": "2025-02-20T21:03:28.935Z"
   },
   {
    "duration": 9,
    "start_time": "2025-02-20T21:03:29.340Z"
   },
   {
    "duration": 59,
    "start_time": "2025-02-20T21:03:29.350Z"
   },
   {
    "duration": 20,
    "start_time": "2025-02-20T21:03:29.411Z"
   },
   {
    "duration": 19,
    "start_time": "2025-02-20T21:03:29.433Z"
   },
   {
    "duration": 10,
    "start_time": "2025-02-20T21:03:29.457Z"
   },
   {
    "duration": 36,
    "start_time": "2025-02-20T21:03:29.469Z"
   },
   {
    "duration": 297,
    "start_time": "2025-02-20T21:03:29.507Z"
   },
   {
    "duration": 501,
    "start_time": "2025-02-20T21:03:29.806Z"
   },
   {
    "duration": 10,
    "start_time": "2025-02-20T21:03:30.309Z"
   },
   {
    "duration": 398,
    "start_time": "2025-02-20T21:03:30.321Z"
   },
   {
    "duration": 5,
    "start_time": "2025-02-20T21:03:30.721Z"
   },
   {
    "duration": 84,
    "start_time": "2025-02-20T21:03:30.728Z"
   },
   {
    "duration": 15,
    "start_time": "2025-02-20T21:03:30.814Z"
   },
   {
    "duration": 45,
    "start_time": "2025-02-20T21:03:30.831Z"
   },
   {
    "duration": 45,
    "start_time": "2025-02-20T21:03:30.879Z"
   },
   {
    "duration": 467,
    "start_time": "2025-02-20T21:03:30.926Z"
   },
   {
    "duration": 425,
    "start_time": "2025-02-20T21:03:31.395Z"
   },
   {
    "duration": 432,
    "start_time": "2025-02-20T21:03:31.822Z"
   },
   {
    "duration": 10,
    "start_time": "2025-02-20T21:03:32.255Z"
   },
   {
    "duration": 526,
    "start_time": "2025-02-20T21:03:32.267Z"
   },
   {
    "duration": 13,
    "start_time": "2025-02-20T21:03:32.796Z"
   },
   {
    "duration": 18,
    "start_time": "2025-02-20T21:03:32.811Z"
   },
   {
    "duration": 22,
    "start_time": "2025-02-20T21:03:32.831Z"
   },
   {
    "duration": 82,
    "start_time": "2025-02-20T21:03:50.308Z"
   },
   {
    "duration": 3,
    "start_time": "2025-02-20T21:06:02.709Z"
   },
   {
    "duration": 199,
    "start_time": "2025-02-20T21:06:09.061Z"
   },
   {
    "duration": 85,
    "start_time": "2025-02-20T21:11:12.885Z"
   },
   {
    "duration": 4,
    "start_time": "2025-02-20T21:11:22.136Z"
   },
   {
    "duration": 196,
    "start_time": "2025-02-20T21:11:25.259Z"
   },
   {
    "duration": 21,
    "start_time": "2025-02-20T21:14:12.718Z"
   },
   {
    "duration": 72,
    "start_time": "2025-02-20T21:14:17.916Z"
   },
   {
    "duration": 4,
    "start_time": "2025-02-20T21:14:24.439Z"
   },
   {
    "duration": 195,
    "start_time": "2025-02-20T21:14:27.596Z"
   },
   {
    "duration": 99,
    "start_time": "2025-02-20T21:16:00.867Z"
   },
   {
    "duration": 1078,
    "start_time": "2025-02-20T21:16:48.476Z"
   },
   {
    "duration": 102,
    "start_time": "2025-02-20T21:16:49.556Z"
   },
   {
    "duration": 11,
    "start_time": "2025-02-20T21:16:49.660Z"
   },
   {
    "duration": 9,
    "start_time": "2025-02-20T21:16:49.673Z"
   },
   {
    "duration": 18,
    "start_time": "2025-02-20T21:16:49.684Z"
   },
   {
    "duration": 18,
    "start_time": "2025-02-20T21:16:49.703Z"
   },
   {
    "duration": 18,
    "start_time": "2025-02-20T21:16:49.722Z"
   },
   {
    "duration": 247,
    "start_time": "2025-02-20T21:16:49.741Z"
   },
   {
    "duration": 12,
    "start_time": "2025-02-20T21:16:49.990Z"
   },
   {
    "duration": 319,
    "start_time": "2025-02-20T21:16:50.004Z"
   },
   {
    "duration": 9,
    "start_time": "2025-02-20T21:16:50.325Z"
   },
   {
    "duration": 26,
    "start_time": "2025-02-20T21:16:50.335Z"
   },
   {
    "duration": 8,
    "start_time": "2025-02-20T21:16:50.363Z"
   },
   {
    "duration": 10,
    "start_time": "2025-02-20T21:16:50.373Z"
   },
   {
    "duration": 5,
    "start_time": "2025-02-20T21:16:50.384Z"
   },
   {
    "duration": 49,
    "start_time": "2025-02-20T21:16:50.390Z"
   },
   {
    "duration": 9,
    "start_time": "2025-02-20T21:16:50.440Z"
   },
   {
    "duration": 78,
    "start_time": "2025-02-20T21:16:50.450Z"
   },
   {
    "duration": 156,
    "start_time": "2025-02-20T21:16:50.530Z"
   },
   {
    "duration": 183,
    "start_time": "2025-02-20T21:16:50.687Z"
   },
   {
    "duration": 5,
    "start_time": "2025-02-20T21:16:50.872Z"
   },
   {
    "duration": 108,
    "start_time": "2025-02-20T21:16:50.878Z"
   },
   {
    "duration": 21,
    "start_time": "2025-02-20T21:16:50.988Z"
   },
   {
    "duration": 228,
    "start_time": "2025-02-20T21:16:51.010Z"
   },
   {
    "duration": 6,
    "start_time": "2025-02-20T21:16:51.239Z"
   },
   {
    "duration": 362,
    "start_time": "2025-02-20T21:16:51.247Z"
   },
   {
    "duration": 129,
    "start_time": "2025-02-20T21:16:51.610Z"
   },
   {
    "duration": 8,
    "start_time": "2025-02-20T21:16:51.744Z"
   },
   {
    "duration": 24,
    "start_time": "2025-02-20T21:16:51.754Z"
   },
   {
    "duration": 340,
    "start_time": "2025-02-20T21:16:51.780Z"
   },
   {
    "duration": 17,
    "start_time": "2025-02-20T21:16:52.121Z"
   },
   {
    "duration": 283,
    "start_time": "2025-02-20T21:16:52.140Z"
   },
   {
    "duration": 12,
    "start_time": "2025-02-20T21:16:52.424Z"
   },
   {
    "duration": 128,
    "start_time": "2025-02-20T21:16:52.437Z"
   },
   {
    "duration": 121,
    "start_time": "2025-02-20T21:16:52.567Z"
   },
   {
    "duration": 404,
    "start_time": "2025-02-20T21:16:52.690Z"
   },
   {
    "duration": 12,
    "start_time": "2025-02-20T21:16:53.096Z"
   },
   {
    "duration": 104,
    "start_time": "2025-02-20T21:16:53.109Z"
   },
   {
    "duration": 166,
    "start_time": "2025-02-20T21:16:53.215Z"
   },
   {
    "duration": 17,
    "start_time": "2025-02-20T21:16:53.383Z"
   },
   {
    "duration": 7,
    "start_time": "2025-02-20T21:16:53.402Z"
   },
   {
    "duration": 11,
    "start_time": "2025-02-20T21:16:53.410Z"
   },
   {
    "duration": 292,
    "start_time": "2025-02-20T21:16:53.423Z"
   },
   {
    "duration": 520,
    "start_time": "2025-02-20T21:16:53.717Z"
   },
   {
    "duration": 9,
    "start_time": "2025-02-20T21:16:54.238Z"
   },
   {
    "duration": 227,
    "start_time": "2025-02-20T21:16:54.248Z"
   },
   {
    "duration": 4,
    "start_time": "2025-02-20T21:16:54.476Z"
   },
   {
    "duration": 206,
    "start_time": "2025-02-20T21:16:54.482Z"
   },
   {
    "duration": 9,
    "start_time": "2025-02-20T21:16:54.690Z"
   },
   {
    "duration": 30,
    "start_time": "2025-02-20T21:16:54.700Z"
   },
   {
    "duration": 25,
    "start_time": "2025-02-20T21:16:54.732Z"
   },
   {
    "duration": 402,
    "start_time": "2025-02-20T21:16:54.758Z"
   },
   {
    "duration": 387,
    "start_time": "2025-02-20T21:16:55.162Z"
   },
   {
    "duration": 404,
    "start_time": "2025-02-20T21:16:55.551Z"
   },
   {
    "duration": 8,
    "start_time": "2025-02-20T21:16:55.956Z"
   },
   {
    "duration": 545,
    "start_time": "2025-02-20T21:16:55.966Z"
   },
   {
    "duration": 9,
    "start_time": "2025-02-20T21:16:56.512Z"
   },
   {
    "duration": 144,
    "start_time": "2025-02-20T21:16:56.522Z"
   },
   {
    "duration": 34,
    "start_time": "2025-02-20T21:16:56.668Z"
   },
   {
    "duration": 81,
    "start_time": "2025-02-20T21:16:56.703Z"
   },
   {
    "duration": 3,
    "start_time": "2025-02-20T21:16:56.785Z"
   },
   {
    "duration": 218,
    "start_time": "2025-02-20T21:16:56.790Z"
   },
   {
    "duration": 5,
    "start_time": "2025-02-20T21:16:57.010Z"
   },
   {
    "duration": 19,
    "start_time": "2025-02-20T21:16:57.016Z"
   },
   {
    "duration": 35,
    "start_time": "2025-02-20T21:16:57.037Z"
   },
   {
    "duration": 9,
    "start_time": "2025-02-20T21:19:08.800Z"
   },
   {
    "duration": 1001,
    "start_time": "2025-02-20T21:51:13.758Z"
   },
   {
    "duration": 118,
    "start_time": "2025-02-20T21:51:14.760Z"
   },
   {
    "duration": 12,
    "start_time": "2025-02-20T21:51:14.880Z"
   },
   {
    "duration": 26,
    "start_time": "2025-02-20T21:51:14.894Z"
   },
   {
    "duration": 11,
    "start_time": "2025-02-20T21:51:14.921Z"
   },
   {
    "duration": 14,
    "start_time": "2025-02-20T21:51:14.933Z"
   },
   {
    "duration": 10,
    "start_time": "2025-02-20T21:51:14.949Z"
   },
   {
    "duration": 242,
    "start_time": "2025-02-20T21:51:14.960Z"
   },
   {
    "duration": 7,
    "start_time": "2025-02-20T21:51:15.203Z"
   },
   {
    "duration": 353,
    "start_time": "2025-02-20T21:51:15.213Z"
   },
   {
    "duration": 10,
    "start_time": "2025-02-20T21:51:15.568Z"
   },
   {
    "duration": 23,
    "start_time": "2025-02-20T21:51:15.579Z"
   },
   {
    "duration": 12,
    "start_time": "2025-02-20T21:51:15.604Z"
   },
   {
    "duration": 5,
    "start_time": "2025-02-20T21:51:15.617Z"
   },
   {
    "duration": 7,
    "start_time": "2025-02-20T21:51:15.623Z"
   },
   {
    "duration": 7,
    "start_time": "2025-02-20T21:51:15.631Z"
   },
   {
    "duration": 9,
    "start_time": "2025-02-20T21:51:15.640Z"
   },
   {
    "duration": 6,
    "start_time": "2025-02-20T21:51:15.650Z"
   },
   {
    "duration": 177,
    "start_time": "2025-02-20T21:51:15.657Z"
   },
   {
    "duration": 179,
    "start_time": "2025-02-20T21:51:15.836Z"
   },
   {
    "duration": 5,
    "start_time": "2025-02-20T21:51:16.017Z"
   },
   {
    "duration": 119,
    "start_time": "2025-02-20T21:51:16.024Z"
   },
   {
    "duration": 16,
    "start_time": "2025-02-20T21:51:16.145Z"
   },
   {
    "duration": 235,
    "start_time": "2025-02-20T21:51:16.163Z"
   },
   {
    "duration": 5,
    "start_time": "2025-02-20T21:51:16.401Z"
   },
   {
    "duration": 257,
    "start_time": "2025-02-20T21:51:16.408Z"
   },
   {
    "duration": 125,
    "start_time": "2025-02-20T21:51:16.667Z"
   },
   {
    "duration": 8,
    "start_time": "2025-02-20T21:51:16.801Z"
   },
   {
    "duration": 14,
    "start_time": "2025-02-20T21:51:16.810Z"
   },
   {
    "duration": 359,
    "start_time": "2025-02-20T21:51:16.825Z"
   },
   {
    "duration": 26,
    "start_time": "2025-02-20T21:51:17.185Z"
   },
   {
    "duration": 280,
    "start_time": "2025-02-20T21:51:17.213Z"
   },
   {
    "duration": 17,
    "start_time": "2025-02-20T21:51:17.495Z"
   },
   {
    "duration": 48,
    "start_time": "2025-02-20T21:51:17.514Z"
   },
   {
    "duration": 15,
    "start_time": "2025-02-20T21:51:17.564Z"
   },
   {
    "duration": 388,
    "start_time": "2025-02-20T21:51:17.581Z"
   },
   {
    "duration": 12,
    "start_time": "2025-02-20T21:51:17.971Z"
   },
   {
    "duration": 22,
    "start_time": "2025-02-20T21:51:17.985Z"
   },
   {
    "duration": 11,
    "start_time": "2025-02-20T21:51:18.008Z"
   },
   {
    "duration": 14,
    "start_time": "2025-02-20T21:51:18.021Z"
   },
   {
    "duration": 6,
    "start_time": "2025-02-20T21:51:18.036Z"
   },
   {
    "duration": 10,
    "start_time": "2025-02-20T21:51:18.043Z"
   },
   {
    "duration": 307,
    "start_time": "2025-02-20T21:51:18.054Z"
   },
   {
    "duration": 506,
    "start_time": "2025-02-20T21:51:18.363Z"
   },
   {
    "duration": 8,
    "start_time": "2025-02-20T21:51:18.870Z"
   },
   {
    "duration": 315,
    "start_time": "2025-02-20T21:51:18.880Z"
   },
   {
    "duration": 4,
    "start_time": "2025-02-20T21:51:19.197Z"
   },
   {
    "duration": 66,
    "start_time": "2025-02-20T21:51:19.203Z"
   },
   {
    "duration": 142,
    "start_time": "2025-02-20T21:51:19.271Z"
   },
   {
    "duration": 137,
    "start_time": "2025-02-20T21:51:19.415Z"
   },
   {
    "duration": 20,
    "start_time": "2025-02-20T21:51:19.553Z"
   },
   {
    "duration": 393,
    "start_time": "2025-02-20T21:51:19.574Z"
   },
   {
    "duration": 385,
    "start_time": "2025-02-20T21:51:19.969Z"
   },
   {
    "duration": 410,
    "start_time": "2025-02-20T21:51:20.355Z"
   },
   {
    "duration": 8,
    "start_time": "2025-02-20T21:51:20.767Z"
   },
   {
    "duration": 521,
    "start_time": "2025-02-20T21:51:20.776Z"
   },
   {
    "duration": 9,
    "start_time": "2025-02-20T21:51:21.302Z"
   },
   {
    "duration": 150,
    "start_time": "2025-02-20T21:51:21.312Z"
   },
   {
    "duration": 133,
    "start_time": "2025-02-20T21:51:21.463Z"
   },
   {
    "duration": 77,
    "start_time": "2025-02-20T21:51:21.597Z"
   },
   {
    "duration": 3,
    "start_time": "2025-02-20T21:51:21.676Z"
   },
   {
    "duration": 193,
    "start_time": "2025-02-20T21:51:21.681Z"
   },
   {
    "duration": 5,
    "start_time": "2025-02-20T21:51:21.876Z"
   },
   {
    "duration": 20,
    "start_time": "2025-02-20T21:51:21.882Z"
   },
   {
    "duration": 8,
    "start_time": "2025-02-20T21:51:21.904Z"
   },
   {
    "duration": 1134,
    "start_time": "2025-02-21T05:04:51.227Z"
   },
   {
    "duration": 125,
    "start_time": "2025-02-21T05:04:52.363Z"
   },
   {
    "duration": 13,
    "start_time": "2025-02-21T05:04:52.490Z"
   },
   {
    "duration": 14,
    "start_time": "2025-02-21T05:04:52.505Z"
   },
   {
    "duration": 10,
    "start_time": "2025-02-21T05:04:52.521Z"
   },
   {
    "duration": 30,
    "start_time": "2025-02-21T05:04:52.533Z"
   },
   {
    "duration": 44,
    "start_time": "2025-02-21T05:04:52.565Z"
   },
   {
    "duration": 275,
    "start_time": "2025-02-21T05:04:52.611Z"
   },
   {
    "duration": 6,
    "start_time": "2025-02-21T05:04:52.888Z"
   },
   {
    "duration": 328,
    "start_time": "2025-02-21T05:04:52.896Z"
   },
   {
    "duration": 11,
    "start_time": "2025-02-21T05:04:53.226Z"
   },
   {
    "duration": 19,
    "start_time": "2025-02-21T05:04:53.238Z"
   },
   {
    "duration": 25,
    "start_time": "2025-02-21T05:04:53.259Z"
   },
   {
    "duration": 6,
    "start_time": "2025-02-21T05:04:53.288Z"
   },
   {
    "duration": 33,
    "start_time": "2025-02-21T05:04:53.296Z"
   },
   {
    "duration": 8,
    "start_time": "2025-02-21T05:04:53.331Z"
   },
   {
    "duration": 11,
    "start_time": "2025-02-21T05:04:53.340Z"
   },
   {
    "duration": 8,
    "start_time": "2025-02-21T05:04:53.352Z"
   },
   {
    "duration": 188,
    "start_time": "2025-02-21T05:04:53.362Z"
   },
   {
    "duration": 203,
    "start_time": "2025-02-21T05:04:53.552Z"
   },
   {
    "duration": 22,
    "start_time": "2025-02-21T05:04:53.757Z"
   },
   {
    "duration": 112,
    "start_time": "2025-02-21T05:04:53.780Z"
   },
   {
    "duration": 16,
    "start_time": "2025-02-21T05:04:53.894Z"
   },
   {
    "duration": 253,
    "start_time": "2025-02-21T05:04:53.912Z"
   },
   {
    "duration": 8,
    "start_time": "2025-02-21T05:04:54.167Z"
   },
   {
    "duration": 269,
    "start_time": "2025-02-21T05:04:54.179Z"
   },
   {
    "duration": 145,
    "start_time": "2025-02-21T05:04:54.449Z"
   },
   {
    "duration": 8,
    "start_time": "2025-02-21T05:04:54.596Z"
   },
   {
    "duration": 11,
    "start_time": "2025-02-21T05:04:54.606Z"
   },
   {
    "duration": 403,
    "start_time": "2025-02-21T05:04:54.619Z"
   },
   {
    "duration": 19,
    "start_time": "2025-02-21T05:04:55.024Z"
   },
   {
    "duration": 342,
    "start_time": "2025-02-21T05:04:55.044Z"
   },
   {
    "duration": 13,
    "start_time": "2025-02-21T05:04:55.388Z"
   },
   {
    "duration": 15,
    "start_time": "2025-02-21T05:04:55.402Z"
   },
   {
    "duration": 22,
    "start_time": "2025-02-21T05:04:55.418Z"
   },
   {
    "duration": 470,
    "start_time": "2025-02-21T05:04:55.442Z"
   },
   {
    "duration": 9,
    "start_time": "2025-02-21T05:04:55.914Z"
   },
   {
    "duration": 12,
    "start_time": "2025-02-21T05:04:55.925Z"
   },
   {
    "duration": 5,
    "start_time": "2025-02-21T05:04:55.939Z"
   },
   {
    "duration": 41,
    "start_time": "2025-02-21T05:04:55.945Z"
   },
   {
    "duration": 8,
    "start_time": "2025-02-21T05:04:55.992Z"
   },
   {
    "duration": 13,
    "start_time": "2025-02-21T05:04:56.002Z"
   },
   {
    "duration": 374,
    "start_time": "2025-02-21T05:04:56.017Z"
   },
   {
    "duration": 576,
    "start_time": "2025-02-21T05:04:56.393Z"
   },
   {
    "duration": 11,
    "start_time": "2025-02-21T05:04:56.971Z"
   },
   {
    "duration": 246,
    "start_time": "2025-02-21T05:04:56.986Z"
   },
   {
    "duration": 5,
    "start_time": "2025-02-21T05:04:57.234Z"
   },
   {
    "duration": 56,
    "start_time": "2025-02-21T05:04:57.241Z"
   },
   {
    "duration": 10,
    "start_time": "2025-02-21T05:04:57.299Z"
   },
   {
    "duration": 25,
    "start_time": "2025-02-21T05:04:57.310Z"
   },
   {
    "duration": 50,
    "start_time": "2025-02-21T05:04:57.337Z"
   },
   {
    "duration": 477,
    "start_time": "2025-02-21T05:04:57.389Z"
   },
   {
    "duration": 462,
    "start_time": "2025-02-21T05:04:57.872Z"
   },
   {
    "duration": 475,
    "start_time": "2025-02-21T05:04:58.336Z"
   },
   {
    "duration": 9,
    "start_time": "2025-02-21T05:04:58.813Z"
   },
   {
    "duration": 597,
    "start_time": "2025-02-21T05:04:58.824Z"
   },
   {
    "duration": 9,
    "start_time": "2025-02-21T05:04:59.423Z"
   },
   {
    "duration": 4,
    "start_time": "2025-02-21T05:04:59.433Z"
   },
   {
    "duration": 47,
    "start_time": "2025-02-21T05:04:59.438Z"
   },
   {
    "duration": 101,
    "start_time": "2025-02-21T05:04:59.487Z"
   },
   {
    "duration": 4,
    "start_time": "2025-02-21T05:04:59.590Z"
   },
   {
    "duration": 246,
    "start_time": "2025-02-21T05:04:59.596Z"
   },
   {
    "duration": 5,
    "start_time": "2025-02-21T05:04:59.844Z"
   },
   {
    "duration": 32,
    "start_time": "2025-02-21T05:04:59.852Z"
   },
   {
    "duration": 9,
    "start_time": "2025-02-21T05:04:59.886Z"
   }
  ],
  "kernelspec": {
   "display_name": "Python 3 (ipykernel)",
   "language": "python",
   "name": "python3"
  },
  "language_info": {
   "codemirror_mode": {
    "name": "ipython",
    "version": 3
   },
   "file_extension": ".py",
   "mimetype": "text/x-python",
   "name": "python",
   "nbconvert_exporter": "python",
   "pygments_lexer": "ipython3",
   "version": "3.12.7"
  },
  "toc": {
   "base_numbering": 1,
   "nav_menu": {},
   "number_sections": true,
   "sideBar": true,
   "skip_h1_title": true,
   "title_cell": "Table of Contents",
   "title_sidebar": "Contents",
   "toc_cell": false,
   "toc_position": {},
   "toc_section_display": true,
   "toc_window_display": false
  }
 },
 "nbformat": 4,
 "nbformat_minor": 5
}
